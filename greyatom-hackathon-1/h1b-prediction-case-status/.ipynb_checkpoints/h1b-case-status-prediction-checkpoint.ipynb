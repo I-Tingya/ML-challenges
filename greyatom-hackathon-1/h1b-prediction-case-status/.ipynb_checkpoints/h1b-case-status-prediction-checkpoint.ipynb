{
 "cells": [
  {
   "cell_type": "code",
   "execution_count": 46,
   "metadata": {},
   "outputs": [],
   "source": [
    "import pandas as pd\n",
    "import numpy as np\n",
    "import seaborn as sns\n",
    "#sns.set(font_scale = 1)\n",
    "import matplotlib.pyplot as plt\n",
    "%matplotlib inline\n",
    "#plt.rcParams['font.size'] = 5\n",
    "#plt.rc('xtick', labelsize=10) \n",
    "#plt.rc('ytick', labelsize=10)\n",
    "from sklearn.preprocessing import LabelEncoder\n",
    "from imblearn.under_sampling import ClusterCentroids,RandomUnderSampler\n",
    "from imblearn.over_sampling import RandomOverSampler,SMOTE\n",
    "from sklearn.linear_model import LogisticRegression\n",
    "from sklearn.ensemble import RandomForestClassifier,AdaBoostClassifier,GradientBoostingClassifier\n",
    "from xgboost import XGBClassifier\n",
    "from sklearn.model_selection import train_test_split, GridSearchCV\n",
    "from sklearn.metrics import accuracy_score,precision_score,recall_score,f1_score,confusion_matrix,roc_auc_score\n",
    "from sklearn.model_selection import StratifiedKFold\n",
    "from sklearn.model_selection import cross_val_score\n",
    "from sklearn import metrics\n",
    "from sklearn.impute import SimpleImputer\n",
    "import warnings\n",
    "warnings.filterwarnings('ignore')"
   ]
  },
  {
   "cell_type": "code",
   "execution_count": 7,
   "metadata": {},
   "outputs": [],
   "source": [
    "df = pd.read_csv('./data/H-1B_Disclosure_Data_FY17.csv',index_col=0)"
   ]
  },
  {
   "cell_type": "code",
   "execution_count": 8,
   "metadata": {},
   "outputs": [
    {
     "data": {
      "text/html": [
       "<div>\n",
       "<style scoped>\n",
       "    .dataframe tbody tr th:only-of-type {\n",
       "        vertical-align: middle;\n",
       "    }\n",
       "\n",
       "    .dataframe tbody tr th {\n",
       "        vertical-align: top;\n",
       "    }\n",
       "\n",
       "    .dataframe thead th {\n",
       "        text-align: right;\n",
       "    }\n",
       "</style>\n",
       "<table border=\"1\" class=\"dataframe\">\n",
       "  <thead>\n",
       "    <tr style=\"text-align: right;\">\n",
       "      <th></th>\n",
       "      <th>CASE_NUMBER</th>\n",
       "      <th>CASE_STATUS</th>\n",
       "      <th>CASE_SUBMITTED</th>\n",
       "      <th>DECISION_DATE</th>\n",
       "      <th>VISA_CLASS</th>\n",
       "      <th>EMPLOYMENT_START_DATE</th>\n",
       "      <th>EMPLOYMENT_END_DATE</th>\n",
       "      <th>EMPLOYER_NAME</th>\n",
       "      <th>EMPLOYER_BUSINESS_DBA</th>\n",
       "      <th>EMPLOYER_ADDRESS</th>\n",
       "      <th>...</th>\n",
       "      <th>H1B_DEPENDENT</th>\n",
       "      <th>WILLFUL_VIOLATOR</th>\n",
       "      <th>SUPPORT_H1B</th>\n",
       "      <th>LABOR_CON_AGREE</th>\n",
       "      <th>PUBLIC_DISCLOSURE_LOCATION</th>\n",
       "      <th>WORKSITE_CITY</th>\n",
       "      <th>WORKSITE_COUNTY</th>\n",
       "      <th>WORKSITE_STATE</th>\n",
       "      <th>WORKSITE_POSTAL_CODE</th>\n",
       "      <th>ORIGINAL_CERT_DATE</th>\n",
       "    </tr>\n",
       "  </thead>\n",
       "  <tbody>\n",
       "    <tr>\n",
       "      <th>0</th>\n",
       "      <td>I-200-16055-173457</td>\n",
       "      <td>CERTIFIED-WITHDRAWN</td>\n",
       "      <td>2016-02-24</td>\n",
       "      <td>2016-10-01</td>\n",
       "      <td>H-1B</td>\n",
       "      <td>2016-08-10</td>\n",
       "      <td>2019-08-10</td>\n",
       "      <td>DISCOVER PRODUCTS INC.</td>\n",
       "      <td>NaN</td>\n",
       "      <td>2500 LAKE COOK ROAD</td>\n",
       "      <td>...</td>\n",
       "      <td>N</td>\n",
       "      <td>N</td>\n",
       "      <td>NaN</td>\n",
       "      <td>Y</td>\n",
       "      <td>NaN</td>\n",
       "      <td>RIVERWOODS</td>\n",
       "      <td>LAKE</td>\n",
       "      <td>IL</td>\n",
       "      <td>60015</td>\n",
       "      <td>2016-03-01</td>\n",
       "    </tr>\n",
       "    <tr>\n",
       "      <th>1</th>\n",
       "      <td>I-200-16064-557834</td>\n",
       "      <td>CERTIFIED-WITHDRAWN</td>\n",
       "      <td>2016-03-04</td>\n",
       "      <td>2016-10-01</td>\n",
       "      <td>H-1B</td>\n",
       "      <td>2016-08-16</td>\n",
       "      <td>2019-08-16</td>\n",
       "      <td>DFS SERVICES LLC</td>\n",
       "      <td>NaN</td>\n",
       "      <td>2500 LAKE COOK ROAD</td>\n",
       "      <td>...</td>\n",
       "      <td>N</td>\n",
       "      <td>N</td>\n",
       "      <td>NaN</td>\n",
       "      <td>Y</td>\n",
       "      <td>NaN</td>\n",
       "      <td>RIVERWOODS</td>\n",
       "      <td>LAKE</td>\n",
       "      <td>IL</td>\n",
       "      <td>60015</td>\n",
       "      <td>2016-03-08</td>\n",
       "    </tr>\n",
       "    <tr>\n",
       "      <th>2</th>\n",
       "      <td>I-200-16063-996093</td>\n",
       "      <td>CERTIFIED-WITHDRAWN</td>\n",
       "      <td>2016-03-10</td>\n",
       "      <td>2016-10-01</td>\n",
       "      <td>H-1B</td>\n",
       "      <td>2016-09-09</td>\n",
       "      <td>2019-09-09</td>\n",
       "      <td>EASTBANC TECHNOLOGIES LLC</td>\n",
       "      <td>NaN</td>\n",
       "      <td>1211 31ST ST. NW</td>\n",
       "      <td>...</td>\n",
       "      <td>Y</td>\n",
       "      <td>N</td>\n",
       "      <td>Y</td>\n",
       "      <td>NaN</td>\n",
       "      <td>NaN</td>\n",
       "      <td>WASHINGTON</td>\n",
       "      <td>NaN</td>\n",
       "      <td>DC</td>\n",
       "      <td>20007</td>\n",
       "      <td>2016-03-16</td>\n",
       "    </tr>\n",
       "    <tr>\n",
       "      <th>3</th>\n",
       "      <td>I-200-16272-196340</td>\n",
       "      <td>WITHDRAWN</td>\n",
       "      <td>2016-09-28</td>\n",
       "      <td>2016-10-01</td>\n",
       "      <td>H-1B</td>\n",
       "      <td>2017-01-26</td>\n",
       "      <td>2020-01-25</td>\n",
       "      <td>INFO SERVICES LLC</td>\n",
       "      <td>NaN</td>\n",
       "      <td>17177 NORTH LAUREL PARK DR</td>\n",
       "      <td>...</td>\n",
       "      <td>Y</td>\n",
       "      <td>N</td>\n",
       "      <td>Y</td>\n",
       "      <td>NaN</td>\n",
       "      <td>NaN</td>\n",
       "      <td>JERSEY CITY</td>\n",
       "      <td>HUDSON</td>\n",
       "      <td>NJ</td>\n",
       "      <td>07302</td>\n",
       "      <td>NaN</td>\n",
       "    </tr>\n",
       "    <tr>\n",
       "      <th>4</th>\n",
       "      <td>I-200-15053-636744</td>\n",
       "      <td>CERTIFIED-WITHDRAWN</td>\n",
       "      <td>2015-02-22</td>\n",
       "      <td>2016-10-02</td>\n",
       "      <td>H-1B</td>\n",
       "      <td>2015-03-01</td>\n",
       "      <td>2018-03-01</td>\n",
       "      <td>BB&amp;T CORPORATION</td>\n",
       "      <td>NaN</td>\n",
       "      <td>223 WEST NASH STREET</td>\n",
       "      <td>...</td>\n",
       "      <td>N</td>\n",
       "      <td>N</td>\n",
       "      <td>NaN</td>\n",
       "      <td>Y</td>\n",
       "      <td>NaN</td>\n",
       "      <td>NEW YORK</td>\n",
       "      <td>NEW YORK</td>\n",
       "      <td>NY</td>\n",
       "      <td>10036</td>\n",
       "      <td>2015-02-26</td>\n",
       "    </tr>\n",
       "  </tbody>\n",
       "</table>\n",
       "<p>5 rows × 52 columns</p>\n",
       "</div>"
      ],
      "text/plain": [
       "          CASE_NUMBER          CASE_STATUS CASE_SUBMITTED DECISION_DATE  \\\n",
       "0  I-200-16055-173457  CERTIFIED-WITHDRAWN     2016-02-24    2016-10-01   \n",
       "1  I-200-16064-557834  CERTIFIED-WITHDRAWN     2016-03-04    2016-10-01   \n",
       "2  I-200-16063-996093  CERTIFIED-WITHDRAWN     2016-03-10    2016-10-01   \n",
       "3  I-200-16272-196340            WITHDRAWN     2016-09-28    2016-10-01   \n",
       "4  I-200-15053-636744  CERTIFIED-WITHDRAWN     2015-02-22    2016-10-02   \n",
       "\n",
       "  VISA_CLASS EMPLOYMENT_START_DATE EMPLOYMENT_END_DATE  \\\n",
       "0       H-1B            2016-08-10          2019-08-10   \n",
       "1       H-1B            2016-08-16          2019-08-16   \n",
       "2       H-1B            2016-09-09          2019-09-09   \n",
       "3       H-1B            2017-01-26          2020-01-25   \n",
       "4       H-1B            2015-03-01          2018-03-01   \n",
       "\n",
       "               EMPLOYER_NAME EMPLOYER_BUSINESS_DBA  \\\n",
       "0     DISCOVER PRODUCTS INC.                   NaN   \n",
       "1           DFS SERVICES LLC                   NaN   \n",
       "2  EASTBANC TECHNOLOGIES LLC                   NaN   \n",
       "3          INFO SERVICES LLC                   NaN   \n",
       "4           BB&T CORPORATION                   NaN   \n",
       "\n",
       "             EMPLOYER_ADDRESS        ...         H1B_DEPENDENT  \\\n",
       "0         2500 LAKE COOK ROAD        ...                     N   \n",
       "1         2500 LAKE COOK ROAD        ...                     N   \n",
       "2            1211 31ST ST. NW        ...                     Y   \n",
       "3  17177 NORTH LAUREL PARK DR        ...                     Y   \n",
       "4        223 WEST NASH STREET        ...                     N   \n",
       "\n",
       "  WILLFUL_VIOLATOR SUPPORT_H1B LABOR_CON_AGREE PUBLIC_DISCLOSURE_LOCATION  \\\n",
       "0                N         NaN               Y                        NaN   \n",
       "1                N         NaN               Y                        NaN   \n",
       "2                N           Y             NaN                        NaN   \n",
       "3                N           Y             NaN                        NaN   \n",
       "4                N         NaN               Y                        NaN   \n",
       "\n",
       "  WORKSITE_CITY WORKSITE_COUNTY WORKSITE_STATE WORKSITE_POSTAL_CODE  \\\n",
       "0    RIVERWOODS            LAKE             IL                60015   \n",
       "1    RIVERWOODS            LAKE             IL                60015   \n",
       "2    WASHINGTON             NaN             DC                20007   \n",
       "3   JERSEY CITY          HUDSON             NJ                07302   \n",
       "4      NEW YORK        NEW YORK             NY                10036   \n",
       "\n",
       "  ORIGINAL_CERT_DATE  \n",
       "0         2016-03-01  \n",
       "1         2016-03-08  \n",
       "2         2016-03-16  \n",
       "3                NaN  \n",
       "4         2015-02-26  \n",
       "\n",
       "[5 rows x 52 columns]"
      ]
     },
     "execution_count": 8,
     "metadata": {},
     "output_type": "execute_result"
    }
   ],
   "source": [
    "df.head()"
   ]
  },
  {
   "cell_type": "code",
   "execution_count": 9,
   "metadata": {},
   "outputs": [
    {
     "data": {
      "text/plain": [
       "array(['CERTIFIED-WITHDRAWN', 'WITHDRAWN', 'CERTIFIED', 'DENIED'],\n",
       "      dtype=object)"
      ]
     },
     "execution_count": 9,
     "metadata": {},
     "output_type": "execute_result"
    }
   ],
   "source": [
    "df.CASE_STATUS.unique()"
   ]
  },
  {
   "cell_type": "code",
   "execution_count": 38,
   "metadata": {},
   "outputs": [
    {
     "name": "stdout",
     "output_type": "stream",
     "text": [
      "<class 'pandas.core.frame.DataFrame'>\n",
      "Int64Index: 624650 entries, 0 to 624649\n",
      "Data columns (total 52 columns):\n",
      "CASE_NUMBER                    624650 non-null object\n",
      "CASE_STATUS                    624650 non-null object\n",
      "CASE_SUBMITTED                 624650 non-null object\n",
      "DECISION_DATE                  624650 non-null object\n",
      "VISA_CLASS                     624650 non-null object\n",
      "EMPLOYMENT_START_DATE          624621 non-null object\n",
      "EMPLOYMENT_END_DATE            624620 non-null object\n",
      "EMPLOYER_NAME                  624594 non-null object\n",
      "EMPLOYER_BUSINESS_DBA          43270 non-null object\n",
      "EMPLOYER_ADDRESS               624643 non-null object\n",
      "EMPLOYER_CITY                  624635 non-null object\n",
      "EMPLOYER_STATE                 624632 non-null object\n",
      "EMPLOYER_POSTAL_CODE           624632 non-null object\n",
      "EMPLOYER_COUNTRY               528143 non-null object\n",
      "EMPLOYER_PROVINCE              6116 non-null object\n",
      "EMPLOYER_PHONE                 528142 non-null object\n",
      "EMPLOYER_PHONE_EXT             27872 non-null object\n",
      "AGENT_REPRESENTING_EMPLOYER    528144 non-null object\n",
      "AGENT_ATTORNEY_NAME            624650 non-null object\n",
      "AGENT_ATTORNEY_CITY            351344 non-null object\n",
      "AGENT_ATTORNEY_STATE           336009 non-null object\n",
      "JOB_TITLE                      624645 non-null object\n",
      "SOC_CODE                       624648 non-null object\n",
      "SOC_NAME                       624647 non-null object\n",
      "NAICS_CODE                     624643 non-null object\n",
      "TOTAL_WORKERS                  624650 non-null int64\n",
      "NEW_EMPLOYMENT                 624650 non-null int64\n",
      "CONTINUED_EMPLOYMENT           624650 non-null int64\n",
      "CHANGE_PREVIOUS_EMPLOYMENT     624650 non-null int64\n",
      "NEW_CONCURRENT_EMPLOYMENT      624650 non-null int64\n",
      "CHANGE_EMPLOYER                624650 non-null int64\n",
      "AMENDED_PETITION               624650 non-null int64\n",
      "FULL_TIME_POSITION             624645 non-null object\n",
      "PREVAILING_WAGE                624649 non-null float64\n",
      "PW_UNIT_OF_PAY                 624604 non-null object\n",
      "PW_WAGE_LEVEL                  500930 non-null object\n",
      "PW_SOURCE                      624604 non-null object\n",
      "PW_SOURCE_YEAR                 624605 non-null float64\n",
      "PW_SOURCE_OTHER                618278 non-null object\n",
      "WAGE_RATE_OF_PAY_FROM          624650 non-null float64\n",
      "WAGE_RATE_OF_PAY_TO            624649 non-null float64\n",
      "WAGE_UNIT_OF_PAY               624642 non-null object\n",
      "H1B_DEPENDENT                  610908 non-null object\n",
      "WILLFUL_VIOLATOR               610905 non-null object\n",
      "SUPPORT_H1B                    240476 non-null object\n",
      "LABOR_CON_AGREE                244975 non-null object\n",
      "PUBLIC_DISCLOSURE_LOCATION     0 non-null float64\n",
      "WORKSITE_CITY                  624637 non-null object\n",
      "WORKSITE_COUNTY                623471 non-null object\n",
      "WORKSITE_STATE                 624641 non-null object\n",
      "WORKSITE_POSTAL_CODE           624631 non-null object\n",
      "ORIGINAL_CERT_DATE             49708 non-null object\n",
      "dtypes: float64(5), int64(7), object(40)\n",
      "memory usage: 252.6+ MB\n"
     ]
    }
   ],
   "source": [
    "df.info()"
   ]
  },
  {
   "cell_type": "code",
   "execution_count": 12,
   "metadata": {},
   "outputs": [
    {
     "name": "stdout",
     "output_type": "stream",
     "text": [
      "Your selected dataframe has 52 columns.\n",
      "There are 38 columns that have missing values.\n",
      "['PUBLIC_DISCLOSURE_LOCATION', 'EMPLOYER_PROVINCE', 'EMPLOYER_PHONE_EXT', 'EMPLOYER_BUSINESS_DBA', 'ORIGINAL_CERT_DATE', 'SUPPORT_H1B', 'LABOR_CON_AGREE']\n"
     ]
    }
   ],
   "source": [
    "#REMOVE COLUMNS BY NULL THRESHOLD\n",
    "def missing_values_table(df):\n",
    "\n",
    "        # Total missing values\n",
    "        mis_val = df.isnull().sum()\n",
    "        \n",
    "        # Percentage of missing values\n",
    "        mis_val_percent = 100 * df.isnull().sum() / len(df)\n",
    "        \n",
    "        # Make a table with the results\n",
    "        mis_val_table = pd.concat([mis_val, mis_val_percent], axis=1)\n",
    "        \n",
    "        # Rename the columns\n",
    "        mis_val_table_ren_columns = mis_val_table.rename(\n",
    "        columns = {0 : 'Missing Values', 1 : '% of Total Values'})\n",
    "        \n",
    "        # Sort the table by percentage of missing descending\n",
    "        mis_val_table_ren_columns = mis_val_table_ren_columns[\n",
    "            mis_val_table_ren_columns.iloc[:,1] != 0].sort_values(\n",
    "        '% of Total Values', ascending=False).round(1)\n",
    "        \n",
    "        # Print some summary information\n",
    "        print (\"Your selected dataframe has \" + str(df.shape[1]) + \" columns.\\n\"      \n",
    "            \"There are \" + str(mis_val_table_ren_columns.shape[0]) +\n",
    "              \" columns that have missing values.\")\n",
    "        \n",
    "        # Return the dataframe with missing information\n",
    "        return mis_val_table_ren_columns\n",
    "missing_df = missing_values_table(df);\n",
    "missing_columns = list(missing_df[missing_df['% of Total Values'] > 50].index)\n",
    "print(missing_columns)"
   ]
  },
  {
   "cell_type": "code",
   "execution_count": 42,
   "metadata": {},
   "outputs": [
    {
     "name": "stdout",
     "output_type": "stream",
     "text": [
      "(624650, 52) (624650, 42)\n"
     ]
    }
   ],
   "source": [
    "cdf = df.copy().drop(['CASE_NUMBER','PUBLIC_DISCLOSURE_LOCATION', 'EMPLOYER_PROVINCE', 'EMPLOYER_PHONE_EXT', 'EMPLOYER_BUSINESS_DBA', 'ORIGINAL_CERT_DATE', 'SUPPORT_H1B', 'LABOR_CON_AGREE','WORKSITE_POSTAL_CODE','EMPLOYER_POSTAL_CODE'],axis=1)\n",
    "print(df.shape,cdf.shape)"
   ]
  },
  {
   "cell_type": "code",
   "execution_count": 21,
   "metadata": {},
   "outputs": [
    {
     "data": {
      "text/plain": [
       "array(['CERTIFIED-WITHDRAWN', 'WITHDRAWN', 'CERTIFIED', 'DENIED'],\n",
       "      dtype=object)"
      ]
     },
     "execution_count": 21,
     "metadata": {},
     "output_type": "execute_result"
    }
   ],
   "source": [
    "cdf.CASE_STATUS.unique()"
   ]
  },
  {
   "cell_type": "code",
   "execution_count": 43,
   "metadata": {},
   "outputs": [],
   "source": [
    "cdf = cdf[cdf['VISA_CLASS']=='H-1B']\n",
    "#and ((cdf['CASE_STATUS']=='CERTIFIED-WITHDRAWN') or (cdf['CASE_STATUS']=='CERTIFIED'))]\n",
    "cdf = cdf.loc[cdf.CASE_STATUS.isin(['CERTIFIED-WITHDRAWN','CERTIFIED','DENIED'])]\n",
    "cdf.CASE_STATUS.loc[cdf.CASE_STATUS=='CERTIFIED-WITHDRAWN'] = 'CERTIFIED'"
   ]
  },
  {
   "cell_type": "code",
   "execution_count": 48,
   "metadata": {},
   "outputs": [
    {
     "data": {
      "text/plain": [
       "False"
      ]
     },
     "execution_count": 48,
     "metadata": {},
     "output_type": "execute_result"
    }
   ],
   "source": [
    "cdf.CASE_STATUS.isnull().any()"
   ]
  },
  {
   "cell_type": "code",
   "execution_count": 50,
   "metadata": {},
   "outputs": [],
   "source": [
    "X = cdf.drop('CASE_STATUS',axis=1);\n",
    "y = cdf.CASE_STATUS\n",
    "X_train,X_test,y_train,y_test = train_test_split(X,y,random_state=42,stratify=y,test_size=0.2);"
   ]
  },
  {
   "cell_type": "code",
   "execution_count": null,
   "metadata": {},
   "outputs": [],
   "source": [
    "# make copy to avoid changing original data (when Imputing)\n",
    "idf = X_train.copy()\n",
    "\n",
    "# make new columns indicating what will be imputed\n",
    "cols_with_missing = (col for col in idf.columns \n",
    "                                 if idf[col].isnull().any())\n",
    "for col in cols_with_missing:\n",
    "    idf[col + '_was_missing'] = idf[col].isnull()\n",
    "    \n",
    "idf_num = idf.select_dtypes(exclude='object');\n",
    "idf_cat = idf.select_dtypes(include='object');\n",
    "\n",
    "my_imputer_num = SimpleImputer()\n",
    "my_imputer_cat = SimpleImputer(strategy='most_frequent')\n",
    "X_train_num = pd.DataFrame(my_imputer_num.fit_transform(idf_num))\n",
    "X_train_num.columns = idf_num.columns\n",
    "X_train_cat = pd.DataFrame(my_imputer_cat.fit_transform(idf_cat))\n",
    "X_train_cat.colums = idf_cat.columns\n"
   ]
  },
  {
   "cell_type": "code",
   "execution_count": null,
   "metadata": {},
   "outputs": [],
   "source": [
    "X_train = pd.concat([X_train_cat,X_train_num],axis=1)\n",
    "X_train.head()"
   ]
  },
  {
   "cell_type": "code",
   "execution_count": null,
   "metadata": {},
   "outputs": [],
   "source": [
    "# make copy to avoid changing original data (when Imputing)\n",
    "idf = X_test.copy()\n",
    "\n",
    "# make new columns indicating what will be imputed\n",
    "cols_with_missing = (col for col in idf.columns \n",
    "                                 if idf[col].isnull().any())\n",
    "for col in cols_with_missing:\n",
    "    idf[col + '_was_missing'] = idf[col].isnull()\n",
    "    \n",
    "idf_num = idf.select_dtypes(exclude='object');\n",
    "idf_cat = idf.select_dtypes(include='object');\n",
    "\n",
    "X_test_num = pd.DataFrame(my_imputer_num.transform(idf_num))\n",
    "X_test_num.columns = idf_num.columns\n",
    "X_test_cat = pd.DataFrame(my_imputer_cat.transform(idf_cat))\n",
    "X_test_cat.colums = idf_cat.columns"
   ]
  },
  {
   "cell_type": "code",
   "execution_count": null,
   "metadata": {},
   "outputs": [],
   "source": [
    "X_test = pd.concat([X_test_cat,X_test_num],axis=1)\n",
    "X_test.head()"
   ]
  }
 ],
 "metadata": {
  "kernelspec": {
   "display_name": "Python 3",
   "language": "python",
   "name": "python3"
  },
  "language_info": {
   "codemirror_mode": {
    "name": "ipython",
    "version": 3
   },
   "file_extension": ".py",
   "mimetype": "text/x-python",
   "name": "python",
   "nbconvert_exporter": "python",
   "pygments_lexer": "ipython3",
   "version": "3.6.5"
  }
 },
 "nbformat": 4,
 "nbformat_minor": 2
}
