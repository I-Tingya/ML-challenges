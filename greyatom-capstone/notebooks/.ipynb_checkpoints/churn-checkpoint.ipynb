{
 "cells": [
  {
   "cell_type": "code",
   "execution_count": null,
   "metadata": {
    "colab": {
     "base_uri": "https://localhost:8080/",
     "height": 122
    },
    "colab_type": "code",
    "id": "equtOq4Xu4Eq",
    "outputId": "59c0210c-5f34-4e36-e7f0-edee53d0f5c2"
   },
   "outputs": [],
   "source": [
    "from google.colab import drive\n",
    "drive.mount('/content/drive')\n",
    "import os"
   ]
  },
  {
   "cell_type": "code",
   "execution_count": null,
   "metadata": {},
   "outputs": [],
   "source": [
    "!pip install tqdm"
   ]
  },
  {
   "cell_type": "code",
   "execution_count": 1,
   "metadata": {
    "colab": {},
    "colab_type": "code",
    "id": "s0SvMBNZDH1u"
   },
   "outputs": [],
   "source": [
    "#!pip install modin\n",
    "#!pip install --upgrade pandas\n",
    "import pandas as pd\n",
    "#!pip install ray\n",
    "import numpy as np\n",
    "import warnings\n",
    "warnings.filterwarnings('ignore')\n",
    "from tqdm import tqdm\n"
   ]
  },
  {
   "cell_type": "code",
   "execution_count": 2,
   "metadata": {
    "colab": {},
    "colab_type": "code",
    "id": "I-UtHrs0Dwb0"
   },
   "outputs": [],
   "source": [
    "def inttostr(x):\n",
    "  x = str(x)\n",
    "  return x[:4]+'-'+x[4:6]+'-'+x[6:]"
   ]
  },
  {
   "cell_type": "code",
   "execution_count": null,
   "metadata": {
    "colab": {
     "base_uri": "https://localhost:8080/",
     "height": 34
    },
    "colab_type": "code",
    "id": "3dr3w6cFDxPS",
    "outputId": "a0bd1aa1-f942-4062-b942-d751ea3f0b47"
   },
   "outputs": [
    {
     "name": "stderr",
     "output_type": "stream",
     "text": [
      "  0%|                                      | 2/25000 [00:00<2:44:09,  2.54it/s]"
     ]
    }
   ],
   "source": [
    "launch = pd.read_csv(r'../Data/AppLaunched.csv')\n",
    "launch['Date'] = pd.to_datetime(launch['Date'].apply(lambda x:inttostr(x)))\n",
    "userids = launch.UserId.unique()[125000:150000]\n",
    "launch_days_list=[]\n",
    "install_list=[]\n",
    "\n",
    "for uid in tqdm(userids):\n",
    "  temp = launch.loc[launch.UserId==uid]\n",
    "  \n",
    "  \n",
    "  launch_days_list.append((temp.Date.max()-temp.Date.min()).days)\n",
    "  install_list.append(temp.shape[0])"
   ]
  },
  {
   "cell_type": "code",
   "execution_count": null,
   "metadata": {
    "colab": {
     "base_uri": "https://localhost:8080/",
     "height": 34
    },
    "colab_type": "code",
    "id": "GX3hyAECDzb1",
    "outputId": "6f52df6e-3ba1-45e9-c8dd-ccc5ba8f0fdb"
   },
   "outputs": [],
   "source": [
    "registration = pd.read_csv(r'../Data/Registration.csv')\n",
    "registration.Status=registration.Status.replace({'Complete':'Completed'})\n",
    "status_list=[]\n",
    "\n",
    "for uid in tqdm(userids):\n",
    "  \n",
    "  temp = registration.loc[registration.UserId==uid]\n",
    "  status = temp.Status.tolist()[-1] if len(temp.Status.tolist())>0 else 'Unknown'\n",
    "  status_list.append(status)"
   ]
  },
  {
   "cell_type": "code",
   "execution_count": 5,
   "metadata": {
    "colab": {
     "base_uri": "https://localhost:8080/",
     "height": 34
    },
    "colab_type": "code",
    "id": "qBwK8n4UD4-D",
    "outputId": "1dcac30f-ade5-4e64-e5fb-694706f9f5c4"
   },
   "outputs": [
    {
     "name": "stderr",
     "output_type": "stream",
     "text": [
      "100%|██████████████████████████████████| 25000/25000 [00:21<00:00, 1173.09it/s]\n"
     ]
    }
   ],
   "source": [
    "utmvisited = pd.read_csv(r'./Data/UTMVisited.csv')\n",
    "utm_list = []\n",
    "for uid in tqdm(userids):\n",
    "  temp = temp.loc[temp.UserId==uid]\n",
    "  utm_list.append(temp.shape[0])"
   ]
  },
  {
   "cell_type": "code",
   "execution_count": 7,
   "metadata": {
    "colab": {},
    "colab_type": "code",
    "id": "O1h7aQtuD9cr"
   },
   "outputs": [
    {
     "name": "stderr",
     "output_type": "stream",
     "text": [
      "100%|██████████████████████████████████| 25000/25000 [1:30:04<00:00,  4.94it/s]\n"
     ]
    }
   ],
   "source": [
    "vidstarted = pd.read_csv(r'./Data/VideoStarted.csv')\n",
    "\n",
    "genre_dict = {genre:np.zeros(len(userids)) for genre in vidstarted.Genre.unique()}\n",
    "category_dict = {cat:np.zeros(len(userids)) for cat in vidstarted.Category.unique()}\n",
    "program_type_dict = {ptype:np.zeros(len(userids)) for ptype in vidstarted.ProgramType.unique()}\n",
    "vidstart_days_list=[]\n",
    "watches_rep_vid_list = []\n",
    "for idx,uid in enumerate(tqdm(userids)):\n",
    "  temp = vidstarted.loc[vidstarted.UserId==uid]\n",
    "  temp['Date'] = pd.to_datetime(temp['Date'].apply(lambda x:inttostr(x)))\n",
    "  \n",
    "  for genre in temp.Genre.tolist():genre_dict[genre][idx]+=1;\n",
    "  for cat in temp.Category.tolist():category_dict[cat][idx]+=1;\n",
    "  for ptype in temp.ProgramType.tolist():program_type_dict[ptype][idx]+=1;\n",
    "    \n",
    "  vidstart_days_list.append((temp.Date.max()-temp.Date.min()).days)\n",
    "  \n",
    "  if len(temp.VideoId.value_counts().values)>2:\n",
    "    rvf = temp.VideoId.value_counts().values[0] + temp.VideoId.value_counts().values[1] #if temp.VideoId.value_counts().values[0]>1\n",
    "  elif len(temp.VideoId.value_counts().values)==1:\n",
    "      rvf = temp.VideoId.value_counts().values[0]\n",
    "  else: rvf=0\n",
    "  \n",
    "  watches_rep_vid_list.append(rvf)"
   ]
  },
  {
   "cell_type": "code",
   "execution_count": 8,
   "metadata": {
    "colab": {},
    "colab_type": "code",
    "id": "kil8Zh5aEA8x"
   },
   "outputs": [],
   "source": [
    "movie_det_dict = {**genre_dict, **category_dict, **program_type_dict}"
   ]
  },
  {
   "cell_type": "code",
   "execution_count": 9,
   "metadata": {
    "colab": {},
    "colab_type": "code",
    "id": "LHfpWYkFEBq5"
   },
   "outputs": [
    {
     "data": {
      "text/html": [
       "<div>\n",
       "<style scoped>\n",
       "    .dataframe tbody tr th:only-of-type {\n",
       "        vertical-align: middle;\n",
       "    }\n",
       "\n",
       "    .dataframe tbody tr th {\n",
       "        vertical-align: top;\n",
       "    }\n",
       "\n",
       "    .dataframe thead th {\n",
       "        text-align: right;\n",
       "    }\n",
       "</style>\n",
       "<table border=\"1\" class=\"dataframe\">\n",
       "  <thead>\n",
       "    <tr style=\"text-align: right;\">\n",
       "      <th></th>\n",
       "      <th>Romance</th>\n",
       "      <th>Anime</th>\n",
       "      <th>Drama</th>\n",
       "      <th>Comedy</th>\n",
       "      <th>Martial Sports</th>\n",
       "      <th>Variety</th>\n",
       "      <th>Sports Magazine</th>\n",
       "      <th>Action</th>\n",
       "      <th>Tennis / Squash</th>\n",
       "      <th>TV Shows (General)</th>\n",
       "      <th>...</th>\n",
       "      <th>linear</th>\n",
       "      <th>Movies</th>\n",
       "      <th>TV Shows</th>\n",
       "      <th>Channels</th>\n",
       "      <th>launched_days</th>\n",
       "      <th>installed_times</th>\n",
       "      <th>reg_status</th>\n",
       "      <th>utm_visited_times</th>\n",
       "      <th>watched_days</th>\n",
       "      <th>vid_rep_count</th>\n",
       "    </tr>\n",
       "  </thead>\n",
       "  <tbody>\n",
       "    <tr>\n",
       "      <th>02306f38918a6adf1e9823da6f113f5e</th>\n",
       "      <td>0.0</td>\n",
       "      <td>0.0</td>\n",
       "      <td>0.0</td>\n",
       "      <td>0.0</td>\n",
       "      <td>0.0</td>\n",
       "      <td>0.0</td>\n",
       "      <td>0.0</td>\n",
       "      <td>0.0</td>\n",
       "      <td>0.0</td>\n",
       "      <td>0.0</td>\n",
       "      <td>...</td>\n",
       "      <td>0.0</td>\n",
       "      <td>0.0</td>\n",
       "      <td>0.0</td>\n",
       "      <td>0.0</td>\n",
       "      <td>45</td>\n",
       "      <td>13</td>\n",
       "      <td>Not Completed</td>\n",
       "      <td>0</td>\n",
       "      <td>NaN</td>\n",
       "      <td>0</td>\n",
       "    </tr>\n",
       "    <tr>\n",
       "      <th>c2bb5ecea3ee38ceffbc1f9c1dca1b12</th>\n",
       "      <td>0.0</td>\n",
       "      <td>0.0</td>\n",
       "      <td>0.0</td>\n",
       "      <td>0.0</td>\n",
       "      <td>0.0</td>\n",
       "      <td>0.0</td>\n",
       "      <td>0.0</td>\n",
       "      <td>0.0</td>\n",
       "      <td>0.0</td>\n",
       "      <td>0.0</td>\n",
       "      <td>...</td>\n",
       "      <td>0.0</td>\n",
       "      <td>0.0</td>\n",
       "      <td>0.0</td>\n",
       "      <td>0.0</td>\n",
       "      <td>130</td>\n",
       "      <td>3</td>\n",
       "      <td>Not Completed</td>\n",
       "      <td>0</td>\n",
       "      <td>NaN</td>\n",
       "      <td>0</td>\n",
       "    </tr>\n",
       "    <tr>\n",
       "      <th>828751b91c163a4cde348cb09e168562</th>\n",
       "      <td>0.0</td>\n",
       "      <td>0.0</td>\n",
       "      <td>0.0</td>\n",
       "      <td>0.0</td>\n",
       "      <td>0.0</td>\n",
       "      <td>0.0</td>\n",
       "      <td>0.0</td>\n",
       "      <td>0.0</td>\n",
       "      <td>0.0</td>\n",
       "      <td>0.0</td>\n",
       "      <td>...</td>\n",
       "      <td>0.0</td>\n",
       "      <td>0.0</td>\n",
       "      <td>0.0</td>\n",
       "      <td>0.0</td>\n",
       "      <td>0</td>\n",
       "      <td>1</td>\n",
       "      <td>Unknown</td>\n",
       "      <td>0</td>\n",
       "      <td>NaN</td>\n",
       "      <td>0</td>\n",
       "    </tr>\n",
       "    <tr>\n",
       "      <th>c93958eb6834c48a9f1840f1a145abad</th>\n",
       "      <td>0.0</td>\n",
       "      <td>0.0</td>\n",
       "      <td>0.0</td>\n",
       "      <td>0.0</td>\n",
       "      <td>0.0</td>\n",
       "      <td>0.0</td>\n",
       "      <td>0.0</td>\n",
       "      <td>0.0</td>\n",
       "      <td>0.0</td>\n",
       "      <td>0.0</td>\n",
       "      <td>...</td>\n",
       "      <td>0.0</td>\n",
       "      <td>0.0</td>\n",
       "      <td>0.0</td>\n",
       "      <td>0.0</td>\n",
       "      <td>0</td>\n",
       "      <td>2</td>\n",
       "      <td>Not Completed</td>\n",
       "      <td>0</td>\n",
       "      <td>NaN</td>\n",
       "      <td>0</td>\n",
       "    </tr>\n",
       "    <tr>\n",
       "      <th>64ae528d5cd68fd586b2e5d42d8b6246</th>\n",
       "      <td>0.0</td>\n",
       "      <td>0.0</td>\n",
       "      <td>0.0</td>\n",
       "      <td>0.0</td>\n",
       "      <td>0.0</td>\n",
       "      <td>0.0</td>\n",
       "      <td>0.0</td>\n",
       "      <td>0.0</td>\n",
       "      <td>0.0</td>\n",
       "      <td>0.0</td>\n",
       "      <td>...</td>\n",
       "      <td>0.0</td>\n",
       "      <td>0.0</td>\n",
       "      <td>0.0</td>\n",
       "      <td>0.0</td>\n",
       "      <td>48</td>\n",
       "      <td>6</td>\n",
       "      <td>Unknown</td>\n",
       "      <td>0</td>\n",
       "      <td>NaN</td>\n",
       "      <td>0</td>\n",
       "    </tr>\n",
       "  </tbody>\n",
       "</table>\n",
       "<p>5 rows × 63 columns</p>\n",
       "</div>"
      ],
      "text/plain": [
       "                                   Romance    Anime    Drama    Comedy   \\\n",
       "02306f38918a6adf1e9823da6f113f5e        0.0      0.0      0.0       0.0   \n",
       "c2bb5ecea3ee38ceffbc1f9c1dca1b12        0.0      0.0      0.0       0.0   \n",
       "828751b91c163a4cde348cb09e168562        0.0      0.0      0.0       0.0   \n",
       "c93958eb6834c48a9f1840f1a145abad        0.0      0.0      0.0       0.0   \n",
       "64ae528d5cd68fd586b2e5d42d8b6246        0.0      0.0      0.0       0.0   \n",
       "\n",
       "                                   Martial Sports    Variety   \\\n",
       "02306f38918a6adf1e9823da6f113f5e               0.0        0.0   \n",
       "c2bb5ecea3ee38ceffbc1f9c1dca1b12               0.0        0.0   \n",
       "828751b91c163a4cde348cb09e168562               0.0        0.0   \n",
       "c93958eb6834c48a9f1840f1a145abad               0.0        0.0   \n",
       "64ae528d5cd68fd586b2e5d42d8b6246               0.0        0.0   \n",
       "\n",
       "                                   Sports Magazine    Action   \\\n",
       "02306f38918a6adf1e9823da6f113f5e                0.0       0.0   \n",
       "c2bb5ecea3ee38ceffbc1f9c1dca1b12                0.0       0.0   \n",
       "828751b91c163a4cde348cb09e168562                0.0       0.0   \n",
       "c93958eb6834c48a9f1840f1a145abad                0.0       0.0   \n",
       "64ae528d5cd68fd586b2e5d42d8b6246                0.0       0.0   \n",
       "\n",
       "                                   Tennis / Squash    TV Shows (General)   \\\n",
       "02306f38918a6adf1e9823da6f113f5e                0.0                   0.0   \n",
       "c2bb5ecea3ee38ceffbc1f9c1dca1b12                0.0                   0.0   \n",
       "828751b91c163a4cde348cb09e168562                0.0                   0.0   \n",
       "c93958eb6834c48a9f1840f1a145abad                0.0                   0.0   \n",
       "64ae528d5cd68fd586b2e5d42d8b6246                0.0                   0.0   \n",
       "\n",
       "                                      ...         linear    Movies   TV Shows  \\\n",
       "02306f38918a6adf1e9823da6f113f5e      ...             0.0      0.0        0.0   \n",
       "c2bb5ecea3ee38ceffbc1f9c1dca1b12      ...             0.0      0.0        0.0   \n",
       "828751b91c163a4cde348cb09e168562      ...             0.0      0.0        0.0   \n",
       "c93958eb6834c48a9f1840f1a145abad      ...             0.0      0.0        0.0   \n",
       "64ae528d5cd68fd586b2e5d42d8b6246      ...             0.0      0.0        0.0   \n",
       "\n",
       "                                   Channels  launched_days  installed_times  \\\n",
       "02306f38918a6adf1e9823da6f113f5e        0.0             45               13   \n",
       "c2bb5ecea3ee38ceffbc1f9c1dca1b12        0.0            130                3   \n",
       "828751b91c163a4cde348cb09e168562        0.0              0                1   \n",
       "c93958eb6834c48a9f1840f1a145abad        0.0              0                2   \n",
       "64ae528d5cd68fd586b2e5d42d8b6246        0.0             48                6   \n",
       "\n",
       "                                     reg_status  utm_visited_times  \\\n",
       "02306f38918a6adf1e9823da6f113f5e  Not Completed                  0   \n",
       "c2bb5ecea3ee38ceffbc1f9c1dca1b12  Not Completed                  0   \n",
       "828751b91c163a4cde348cb09e168562        Unknown                  0   \n",
       "c93958eb6834c48a9f1840f1a145abad  Not Completed                  0   \n",
       "64ae528d5cd68fd586b2e5d42d8b6246        Unknown                  0   \n",
       "\n",
       "                                  watched_days  vid_rep_count  \n",
       "02306f38918a6adf1e9823da6f113f5e           NaN              0  \n",
       "c2bb5ecea3ee38ceffbc1f9c1dca1b12           NaN              0  \n",
       "828751b91c163a4cde348cb09e168562           NaN              0  \n",
       "c93958eb6834c48a9f1840f1a145abad           NaN              0  \n",
       "64ae528d5cd68fd586b2e5d42d8b6246           NaN              0  \n",
       "\n",
       "[5 rows x 63 columns]"
      ]
     },
     "execution_count": 9,
     "metadata": {},
     "output_type": "execute_result"
    }
   ],
   "source": [
    "final_df = pd.DataFrame(data=movie_det_dict)\n",
    "\n",
    "final_df['launched_days'] = pd.Series(launch_days_list)\n",
    "final_df['installed_times'] = pd.Series(install_list)\n",
    "final_df['reg_status'] = pd.Series(status_list)\n",
    "final_df['utm_visited_times'] = pd.Series(utm_list)\n",
    "final_df['watched_days'] = pd.Series(vidstart_days_list)\n",
    "final_df['vid_rep_count'] = pd.Series(watches_rep_vid_list)\n",
    "final_df.index = userids\n",
    "final_df.head()"
   ]
  },
  {
   "cell_type": "code",
   "execution_count": 10,
   "metadata": {
    "colab": {},
    "colab_type": "code",
    "id": "PgPrOxMyED6k"
   },
   "outputs": [
    {
     "data": {
      "text/plain": [
       "(25000, 65)"
      ]
     },
     "execution_count": 10,
     "metadata": {},
     "output_type": "execute_result"
    }
   ],
   "source": [
    "final_df = pd.get_dummies(final_df);\n",
    "final_df.shape"
   ]
  },
  {
   "cell_type": "code",
   "execution_count": 12,
   "metadata": {
    "colab": {},
    "colab_type": "code",
    "id": "gLSvt35oEJ4E"
   },
   "outputs": [],
   "source": [
    "#final_df.isna().sum()\n",
    "final_df = final_df.fillna(0)\n",
    "final_df.to_csv(r'./Data/final_df5.csv')"
   ]
  },
  {
   "cell_type": "code",
   "execution_count": 13,
   "metadata": {
    "colab": {},
    "colab_type": "code",
    "id": "cU1m_6UyEL1t"
   },
   "outputs": [],
   "source": [
    "from sklearn.cluster import KMeans\n",
    "km = KMeans(n_clusters=4,random_state=0)\n",
    "km.fit(final_df)\n",
    "labels = km.predict(final_df)"
   ]
  },
  {
   "cell_type": "code",
   "execution_count": 14,
   "metadata": {
    "colab": {},
    "colab_type": "code",
    "id": "adlDnmUFEPB_"
   },
   "outputs": [],
   "source": [
    "from sklearn.decomposition import PCA\n",
    "pca = PCA(n_components=2,random_state=0)\n",
    "res = pca.fit_transform(final_df)\n"
   ]
  },
  {
   "cell_type": "code",
   "execution_count": 15,
   "metadata": {
    "colab": {},
    "colab_type": "code",
    "id": "VU_BJsYIEOsE"
   },
   "outputs": [
    {
     "data": {
      "text/plain": [
       "<matplotlib.collections.PathCollection at 0x370c6400>"
      ]
     },
     "execution_count": 15,
     "metadata": {},
     "output_type": "execute_result"
    },
    {
     "data": {
      "image/png": "[encoded data removed]",
      "text/plain": [
       "<Figure size 1080x360 with 1 Axes>"
      ]
     },
     "metadata": {},
     "output_type": "display_data"
    }
   ],
   "source": [
    "\n",
    "import matplotlib.pyplot as plt\n",
    "%matplotlib inline\n",
    "plt.figure(figsize=(15,5))\n",
    "plt.scatter(res[:,0],res[:,1],c=labels,cmap='viridis')"
   ]
  },
  {
   "cell_type": "code",
   "execution_count": 17,
   "metadata": {
    "colab": {},
    "colab_type": "code",
    "id": "-F31mIYnEOd4"
   },
   "outputs": [
    {
     "name": "stderr",
     "output_type": "stream",
     "text": [
      "100%|████████████████████████████████████| 25000/25000 [26:13<00:00, 15.88it/s]\n"
     ]
    }
   ],
   "source": [
    "uninstall_unique = pd.DataFrame()\n",
    "uninstall = pd.read_csv(r'./Data/AppUninstalled.csv')\n",
    "for uid in tqdm(userids):\n",
    "  temp = uninstall.loc[uninstall.UserId==uid]\n",
    "  temp['Date'] = pd.to_datetime(temp['Date'].apply(lambda x:inttostr(x)))\n",
    "  temp = temp[temp.Date==temp.Date.max()]\n",
    "  uninstall_unique = pd.concat([uninstall_unique,temp])\n",
    "\n",
    "uninstall_unique.to_csv(r'./Data/uninstall_unique5.csv')"
   ]
  },
  {
   "cell_type": "code",
   "execution_count": null,
   "metadata": {
    "colab": {
     "base_uri": "https://localhost:8080/",
     "height": 164
    },
    "colab_type": "code",
    "id": "IJk00AK2FzBB",
    "outputId": "d60f740e-c530-4478-9281-b0486c8485db"
   },
   "outputs": [],
   "source": [
    "uninstall.head()"
   ]
  }
 ],
 "metadata": {
  "colab": {
   "collapsed_sections": [],
   "name": "churn2.ipynb",
   "provenance": [],
   "version": "0.3.2"
  },
  "kernelspec": {
   "display_name": "Python 3",
   "language": "python",
   "name": "python3"
  },
  "language_info": {
   "codemirror_mode": {
    "name": "ipython",
    "version": 3
   },
   "file_extension": ".py",
   "mimetype": "text/x-python",
   "name": "python",
   "nbconvert_exporter": "python",
   "pygments_lexer": "ipython3",
   "version": "3.6.5"
  }
 },
 "nbformat": 4,
 "nbformat_minor": 1
}
