{
  "nbformat": 4,
  "nbformat_minor": 0,
  "metadata": {
    "colab": {
      "name": "feature-engineering.ipynb",
      "version": "0.3.2",
      "provenance": [],
      "collapsed_sections": [],
      "toc_visible": true
    },
    "kernelspec": {
      "name": "python3",
      "display_name": "Python 3"
    }
  },
  "cells": [
    {
      "metadata": {
        "id": "wRnGbVnKqWzF",
        "colab_type": "text"
      },
      "cell_type": "markdown",
      "source": [
        "#Feature Engineering Notebook\n",
        "Data given was in raw format and it needed to be converted into format which model could make sense. We considered data of 150K users while modelling. <br>\n",
        "A data frame **final_df** was created with all the features.<br>\n",
        "A dataframe **uninstall_unique** was created which had data of the users and  the latest uninstalled date. "
      ]
    },
    {
      "metadata": {
        "id": "oR-b5P4goVP4",
        "colab_type": "text"
      },
      "cell_type": "markdown",
      "source": [
        "##Mount Google drive in Colab where data is stored "
      ]
    },
    {
      "metadata": {
        "id": "blyb5FRJnlQc",
        "colab_type": "code",
        "outputId": "4c8d7a21-9923-466a-9dba-7906c62879cd",
        "colab": {
          "base_uri": "https://localhost:8080/",
          "height": 122
        }
      },
      "cell_type": "code",
      "source": [
        "from google.colab import drive\n",
        "drive.mount('/content/drive')\n",
        "import os\n",
        "#os.chdir('drive/My Drive/Capstone/CleverTap Capstone/Data\")"
      ],
      "execution_count": 1,
      "outputs": [
        {
          "output_type": "stream",
          "text": [
            "Go to this URL in a browser: https://accounts.google.com/o/oauth2/auth?client_id=947318989803-6bn6qk8qdgf4n4g3pfee6491hc0brc4i.apps.googleusercontent.com&redirect_uri=urn%3Aietf%3Awg%3Aoauth%3A2.0%3Aoob&scope=email%20https%3A%2F%2Fwww.googleapis.com%2Fauth%2Fdocs.test%20https%3A%2F%2Fwww.googleapis.com%2Fauth%2Fdrive%20https%3A%2F%2Fwww.googleapis.com%2Fauth%2Fdrive.photos.readonly%20https%3A%2F%2Fwww.googleapis.com%2Fauth%2Fpeopleapi.readonly&response_type=code\n",
            "\n",
            "Enter your authorization code:\n",
            "··········\n",
            "Mounted at /content/drive\n"
          ],
          "name": "stdout"
        }
      ]
    },
    {
      "metadata": {
        "id": "6p2rOJuwoprO",
        "colab_type": "text"
      },
      "cell_type": "markdown",
      "source": [
        "## Import necessary python libraries<br>\n",
        "As the data was large we tried to use modin for faster computation but we found it was slower than pandas. "
      ]
    },
    {
      "metadata": {
        "id": "AjCGlsOgnlDJ",
        "colab_type": "code",
        "colab": {}
      },
      "cell_type": "code",
      "source": [
        "#!pip install modin\n",
        "#!pip install --upgrade pandas\n",
        "#!pip install ray\n",
        "\n",
        "import pandas as pd\n",
        "import numpy as np\n",
        "\n",
        "import warnings\n",
        "warnings.filterwarnings('ignore')\n",
        "\n",
        "from tqdm import tqdm\n",
        "\n",
        "import matplotlib.pyplot as plt\n",
        "%matplotlib inline\n",
        "import seaborn as sns\n"
      ],
      "execution_count": 0,
      "outputs": []
    },
    {
      "metadata": {
        "id": "FWp0Yvixp3o2",
        "colab_type": "text"
      },
      "cell_type": "markdown",
      "source": [
        "##Function: inttostr()\n",
        "All the six csv data files had date column and the dates were in integer format.This function converted and formatted the dates."
      ]
    },
    {
      "metadata": {
        "id": "sXTByfWwTACY",
        "colab_type": "code",
        "colab": {}
      },
      "cell_type": "code",
      "source": [
        "def inttostr(x):\n",
        "  x = str(x)\n",
        "  return x[:4]+'-'+x[4:6]+'-'+x[6:]"
      ],
      "execution_count": 0,
      "outputs": []
    },
    {
      "metadata": {
        "id": "LQny0bpDs0_9",
        "colab_type": "text"
      },
      "cell_type": "markdown",
      "source": [
        "### Cell description\n",
        "Below cell stores the number of times a user launched the app and the number of days between first launch and latest launch. Number of days were used to create additional feature **launch_rate**"
      ]
    },
    {
      "metadata": {
        "id": "DW0ckrULmYep",
        "colab_type": "code",
        "outputId": "77522aac-a27d-45f1-8668-5eff293c1d55",
        "colab": {
          "base_uri": "https://localhost:8080/",
          "height": 54
        }
      },
      "cell_type": "code",
      "source": [
        "launch = pd.read_csv('drive/My Drive/Capstone/CleverTap Capstone/Data/AppLaunched.csv')\n",
        "launch['Date'] = pd.to_datetime(launch['Date'].apply(lambda x:inttostr(x)))\n",
        "userids = launch.UserId.unique()[0:150000]\n",
        "launch_days_list=[]\n",
        "install_list=[]\n",
        "\n",
        "for uid in tqdm(userids):\n",
        "  temp = launch.loc[launch.UserId==uid]  \n",
        "  \n",
        "  launch_days_list.append((temp.Date.max()-temp.Date.min()).days)\n",
        "  install_list.append(temp.shape[0])\n",
        "  \n",
        "  "
      ],
      "execution_count": 11,
      "outputs": [
        {
          "output_type": "execute_result",
          "data": {
            "text/plain": [
              "'for uid in tqdm(userids):\\n  temp = launch.loc[launch.UserId==uid]  \\n  \\n  launch_days_list.append((temp.Date.max()-temp.Date.min()).days)\\n  install_list.append(temp.shape[0])'"
            ]
          },
          "metadata": {
            "tags": []
          },
          "execution_count": 11
        }
      ]
    },
    {
      "metadata": {
        "id": "c1VO3sVVu06b",
        "colab_type": "text"
      },
      "cell_type": "markdown",
      "source": [
        "### Cell Description\n",
        "Below cell stores the latest status of user in the form completed, not completed or unknown."
      ]
    },
    {
      "metadata": {
        "id": "D3zN1WPrUVDF",
        "colab_type": "code",
        "outputId": "23839deb-a7e4-4d2a-f078-e50481cddd86",
        "colab": {
          "base_uri": "https://localhost:8080/",
          "height": 34
        }
      },
      "cell_type": "code",
      "source": [
        "registration = pd.read_csv('drive/My Drive/Capstone/CleverTap Capstone/Data/Registration.csv')\n",
        "registration.Status=registration.Status.replace({'Complete':'Completed'})\n",
        "status_list=[]\n",
        "country_list = []\n",
        "\n",
        "\n",
        "for uid in tqdm(userids):\n",
        "  \n",
        "  temp = registration.loc[registration.UserId==uid]\n",
        "  status = temp.Status.tolist()[-1] if len(temp.Status.tolist())>0 else 'Unknown'\n",
        "  status_list.append(status)\n",
        "  if temp.shape[0]>0:\n",
        "    country_list.append(temp.Country.value_counts().values[0])\n",
        "    \n",
        "  else:\n",
        "    country_list.append(0)\n",
        "    "
      ],
      "execution_count": 33,
      "outputs": [
        {
          "output_type": "stream",
          "text": [
            "100%|██████████| 25000/25000 [10:44<00:00, 38.76it/s]\n"
          ],
          "name": "stderr"
        }
      ]
    },
    {
      "metadata": {
        "id": "OhmIeXqhVZIB",
        "colab_type": "code",
        "colab": {}
      },
      "cell_type": "code",
      "source": [
        "#final_df = pd.read_csv('drive/My Drive/Capstone/CleverTap Capstone/Data/final_df.csv',index_col=0)\n"
      ],
      "execution_count": 0,
      "outputs": []
    },
    {
      "metadata": {
        "id": "QbCRFC463e3C",
        "colab_type": "code",
        "colab": {}
      },
      "cell_type": "code",
      "source": [
        "def top_country(x):\n",
        "  if x>2:\n",
        "    return 5\n",
        "  else:return x\n",
        "temp = pd.Series(country_list).apply(lambda x:top_country(x))\n",
        "\n",
        "temp = temp.replace({0:'A',1:'B',2:'C',5:'MISC'})\n",
        "country_list = temp.tolist()\n"
      ],
      "execution_count": 0,
      "outputs": []
    },
    {
      "metadata": {
        "id": "ZgfdjS38vUP6",
        "colab_type": "code",
        "colab": {
          "base_uri": "https://localhost:8080/",
          "height": 102
        },
        "outputId": "0d5a9dc7-3eaa-4bd1-886a-38b65c205fbc"
      },
      "cell_type": "code",
      "source": [
        "temp.value_counts()"
      ],
      "execution_count": 37,
      "outputs": [
        {
          "output_type": "execute_result",
          "data": {
            "text/plain": [
              "0    14267\n",
              "1     9796\n",
              "2      652\n",
              "5      285\n",
              "dtype: int64"
            ]
          },
          "metadata": {
            "tags": []
          },
          "execution_count": 37
        }
      ]
    },
    {
      "metadata": {
        "id": "btOPLeIKU8Cq",
        "colab_type": "code",
        "colab": {}
      },
      "cell_type": "code",
      "source": [
        "final_df = pd.get_dummies(final_df)\n",
        "final_df.to_csv('drive/My Drive/Capstone/CleverTap Capstone/Data/final_df.csv')"
      ],
      "execution_count": 0,
      "outputs": []
    },
    {
      "metadata": {
        "id": "PgJfRm1KvyJC",
        "colab_type": "text"
      },
      "cell_type": "markdown",
      "source": [
        "### Cell Description\n",
        "Below cell stores the number of times a user clicked UTM."
      ]
    },
    {
      "metadata": {
        "id": "gQOEIuJyYPyt",
        "colab_type": "code",
        "colab": {
          "base_uri": "https://localhost:8080/",
          "height": 34
        },
        "outputId": "9d97505f-87a3-4d03-d5bc-0c00ebdaf6ba"
      },
      "cell_type": "code",
      "source": [
        "utmvisited = pd.read_csv('drive/My Drive/Capstone/CleverTap Capstone/Data/UTMVisited.csv')\n",
        "utm_list = []\n",
        "for uid in tqdm(userids):\n",
        "  temp = utmvisited.loc[utmvisited.UserId==uid]\n",
        "  utm_list.append(temp.shape[0])\n",
        "#utm_list = pd.Series(utm_list)\n",
        "#utm_list.to_csv('drive/My Drive/Capstone/CleverTap Capstone/Data/utm_visted.csv')"
      ],
      "execution_count": 39,
      "outputs": [
        {
          "output_type": "stream",
          "text": [
            "100%|██████████| 25000/25000 [16:39<00:00, 25.01it/s]\n"
          ],
          "name": "stderr"
        }
      ]
    },
    {
      "metadata": {
        "id": "LOD1z2-sxM7U",
        "colab_type": "text"
      },
      "cell_type": "markdown",
      "source": [
        "### Cell Description\n",
        "Below cell stores number of videos a user watched genre wise, category wise and program_type_dict wise. <br>\n",
        "It also stores number of days user was active and number of videos he watched repetitively. <br>\n",
        "Number of days is used later to calculate number of videos a user watched per day.\n"
      ]
    },
    {
      "metadata": {
        "id": "CMKcztznY7IE",
        "colab_type": "code",
        "colab": {}
      },
      "cell_type": "code",
      "source": [
        "vidstarted = pd.read_csv('drive/My Drive/Capstone/CleverTap Capstone/Data/VideoStarted.csv')\n",
        "vidstarted['Date'] = pd.to_datetime(vidstarted['Date'].apply(lambda x:inttostr(x)))\n",
        "\n",
        "genre_dict = {genre:np.zeros(len(userids)) for genre in vidstarted.Genre.unique()}\n",
        "category_dict = {cat:np.zeros(len(userids)) for cat in vidstarted.Category.unique()}\n",
        "program_type_dict = {ptype:np.zeros(len(userids)) for ptype in vidstarted.ProgramType.unique()}\n",
        "\n",
        "vidstart_days_list=[]\n",
        "watches_rep_vid_list = []\n",
        "\n",
        "for idx,uid in enumerate(tqdm(userids)):\n",
        "  temp = vidstarted.loc[vidstarted.UserId==uid]\n",
        "  \n",
        "  \n",
        "  for genre in temp.Genre.tolist():genre_dict[genre][idx]+=1;\n",
        "  for cat in temp.Category.tolist():category_dict[cat][idx]+=1;\n",
        "  for ptype in temp.ProgramType.tolist():program_type_dict[ptype][idx]+=1;\n",
        "    \n",
        "  vidstart_days_list.append((temp.Date.max()-temp.Date.min()).days)\n",
        "  \n",
        "  if len(temp.VideoId.value_counts().values)>2:\n",
        "    rvf = temp.VideoId.value_counts().values[0] + temp.VideoId.value_counts().values[1] #if temp.VideoId.value_counts().values[0]>1\n",
        "  elif len(temp.VideoId.value_counts().values)==1:\n",
        "      rvf = temp.VideoId.value_counts().values[0]\n",
        "  else: rvf=0\n",
        "  \n",
        "  watches_rep_vid_list.append(rvf)\n",
        "  \n",
        "  "
      ],
      "execution_count": 0,
      "outputs": []
    },
    {
      "metadata": {
        "id": "fo7JP9q9O9fv",
        "colab_type": "code",
        "colab": {
          "base_uri": "https://localhost:8080/",
          "height": 34
        },
        "outputId": "01b3e373-1650-4502-d015-0ef8e9e9a7f3"
      },
      "cell_type": "code",
      "source": [
        "temp = pd.read_csv('drive/My Drive/Capstone/CleverTap Capstone/Data/VideoStarted.csv')\n",
        "temp = temp[temp.UserId.isin(userids)]\n",
        "temp.shape"
      ],
      "execution_count": 14,
      "outputs": [
        {
          "output_type": "execute_result",
          "data": {
            "text/plain": [
              "(262068, 12)"
            ]
          },
          "metadata": {
            "tags": []
          },
          "execution_count": 14
        }
      ]
    },
    {
      "metadata": {
        "id": "Pwlmuudn1RE6",
        "colab_type": "text"
      },
      "cell_type": "markdown",
      "source": [
        "###Cell Description\n",
        "Below cell merges three dictionaries genre, category and program type into single dictionary. Keys of these dictionaries will be used as features in final dataframe."
      ]
    },
    {
      "metadata": {
        "id": "t-_cfYI6zYgI",
        "colab_type": "code",
        "colab": {}
      },
      "cell_type": "code",
      "source": [
        "movie_det_dict = {**genre_dict, **category_dict, **program_type_dict}"
      ],
      "execution_count": 0,
      "outputs": []
    },
    {
      "metadata": {
        "id": "zbefwAGT2djv",
        "colab_type": "text"
      },
      "cell_type": "markdown",
      "source": [
        "### Cell Description\n",
        "Below cell stores the number of times a user has watched video details."
      ]
    },
    {
      "metadata": {
        "id": "doxEYE3215GV",
        "colab_type": "code",
        "colab": {
          "base_uri": "https://localhost:8080/",
          "height": 34
        },
        "outputId": "9bf04a88-64e2-407f-bd25-6e69d46272f1"
      },
      "cell_type": "code",
      "source": [
        "viddetails = pd.read_csv('drive/My Drive/Capstone/CleverTap Capstone/Data/VideoDetails.csv')\n",
        "viddetails['Date'] = pd.to_datetime(viddetails['Date'].apply(lambda x:inttostr(x)))\n",
        "\n",
        "temp = viddetails.loc[viddetails.UserId.isin(userids)]\n",
        "\n",
        "cnt_series = temp.UserId.value_counts()\n",
        "viewed_vid_cnt = [cnt_series.loc[uid] if uid in cnt_series.index else 0 for uid in tqdm(userids) ]\n",
        "\n",
        "#viddet_days_list = [(viddetails.loc[viddetails.UserId.isin(list(uid))]['Date'].max()-viddetails.loc[viddetails.UserId.isin(list(uid))]['Date'].max()).days for uid in tqdm(userids)]"
      ],
      "execution_count": 43,
      "outputs": [
        {
          "output_type": "stream",
          "text": [
            "100%|██████████| 25000/25000 [00:00<00:00, 71258.02it/s]\n"
          ],
          "name": "stderr"
        }
      ]
    },
    {
      "metadata": {
        "id": "xuEDFssG2wFf",
        "colab_type": "text"
      },
      "cell_type": "markdown",
      "source": [
        "### Cell Description\n",
        "Below cell creates empty data frame **final_df** and stores all the features generated till now in the dataframe."
      ]
    },
    {
      "metadata": {
        "id": "a0QyIsgKzYSN",
        "colab_type": "code",
        "colab": {
          "base_uri": "https://localhost:8080/",
          "height": 287
        },
        "outputId": "0e8973b7-f1d5-4775-bd64-1f71268cd703"
      },
      "cell_type": "code",
      "source": [
        "final_df = pd.DataFrame(data=movie_det_dict)\n",
        "\n",
        "final_df['launched_days'] = pd.Series(launch_days_list)\n",
        "final_df['installed_times'] = pd.Series(install_list)\n",
        "final_df['reg_status'] = pd.Series(status_list)\n",
        "final_df['utm_visited_times'] = pd.Series(utm_list)\n",
        "final_df['watched_days'] = pd.Series(vidstart_days_list)\n",
        "final_df['vid_rep_count'] = pd.Series(watches_rep_vid_list)\n",
        "final_df['viddet_view_cnt'] = pd.Series(viewed_vid_cnt)\n",
        "final_df['country'] = pd.Series(country_list)\n",
        "final_df.index = userids\n",
        "final_df.head()"
      ],
      "execution_count": 44,
      "outputs": [
        {
          "output_type": "execute_result",
          "data": {
            "text/html": [
              "<div>\n",
              "<style scoped>\n",
              "    .dataframe tbody tr th:only-of-type {\n",
              "        vertical-align: middle;\n",
              "    }\n",
              "\n",
              "    .dataframe tbody tr th {\n",
              "        vertical-align: top;\n",
              "    }\n",
              "\n",
              "    .dataframe thead th {\n",
              "        text-align: right;\n",
              "    }\n",
              "</style>\n",
              "<table border=\"1\" class=\"dataframe\">\n",
              "  <thead>\n",
              "    <tr style=\"text-align: right;\">\n",
              "      <th></th>\n",
              "      <th>Romance</th>\n",
              "      <th>Anime</th>\n",
              "      <th>Drama</th>\n",
              "      <th>Comedy</th>\n",
              "      <th>Martial Sports</th>\n",
              "      <th>Variety</th>\n",
              "      <th>Sports Magazine</th>\n",
              "      <th>Action</th>\n",
              "      <th>Tennis / Squash</th>\n",
              "      <th>TV Shows (General)</th>\n",
              "      <th>...</th>\n",
              "      <th>TV Shows</th>\n",
              "      <th>Channels</th>\n",
              "      <th>launched_days</th>\n",
              "      <th>installed_times</th>\n",
              "      <th>reg_status</th>\n",
              "      <th>utm_visited_times</th>\n",
              "      <th>watched_days</th>\n",
              "      <th>vid_rep_count</th>\n",
              "      <th>viddet_view_cnt</th>\n",
              "      <th>country</th>\n",
              "    </tr>\n",
              "  </thead>\n",
              "  <tbody>\n",
              "    <tr>\n",
              "      <th>449d354cfbe6c83b51b3bf98dc3f5722</th>\n",
              "      <td>0.0</td>\n",
              "      <td>0.0</td>\n",
              "      <td>0.0</td>\n",
              "      <td>0.0</td>\n",
              "      <td>0.0</td>\n",
              "      <td>0.0</td>\n",
              "      <td>0.0</td>\n",
              "      <td>0.0</td>\n",
              "      <td>0.0</td>\n",
              "      <td>0.0</td>\n",
              "      <td>...</td>\n",
              "      <td>0.0</td>\n",
              "      <td>0.0</td>\n",
              "      <td>0</td>\n",
              "      <td>1</td>\n",
              "      <td>Unknown</td>\n",
              "      <td>1</td>\n",
              "      <td>NaN</td>\n",
              "      <td>0</td>\n",
              "      <td>0</td>\n",
              "      <td>A</td>\n",
              "    </tr>\n",
              "    <tr>\n",
              "      <th>5314fe615daa945fc2ae2bff5f46436d</th>\n",
              "      <td>0.0</td>\n",
              "      <td>0.0</td>\n",
              "      <td>0.0</td>\n",
              "      <td>0.0</td>\n",
              "      <td>0.0</td>\n",
              "      <td>0.0</td>\n",
              "      <td>0.0</td>\n",
              "      <td>0.0</td>\n",
              "      <td>0.0</td>\n",
              "      <td>0.0</td>\n",
              "      <td>...</td>\n",
              "      <td>0.0</td>\n",
              "      <td>0.0</td>\n",
              "      <td>1</td>\n",
              "      <td>2</td>\n",
              "      <td>Unknown</td>\n",
              "      <td>1</td>\n",
              "      <td>NaN</td>\n",
              "      <td>0</td>\n",
              "      <td>0</td>\n",
              "      <td>A</td>\n",
              "    </tr>\n",
              "    <tr>\n",
              "      <th>8c28f540f91ff707a7b49c31b336f45f</th>\n",
              "      <td>0.0</td>\n",
              "      <td>0.0</td>\n",
              "      <td>0.0</td>\n",
              "      <td>0.0</td>\n",
              "      <td>0.0</td>\n",
              "      <td>0.0</td>\n",
              "      <td>0.0</td>\n",
              "      <td>0.0</td>\n",
              "      <td>0.0</td>\n",
              "      <td>0.0</td>\n",
              "      <td>...</td>\n",
              "      <td>0.0</td>\n",
              "      <td>0.0</td>\n",
              "      <td>0</td>\n",
              "      <td>1</td>\n",
              "      <td>Unknown</td>\n",
              "      <td>1</td>\n",
              "      <td>NaN</td>\n",
              "      <td>0</td>\n",
              "      <td>0</td>\n",
              "      <td>A</td>\n",
              "    </tr>\n",
              "    <tr>\n",
              "      <th>865fc45c21a605c39f672d54d11430f7</th>\n",
              "      <td>0.0</td>\n",
              "      <td>0.0</td>\n",
              "      <td>0.0</td>\n",
              "      <td>0.0</td>\n",
              "      <td>0.0</td>\n",
              "      <td>0.0</td>\n",
              "      <td>0.0</td>\n",
              "      <td>0.0</td>\n",
              "      <td>0.0</td>\n",
              "      <td>0.0</td>\n",
              "      <td>...</td>\n",
              "      <td>0.0</td>\n",
              "      <td>0.0</td>\n",
              "      <td>0</td>\n",
              "      <td>1</td>\n",
              "      <td>Completed</td>\n",
              "      <td>0</td>\n",
              "      <td>NaN</td>\n",
              "      <td>0</td>\n",
              "      <td>0</td>\n",
              "      <td>B</td>\n",
              "    </tr>\n",
              "    <tr>\n",
              "      <th>a49c4479e7242776bf4919d3fbc7fc12</th>\n",
              "      <td>0.0</td>\n",
              "      <td>0.0</td>\n",
              "      <td>0.0</td>\n",
              "      <td>0.0</td>\n",
              "      <td>0.0</td>\n",
              "      <td>0.0</td>\n",
              "      <td>0.0</td>\n",
              "      <td>0.0</td>\n",
              "      <td>0.0</td>\n",
              "      <td>0.0</td>\n",
              "      <td>...</td>\n",
              "      <td>0.0</td>\n",
              "      <td>0.0</td>\n",
              "      <td>15</td>\n",
              "      <td>4</td>\n",
              "      <td>Unknown</td>\n",
              "      <td>1</td>\n",
              "      <td>NaN</td>\n",
              "      <td>0</td>\n",
              "      <td>0</td>\n",
              "      <td>A</td>\n",
              "    </tr>\n",
              "  </tbody>\n",
              "</table>\n",
              "<p>5 rows × 65 columns</p>\n",
              "</div>"
            ],
            "text/plain": [
              "                                   Romance    Anime    Drama    Comedy   \\\n",
              "449d354cfbe6c83b51b3bf98dc3f5722        0.0      0.0      0.0       0.0   \n",
              "5314fe615daa945fc2ae2bff5f46436d        0.0      0.0      0.0       0.0   \n",
              "8c28f540f91ff707a7b49c31b336f45f        0.0      0.0      0.0       0.0   \n",
              "865fc45c21a605c39f672d54d11430f7        0.0      0.0      0.0       0.0   \n",
              "a49c4479e7242776bf4919d3fbc7fc12        0.0      0.0      0.0       0.0   \n",
              "\n",
              "                                   Martial Sports    Variety   \\\n",
              "449d354cfbe6c83b51b3bf98dc3f5722               0.0        0.0   \n",
              "5314fe615daa945fc2ae2bff5f46436d               0.0        0.0   \n",
              "8c28f540f91ff707a7b49c31b336f45f               0.0        0.0   \n",
              "865fc45c21a605c39f672d54d11430f7               0.0        0.0   \n",
              "a49c4479e7242776bf4919d3fbc7fc12               0.0        0.0   \n",
              "\n",
              "                                   Sports Magazine    Action   \\\n",
              "449d354cfbe6c83b51b3bf98dc3f5722                0.0       0.0   \n",
              "5314fe615daa945fc2ae2bff5f46436d                0.0       0.0   \n",
              "8c28f540f91ff707a7b49c31b336f45f                0.0       0.0   \n",
              "865fc45c21a605c39f672d54d11430f7                0.0       0.0   \n",
              "a49c4479e7242776bf4919d3fbc7fc12                0.0       0.0   \n",
              "\n",
              "                                   Tennis / Squash    TV Shows (General)   \\\n",
              "449d354cfbe6c83b51b3bf98dc3f5722                0.0                   0.0   \n",
              "5314fe615daa945fc2ae2bff5f46436d                0.0                   0.0   \n",
              "8c28f540f91ff707a7b49c31b336f45f                0.0                   0.0   \n",
              "865fc45c21a605c39f672d54d11430f7                0.0                   0.0   \n",
              "a49c4479e7242776bf4919d3fbc7fc12                0.0                   0.0   \n",
              "\n",
              "                                   ...      TV Shows   Channels  \\\n",
              "449d354cfbe6c83b51b3bf98dc3f5722   ...           0.0        0.0   \n",
              "5314fe615daa945fc2ae2bff5f46436d   ...           0.0        0.0   \n",
              "8c28f540f91ff707a7b49c31b336f45f   ...           0.0        0.0   \n",
              "865fc45c21a605c39f672d54d11430f7   ...           0.0        0.0   \n",
              "a49c4479e7242776bf4919d3fbc7fc12   ...           0.0        0.0   \n",
              "\n",
              "                                  launched_days  installed_times  reg_status  \\\n",
              "449d354cfbe6c83b51b3bf98dc3f5722              0                1     Unknown   \n",
              "5314fe615daa945fc2ae2bff5f46436d              1                2     Unknown   \n",
              "8c28f540f91ff707a7b49c31b336f45f              0                1     Unknown   \n",
              "865fc45c21a605c39f672d54d11430f7              0                1   Completed   \n",
              "a49c4479e7242776bf4919d3fbc7fc12             15                4     Unknown   \n",
              "\n",
              "                                  utm_visited_times  watched_days  \\\n",
              "449d354cfbe6c83b51b3bf98dc3f5722                  1           NaN   \n",
              "5314fe615daa945fc2ae2bff5f46436d                  1           NaN   \n",
              "8c28f540f91ff707a7b49c31b336f45f                  1           NaN   \n",
              "865fc45c21a605c39f672d54d11430f7                  0           NaN   \n",
              "a49c4479e7242776bf4919d3fbc7fc12                  1           NaN   \n",
              "\n",
              "                                  vid_rep_count  viddet_view_cnt  country  \n",
              "449d354cfbe6c83b51b3bf98dc3f5722              0                0        A  \n",
              "5314fe615daa945fc2ae2bff5f46436d              0                0        A  \n",
              "8c28f540f91ff707a7b49c31b336f45f              0                0        A  \n",
              "865fc45c21a605c39f672d54d11430f7              0                0        B  \n",
              "a49c4479e7242776bf4919d3fbc7fc12              0                0        A  \n",
              "\n",
              "[5 rows x 65 columns]"
            ]
          },
          "metadata": {
            "tags": []
          },
          "execution_count": 44
        }
      ]
    },
    {
      "metadata": {
        "id": "0E_hbLpD74n6",
        "colab_type": "text"
      },
      "cell_type": "markdown",
      "source": [
        "### Cell Description\n",
        "Below cell creates dummy variables for all the categorical features."
      ]
    },
    {
      "metadata": {
        "id": "YsX9plTvBvd7",
        "colab_type": "code",
        "colab": {
          "base_uri": "https://localhost:8080/",
          "height": 34
        },
        "outputId": "c301ddcf-6101-4447-8fb0-b3966765bf56"
      },
      "cell_type": "code",
      "source": [
        "final_df = pd.get_dummies(final_df);\n",
        "final_df.shape"
      ],
      "execution_count": 45,
      "outputs": [
        {
          "output_type": "execute_result",
          "data": {
            "text/plain": [
              "(25000, 70)"
            ]
          },
          "metadata": {
            "tags": []
          },
          "execution_count": 45
        }
      ]
    },
    {
      "metadata": {
        "id": "lYM-y0J3-sLr",
        "colab_type": "text"
      },
      "cell_type": "markdown",
      "source": [
        "### Save the dataframe in csv file"
      ]
    },
    {
      "metadata": {
        "id": "wdcCow3BF93z",
        "colab_type": "code",
        "colab": {}
      },
      "cell_type": "code",
      "source": [
        "final_df.to_csv('drive/My Drive/Capstone/CleverTap Capstone/Data/final_df.csv')"
      ],
      "execution_count": 0,
      "outputs": []
    },
    {
      "metadata": {
        "id": "2_0CAQVi-4Ij",
        "colab_type": "text"
      },
      "cell_type": "markdown",
      "source": [
        "### Cell Description\n",
        "Below cell creates and stores a dataframe which contains latest entry when user uninstalled the app, leaving any previous uninstall records.\n"
      ]
    },
    {
      "metadata": {
        "id": "nOAQciUXvenp",
        "colab_type": "code",
        "outputId": "34c483f9-3c8a-425f-8f49-2b918b33697f",
        "colab": {
          "base_uri": "https://localhost:8080/",
          "height": 34
        }
      },
      "cell_type": "code",
      "source": [
        "uninstall_unique = pd.DataFrame()\n",
        "uninstall = pd.read_csv('drive/My Drive/Capstone/CleverTap Capstone/Data/AppUninstalled.csv')\n",
        "uninstall['Date'] = pd.to_datetime(uninstall['Date'].apply(lambda x:inttostr(x)))\n",
        "\n",
        "for uid in tqdm(userids):\n",
        "  temp = uninstall.loc[uninstall.UserId==uid]\n",
        "  temp = temp[temp.Date==temp.Date.max()]\n",
        "  uninstall_unique = pd.concat([uninstall_unique,temp])\n",
        "\n",
        "uninstall_unique.to_csv('drive/My Drive/Capstone/CleverTap Capstone/Data/uninstall_unique.csv')\n"
      ],
      "execution_count": 5,
      "outputs": [
        {
          "output_type": "stream",
          "text": [
            "100%|██████████| 25000/25000 [12:40<00:00, 32.39it/s]\n"
          ],
          "name": "stderr"
        }
      ]
    },
    {
      "metadata": {
        "id": "EFG7Fhc9QGUg",
        "colab_type": "code",
        "outputId": "3f33cd58-10c7-4208-fb9e-f660c538cec5",
        "colab": {
          "base_uri": "https://localhost:8080/",
          "height": 286
        }
      },
      "cell_type": "code",
      "source": [
        "import matplotlib.pyplot as plt\n",
        "%matplotlib inline\n",
        "temp.VideoId.value_counts().plot(kind='hist',bins=2000)\n",
        "plt.xlim(0,1000)"
      ],
      "execution_count": 0,
      "outputs": [
        {
          "output_type": "execute_result",
          "data": {
            "text/plain": [
              "(0, 1000)"
            ]
          },
          "metadata": {
            "tags": []
          },
          "execution_count": 16
        },
        {
          "output_type": "display_data",
          "data": {
            "image/png": "[encoded data removed]",
            "text/plain": [
              "<Figure size 432x288 with 1 Axes>"
            ]
          },
          "metadata": {
            "tags": []
          }
        }
      ]
    }
  ]
}