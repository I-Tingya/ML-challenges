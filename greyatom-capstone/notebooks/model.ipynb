{
  "nbformat": 4,
  "nbformat_minor": 0,
  "metadata": {
    "colab": {
      "name": "model.ipynb",
      "version": "0.3.2",
      "provenance": [],
      "collapsed_sections": []
    },
    "kernelspec": {
      "name": "python3",
      "display_name": "Python 3"
    }
  },
  "cells": [
    {
      "metadata": {
        "id": "nAUAe5URFGIA",
        "colab_type": "text"
      },
      "cell_type": "markdown",
      "source": [
        "#Modelling notebook\n",
        "This notebook uses data frame which is created in `feature-engineering notebook` and then segments the users using K Means. It then tries to predict which segments will uninstall the movies within next two days. <br>\n",
        "We have already created  a file **uninstall_unique** which contains the users who have uninstalled the app in  `feature-engineering notebook`."
      ]
    },
    {
      "metadata": {
        "id": "yDL-TFi9IK48",
        "colab_type": "text"
      },
      "cell_type": "markdown",
      "source": [
        "##Mount Google drive in Colab where data is stored "
      ]
    },
    {
      "metadata": {
        "id": "LoZXLk6lRphB",
        "colab_type": "code",
        "outputId": "4cc48a3b-8536-4d27-ef2c-4fb6e651b01c",
        "colab": {
          "base_uri": "https://localhost:8080/",
          "height": 122
        }
      },
      "cell_type": "code",
      "source": [
        "from google.colab import drive\n",
        "drive.mount('/content/drive')"
      ],
      "execution_count": 1,
      "outputs": [
        {
          "output_type": "stream",
          "text": [
            "Go to this URL in a browser: https://accounts.google.com/o/oauth2/auth?client_id=947318989803-6bn6qk8qdgf4n4g3pfee6491hc0brc4i.apps.googleusercontent.com&redirect_uri=urn%3Aietf%3Awg%3Aoauth%3A2.0%3Aoob&scope=email%20https%3A%2F%2Fwww.googleapis.com%2Fauth%2Fdocs.test%20https%3A%2F%2Fwww.googleapis.com%2Fauth%2Fdrive%20https%3A%2F%2Fwww.googleapis.com%2Fauth%2Fdrive.photos.readonly%20https%3A%2F%2Fwww.googleapis.com%2Fauth%2Fpeopleapi.readonly&response_type=code\n",
            "\n",
            "Enter your authorization code:\n",
            "··········\n",
            "Mounted at /content/drive\n"
          ],
          "name": "stdout"
        }
      ]
    },
    {
      "metadata": {
        "id": "HJ8LkHQVIQK-",
        "colab_type": "text"
      },
      "cell_type": "markdown",
      "source": [
        "## Import necessary python libraries<br>\n"
      ]
    },
    {
      "metadata": {
        "id": "rGu4rKd4yyaP",
        "colab_type": "code",
        "colab": {}
      },
      "cell_type": "code",
      "source": [
        "import pandas as pd\n",
        "#!pip install ray\n",
        "import numpy as np\n",
        "import warnings\n",
        "warnings.filterwarnings('ignore')\n",
        "from tqdm import tqdm"
      ],
      "execution_count": 0,
      "outputs": []
    },
    {
      "metadata": {
        "id": "UiqA6jZPIWs8",
        "colab_type": "text"
      },
      "cell_type": "markdown",
      "source": [
        "## Load the datasets\n"
      ]
    },
    {
      "metadata": {
        "id": "IgpKJCtDy2k6",
        "colab_type": "code",
        "colab": {}
      },
      "cell_type": "code",
      "source": [
        "final_df = pd.read_csv('drive/My Drive/Capstone/CleverTap Capstone/Data/final_df.csv',index_col=0)\n",
        "uninstall_unique = pd.read_csv('drive/My Drive/Capstone/CleverTap Capstone/Data/uninstall_unique.csv',index_col=0)\n",
        "final_df.drop(['actual','predicted'],axis=1,inplace=True)"
      ],
      "execution_count": 0,
      "outputs": []
    },
    {
      "metadata": {
        "id": "AtSh8wkuKa9Y",
        "colab_type": "text"
      },
      "cell_type": "markdown",
      "source": [
        "### Cell Description\n",
        "Below cell creates two additional features `watch_rate` and `launch_rate` i.e how many times a user watches a video per day and how many times he launches the app per day.\n"
      ]
    },
    {
      "metadata": {
        "id": "nQ2dCRftyPfM",
        "colab_type": "code",
        "colab": {}
      },
      "cell_type": "code",
      "source": [
        "vidstarted = pd.read_csv('drive/My Drive/Capstone/CleverTap Capstone/Data/VideoStarted.csv')\n",
        "genres = vidstarted.Genre.unique()"
      ],
      "execution_count": 0,
      "outputs": []
    },
    {
      "metadata": {
        "id": "vaVeQosF1-Or",
        "colab_type": "code",
        "colab": {}
      },
      "cell_type": "code",
      "source": [
        "final_df['launched_days'] = final_df['launched_days'].replace({0:0.0001})\n",
        "final_df['launch_rate'] = final_df['installed_times']/final_df['launched_days']\n",
        "\n",
        "final_df['watched_days'] = final_df['watched_days'].replace({0:0.0001})\n",
        "final_df['vids_watched'] = final_df.loc[:,genres].sum(axis=1)\n",
        "final_df['watch_rate'] = final_df['vids_watched']/final_df['watched_days']\n",
        "\n",
        "#final_df.watch_rate = final_df.watch_rate.replace({np.inf:0})\n",
        "final_df = final_df.fillna(0)\n",
        "final_df.drop(['launched_days','watched_days'],axis=1,inplace=True)"
      ],
      "execution_count": 0,
      "outputs": []
    },
    {
      "metadata": {
        "id": "WJSvyQLlPlp9",
        "colab_type": "text"
      },
      "cell_type": "markdown",
      "source": [
        "### Cell Description\n",
        "Below cell creates 4 clusters of users. We used PCA to plot the clusters in 2d plot.\n"
      ]
    },
    {
      "metadata": {
        "id": "fpIacJrx1Ly6",
        "colab_type": "code",
        "outputId": "5adda1ef-d246-4b47-bc0e-b41fe3018e66",
        "colab": {
          "base_uri": "https://localhost:8080/",
          "height": 352
        }
      },
      "cell_type": "code",
      "source": [
        "from sklearn.cluster import KMeans, MiniBatchKMeans\n",
        "import seaborn as sns\n",
        "km = KMeans(n_clusters=4,random_state=42)\n",
        "#km = MiniBatchKMeans(n_clusters=4)\n",
        "km.fit(final_df)\n",
        "labels = km.predict(final_df)\n",
        "\n",
        "from sklearn.decomposition import PCA\n",
        "pca = PCA(n_components=2,random_state=42)\n",
        "res = pca.fit_transform(final_df)\n",
        "\n",
        "import matplotlib.pyplot as plt\n",
        "%matplotlib inline\n",
        "plt.figure(figsize=(15,5))\n",
        "plt.scatter(res[:,0],res[:,1],c=labels,cmap='viridis')\n",
        "sns.despine(bottom=True, left=True)\n",
        "plt.title('segmentation by KMeans')"
      ],
      "execution_count": 31,
      "outputs": [
        {
          "output_type": "execute_result",
          "data": {
            "text/plain": [
              "Text(0.5, 1.0, 'segmentation by KMeans')"
            ]
          },
          "metadata": {
            "tags": []
          },
          "execution_count": 31
        },
        {
          "output_type": "display_data",
          "data": {
            "image/png": "[encoded data removed]",
            "text/plain": [
              "<Figure size 1080x360 with 1 Axes>"
            ]
          },
          "metadata": {
            "tags": []
          }
        }
      ]
    },
    {
      "metadata": {
        "id": "n85-4u4uXW0B",
        "colab_type": "code",
        "outputId": "be20cbb0-263a-42f5-c71e-7da58adc8d2c",
        "colab": {
          "base_uri": "https://localhost:8080/",
          "height": 34
        }
      },
      "cell_type": "code",
      "source": [
        "#print(abs( pca.components_ ))\n",
        "pca.explained_variance_ratio_"
      ],
      "execution_count": 36,
      "outputs": [
        {
          "output_type": "execute_result",
          "data": {
            "text/plain": [
              "array([0.85825654, 0.14168809])"
            ]
          },
          "metadata": {
            "tags": []
          },
          "execution_count": 36
        }
      ]
    },
    {
      "metadata": {
        "id": "31rU23jV2NpX",
        "colab_type": "code",
        "outputId": "74f6b83e-abe2-4920-e810-94a38ced346d",
        "colab": {
          "base_uri": "https://localhost:8080/",
          "height": 102
        }
      },
      "cell_type": "code",
      "source": [
        "final_df['predicted'] = labels\n",
        "final_df['predicted'].value_counts()"
      ],
      "execution_count": 27,
      "outputs": [
        {
          "output_type": "execute_result",
          "data": {
            "text/plain": [
              "0    121902\n",
              "3     21654\n",
              "2      6439\n",
              "1         5\n",
              "Name: predicted, dtype: int64"
            ]
          },
          "metadata": {
            "tags": []
          },
          "execution_count": 27
        }
      ]
    },
    {
      "metadata": {
        "id": "kGt7bZg2QOpJ",
        "colab_type": "text"
      },
      "cell_type": "markdown",
      "source": [
        "###Cell Description\n",
        "Below cell creates a list `actual` which stores 0 if user uninstalled the app else it stores 1. This will be used as ***Yactual*** during\n",
        "evaluation. <br>\n",
        "We also make the predictions on the basis of clustering and store it in `predicted`. This will be used as ***Ypred***. "
      ]
    },
    {
      "metadata": {
        "id": "0CF3L991lHnE",
        "colab_type": "code",
        "colab": {}
      },
      "cell_type": "code",
      "source": [
        "#actual = [1 if uid not in uninstall_unique.UserId.tolist() else 0 for uid in tqdm(final_df.index.tolist())]\n",
        "final_df['actual'] = actual\n",
        "final_df['predicted'] = labels\n",
        "final_df['predicted'] = final_df['predicted'].replace({0:1,1:0,2:0,3:0})"
      ],
      "execution_count": 0,
      "outputs": []
    },
    {
      "metadata": {
        "id": "85IuhE75RNba",
        "colab_type": "text"
      },
      "cell_type": "markdown",
      "source": [
        "###Cell Description\n",
        "Below cell evaluates the model. "
      ]
    },
    {
      "metadata": {
        "id": "2QyQeI_T2GnD",
        "colab_type": "code",
        "colab": {
          "base_uri": "https://localhost:8080/",
          "height": 136
        },
        "outputId": "72ec9a01-89f3-4cab-db08-024e898565fd"
      },
      "cell_type": "code",
      "source": [
        "from sklearn.metrics import f1_score,accuracy_score,precision_score,confusion_matrix,recall_score\n",
        "\n",
        "f_score = f1_score(final_df['actual'],final_df['predicted'])\n",
        "acc_score = accuracy_score(final_df['actual'],final_df['predicted'])\n",
        "\n",
        "prec_score = precision_score(final_df['actual'],final_df['predicted'])\n",
        "rec_score = recall_score(final_df['actual'],final_df['predicted'])\n",
        "\n",
        "print('f1_score:'+str(f_score))\n",
        "print('recall_score:'+str(rec_score))\n",
        "print('precision_score:'+str(prec_score))\n",
        "print('accuracy_score:'+str(acc_score))\n",
        "print('confusion_matrix:')\n",
        "\n",
        "confusion_matrix(final_df['actual'],final_df['predicted'],labels=[0,1])"
      ],
      "execution_count": 29,
      "outputs": [
        {
          "output_type": "stream",
          "text": [
            "f1_score:0.4576107667446516\n",
            "recall_score:0.8635474033953848\n",
            "precision_score:0.3112828337517022\n",
            "accuracy_score:0.40032\n",
            "confusion_matrix:\n"
          ],
          "name": "stdout"
        },
        {
          "output_type": "execute_result",
          "data": {
            "text/plain": [
              "array([[22102, 83956],\n",
              "       [ 5996, 37946]])"
            ]
          },
          "metadata": {
            "tags": []
          },
          "execution_count": 29
        }
      ]
    },
    {
      "metadata": {
        "id": "eRsU-Oe-vbhy",
        "colab_type": "code",
        "colab": {
          "base_uri": "https://localhost:8080/",
          "height": 136
        },
        "outputId": "522263f8-458b-48d0-8ce3-875576a76fe8"
      },
      "cell_type": "code",
      "source": [
        "temp = [1]*150000\n",
        "f_score = f1_score(final_df['actual'],temp)\n",
        "acc_score = accuracy_score(final_df['actual'],temp)\n",
        "prec_score = precision_score(final_df['actual'],temp)\n",
        "rec_score = recall_score(final_df['actual'],temp)\n",
        "\n",
        "print('f1_score:'+str(f_score))\n",
        "print('precision_score:'+str(prec_score))\n",
        "print('recall_score:'+str(rec_score))\n",
        "print('accuracy_score:'+str(acc_score))\n",
        "print('confusion_matrix:')\n",
        "\n",
        "confusion_matrix(final_df['actual'],temp,labels=[0,1])\n"
      ],
      "execution_count": 190,
      "outputs": [
        {
          "output_type": "stream",
          "text": [
            "f1_score:0.4531457858535026\n",
            "precision_score:0.2929466666666667\n",
            "recall_score:1.0\n",
            "accuracy_score:0.2929466666666667\n",
            "confusion_matrix:\n"
          ],
          "name": "stdout"
        },
        {
          "output_type": "execute_result",
          "data": {
            "text/plain": [
              "array([[     0, 106058],\n",
              "       [     0,  43942]])"
            ]
          },
          "metadata": {
            "tags": []
          },
          "execution_count": 190
        }
      ]
    },
    {
      "metadata": {
        "id": "i0VHuc1Avn-m",
        "colab_type": "code",
        "colab": {
          "base_uri": "https://localhost:8080/",
          "height": 68
        },
        "outputId": "ac9ddca6-23b6-40ea-a56a-5dda11306b87"
      },
      "cell_type": "code",
      "source": [
        "final_df.actual.value_counts()"
      ],
      "execution_count": 41,
      "outputs": [
        {
          "output_type": "execute_result",
          "data": {
            "text/plain": [
              "0    106058\n",
              "1     43942\n",
              "Name: actual, dtype: int64"
            ]
          },
          "metadata": {
            "tags": []
          },
          "execution_count": 41
        }
      ]
    }
  ]
}