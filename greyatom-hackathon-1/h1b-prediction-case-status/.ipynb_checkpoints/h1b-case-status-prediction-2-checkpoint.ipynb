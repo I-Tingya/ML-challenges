{
 "cells": [
  {
   "cell_type": "markdown",
   "metadata": {},
   "source": [
    "# H1B Disclosure Dataset: Predicting the case Status\n",
    "<br>\n",
    "\n",
    "### Problem Statement:\n",
    "The H-1B Dataset selected for this project contains data from employer’s Labor Condition\n",
    "Application and the case certification determinations processed by the Office of Foreign Labor\n",
    "Certification (OFLC) where the date of the determination was issued on or after October 1,\n",
    "2016, and on or before June 30, 2017.<br>\n",
    "<br>\n",
    "The Labor Condition Application (LCA) is a document that a prospective H-1B employer files\n",
    "with U.S. Department of Labor Employment and Training Administration (DOLETA) when it\n",
    "seeks to employ nonimmigrant workers at a specific job occupation in an area of intended\n",
    "employment for not more than three years.<br>\n",
    "<br>\n",
    "The goal for this project is to predict the case status of an application submitted by the employer\n",
    "to hire non-immigrant workers under the H-1B visa program. The employer can hire\n",
    "non-immigrant workers only after their LCA petition is approved. The approved LCA petition is\n",
    "then submitted as part of the Petition for a Non-immigrant Worker application for work\n",
    "authorizations for H-1B visa status.\n"
   ]
  },
  {
   "cell_type": "code",
   "execution_count": 2,
   "metadata": {
    "_cell_guid": "b1076dfc-b9ad-4769-8c92-a6c4dae69d19",
    "_uuid": "8f2839f25d086af736a60e9eeb907d3b93b6e0e5"
   },
   "outputs": [],
   "source": [
    "# import libraries required to carry out data preprocessing and visualization\n",
    "import pandas as pd\n",
    "import numpy as np\n",
    "import seaborn as sns\n",
    "#sns.set(font_scale = 1)\n",
    "import matplotlib.pyplot as plt\n",
    "%matplotlib inline\n",
    "#plt.rcParams['font.size'] = 5\n",
    "#plt.rc('xtick', labelsize=10) \n",
    "#plt.rc('ytick', labelsize=10)\n",
    "import random\n",
    "import time\n",
    "import warnings\n",
    "warnings.filterwarnings('ignore')\n",
    "\n",
    "from sklearn.preprocessing import LabelEncoder\n",
    "\n",
    "# import libraries to support modelling, hyperparameter tuning\n",
    "from sklearn.model_selection import StratifiedKFold\n",
    "from sklearn.model_selection import cross_val_score\n",
    "from sklearn.model_selection import train_test_split, GridSearchCV\n",
    "from sklearn.impute import SimpleImputer\n",
    "from sklearn import ensemble,model_selection\n",
    "\n",
    "# import libraries to manage imbalanced data set\n",
    "from imblearn.under_sampling import ClusterCentroids,RandomUnderSampler\n",
    "from imblearn.over_sampling import RandomOverSampler,SMOTE\n",
    "\n",
    "#import sklearn classifiers\n",
    "from sklearn.linear_model import LogisticRegression\n",
    "from sklearn.ensemble import RandomForestClassifier,AdaBoostClassifier,GradientBoostingClassifier\n",
    "\n",
    "#import xgboost classifier\n",
    "from xgboost import XGBClassifier\n",
    "\n",
    "#import metrics required for model evaluation\n",
    "from sklearn.metrics import accuracy_score,precision_score,recall_score,f1_score,confusion_matrix,roc_auc_score\n",
    "from sklearn import metrics\n"
   ]
  },
  {
   "cell_type": "code",
   "execution_count": 5,
   "metadata": {
    "_cell_guid": "79c7e3d0-c299-4dcb-8224-4455121ee9b0",
    "_uuid": "d629ff2d2480ee46fbb7e2d37f6b5fab8052498a"
   },
   "outputs": [],
   "source": [
    "# read the dataset\n",
    "df = pd.read_csv('./data/H-1B_Disclosure_Data_FY17.csv',index_col=0)"
   ]
  },
  {
   "cell_type": "code",
   "execution_count": 6,
   "metadata": {},
   "outputs": [
    {
     "data": {
      "text/plain": [
       "(624650, 52)"
      ]
     },
     "execution_count": 6,
     "metadata": {},
     "output_type": "execute_result"
    }
   ],
   "source": [
    "df.shape"
   ]
  },
  {
   "cell_type": "code",
   "execution_count": 10,
   "metadata": {},
   "outputs": [
    {
     "data": {
      "text/html": [
       "<div>\n",
       "<style scoped>\n",
       "    .dataframe tbody tr th:only-of-type {\n",
       "        vertical-align: middle;\n",
       "    }\n",
       "\n",
       "    .dataframe tbody tr th {\n",
       "        vertical-align: top;\n",
       "    }\n",
       "\n",
       "    .dataframe thead th {\n",
       "        text-align: right;\n",
       "    }\n",
       "</style>\n",
       "<table border=\"1\" class=\"dataframe\">\n",
       "  <thead>\n",
       "    <tr style=\"text-align: right;\">\n",
       "      <th></th>\n",
       "      <th>CASE_NUMBER</th>\n",
       "      <th>CASE_STATUS</th>\n",
       "      <th>CASE_SUBMITTED</th>\n",
       "      <th>DECISION_DATE</th>\n",
       "      <th>VISA_CLASS</th>\n",
       "      <th>EMPLOYMENT_START_DATE</th>\n",
       "      <th>EMPLOYMENT_END_DATE</th>\n",
       "      <th>EMPLOYER_NAME</th>\n",
       "      <th>EMPLOYER_BUSINESS_DBA</th>\n",
       "      <th>EMPLOYER_ADDRESS</th>\n",
       "      <th>...</th>\n",
       "      <th>H1B_DEPENDENT</th>\n",
       "      <th>WILLFUL_VIOLATOR</th>\n",
       "      <th>SUPPORT_H1B</th>\n",
       "      <th>LABOR_CON_AGREE</th>\n",
       "      <th>PUBLIC_DISCLOSURE_LOCATION</th>\n",
       "      <th>WORKSITE_CITY</th>\n",
       "      <th>WORKSITE_COUNTY</th>\n",
       "      <th>WORKSITE_STATE</th>\n",
       "      <th>WORKSITE_POSTAL_CODE</th>\n",
       "      <th>ORIGINAL_CERT_DATE</th>\n",
       "    </tr>\n",
       "  </thead>\n",
       "  <tbody>\n",
       "    <tr>\n",
       "      <th>0</th>\n",
       "      <td>I-200-16055-173457</td>\n",
       "      <td>CERTIFIED-WITHDRAWN</td>\n",
       "      <td>2016-02-24</td>\n",
       "      <td>2016-10-01</td>\n",
       "      <td>H-1B</td>\n",
       "      <td>2016-08-10</td>\n",
       "      <td>2019-08-10</td>\n",
       "      <td>DISCOVER PRODUCTS INC.</td>\n",
       "      <td>NaN</td>\n",
       "      <td>2500 LAKE COOK ROAD</td>\n",
       "      <td>...</td>\n",
       "      <td>N</td>\n",
       "      <td>N</td>\n",
       "      <td>NaN</td>\n",
       "      <td>Y</td>\n",
       "      <td>NaN</td>\n",
       "      <td>RIVERWOODS</td>\n",
       "      <td>LAKE</td>\n",
       "      <td>IL</td>\n",
       "      <td>60015</td>\n",
       "      <td>2016-03-01</td>\n",
       "    </tr>\n",
       "    <tr>\n",
       "      <th>1</th>\n",
       "      <td>I-200-16064-557834</td>\n",
       "      <td>CERTIFIED-WITHDRAWN</td>\n",
       "      <td>2016-03-04</td>\n",
       "      <td>2016-10-01</td>\n",
       "      <td>H-1B</td>\n",
       "      <td>2016-08-16</td>\n",
       "      <td>2019-08-16</td>\n",
       "      <td>DFS SERVICES LLC</td>\n",
       "      <td>NaN</td>\n",
       "      <td>2500 LAKE COOK ROAD</td>\n",
       "      <td>...</td>\n",
       "      <td>N</td>\n",
       "      <td>N</td>\n",
       "      <td>NaN</td>\n",
       "      <td>Y</td>\n",
       "      <td>NaN</td>\n",
       "      <td>RIVERWOODS</td>\n",
       "      <td>LAKE</td>\n",
       "      <td>IL</td>\n",
       "      <td>60015</td>\n",
       "      <td>2016-03-08</td>\n",
       "    </tr>\n",
       "    <tr>\n",
       "      <th>2</th>\n",
       "      <td>I-200-16063-996093</td>\n",
       "      <td>CERTIFIED-WITHDRAWN</td>\n",
       "      <td>2016-03-10</td>\n",
       "      <td>2016-10-01</td>\n",
       "      <td>H-1B</td>\n",
       "      <td>2016-09-09</td>\n",
       "      <td>2019-09-09</td>\n",
       "      <td>EASTBANC TECHNOLOGIES LLC</td>\n",
       "      <td>NaN</td>\n",
       "      <td>1211 31ST ST. NW</td>\n",
       "      <td>...</td>\n",
       "      <td>Y</td>\n",
       "      <td>N</td>\n",
       "      <td>Y</td>\n",
       "      <td>NaN</td>\n",
       "      <td>NaN</td>\n",
       "      <td>WASHINGTON</td>\n",
       "      <td>NaN</td>\n",
       "      <td>DC</td>\n",
       "      <td>20007</td>\n",
       "      <td>2016-03-16</td>\n",
       "    </tr>\n",
       "    <tr>\n",
       "      <th>3</th>\n",
       "      <td>I-200-16272-196340</td>\n",
       "      <td>WITHDRAWN</td>\n",
       "      <td>2016-09-28</td>\n",
       "      <td>2016-10-01</td>\n",
       "      <td>H-1B</td>\n",
       "      <td>2017-01-26</td>\n",
       "      <td>2020-01-25</td>\n",
       "      <td>INFO SERVICES LLC</td>\n",
       "      <td>NaN</td>\n",
       "      <td>17177 NORTH LAUREL PARK DR</td>\n",
       "      <td>...</td>\n",
       "      <td>Y</td>\n",
       "      <td>N</td>\n",
       "      <td>Y</td>\n",
       "      <td>NaN</td>\n",
       "      <td>NaN</td>\n",
       "      <td>JERSEY CITY</td>\n",
       "      <td>HUDSON</td>\n",
       "      <td>NJ</td>\n",
       "      <td>07302</td>\n",
       "      <td>NaN</td>\n",
       "    </tr>\n",
       "    <tr>\n",
       "      <th>4</th>\n",
       "      <td>I-200-15053-636744</td>\n",
       "      <td>CERTIFIED-WITHDRAWN</td>\n",
       "      <td>2015-02-22</td>\n",
       "      <td>2016-10-02</td>\n",
       "      <td>H-1B</td>\n",
       "      <td>2015-03-01</td>\n",
       "      <td>2018-03-01</td>\n",
       "      <td>BB&amp;T CORPORATION</td>\n",
       "      <td>NaN</td>\n",
       "      <td>223 WEST NASH STREET</td>\n",
       "      <td>...</td>\n",
       "      <td>N</td>\n",
       "      <td>N</td>\n",
       "      <td>NaN</td>\n",
       "      <td>Y</td>\n",
       "      <td>NaN</td>\n",
       "      <td>NEW YORK</td>\n",
       "      <td>NEW YORK</td>\n",
       "      <td>NY</td>\n",
       "      <td>10036</td>\n",
       "      <td>2015-02-26</td>\n",
       "    </tr>\n",
       "  </tbody>\n",
       "</table>\n",
       "<p>5 rows × 52 columns</p>\n",
       "</div>"
      ],
      "text/plain": [
       "          CASE_NUMBER          CASE_STATUS CASE_SUBMITTED DECISION_DATE  \\\n",
       "0  I-200-16055-173457  CERTIFIED-WITHDRAWN     2016-02-24    2016-10-01   \n",
       "1  I-200-16064-557834  CERTIFIED-WITHDRAWN     2016-03-04    2016-10-01   \n",
       "2  I-200-16063-996093  CERTIFIED-WITHDRAWN     2016-03-10    2016-10-01   \n",
       "3  I-200-16272-196340            WITHDRAWN     2016-09-28    2016-10-01   \n",
       "4  I-200-15053-636744  CERTIFIED-WITHDRAWN     2015-02-22    2016-10-02   \n",
       "\n",
       "  VISA_CLASS EMPLOYMENT_START_DATE EMPLOYMENT_END_DATE  \\\n",
       "0       H-1B            2016-08-10          2019-08-10   \n",
       "1       H-1B            2016-08-16          2019-08-16   \n",
       "2       H-1B            2016-09-09          2019-09-09   \n",
       "3       H-1B            2017-01-26          2020-01-25   \n",
       "4       H-1B            2015-03-01          2018-03-01   \n",
       "\n",
       "               EMPLOYER_NAME EMPLOYER_BUSINESS_DBA  \\\n",
       "0     DISCOVER PRODUCTS INC.                   NaN   \n",
       "1           DFS SERVICES LLC                   NaN   \n",
       "2  EASTBANC TECHNOLOGIES LLC                   NaN   \n",
       "3          INFO SERVICES LLC                   NaN   \n",
       "4           BB&T CORPORATION                   NaN   \n",
       "\n",
       "             EMPLOYER_ADDRESS        ...         H1B_DEPENDENT  \\\n",
       "0         2500 LAKE COOK ROAD        ...                     N   \n",
       "1         2500 LAKE COOK ROAD        ...                     N   \n",
       "2            1211 31ST ST. NW        ...                     Y   \n",
       "3  17177 NORTH LAUREL PARK DR        ...                     Y   \n",
       "4        223 WEST NASH STREET        ...                     N   \n",
       "\n",
       "  WILLFUL_VIOLATOR SUPPORT_H1B LABOR_CON_AGREE PUBLIC_DISCLOSURE_LOCATION  \\\n",
       "0                N         NaN               Y                        NaN   \n",
       "1                N         NaN               Y                        NaN   \n",
       "2                N           Y             NaN                        NaN   \n",
       "3                N           Y             NaN                        NaN   \n",
       "4                N         NaN               Y                        NaN   \n",
       "\n",
       "  WORKSITE_CITY WORKSITE_COUNTY WORKSITE_STATE WORKSITE_POSTAL_CODE  \\\n",
       "0    RIVERWOODS            LAKE             IL                60015   \n",
       "1    RIVERWOODS            LAKE             IL                60015   \n",
       "2    WASHINGTON             NaN             DC                20007   \n",
       "3   JERSEY CITY          HUDSON             NJ                07302   \n",
       "4      NEW YORK        NEW YORK             NY                10036   \n",
       "\n",
       "  ORIGINAL_CERT_DATE  \n",
       "0         2016-03-01  \n",
       "1         2016-03-08  \n",
       "2         2016-03-16  \n",
       "3                NaN  \n",
       "4         2015-02-26  \n",
       "\n",
       "[5 rows x 52 columns]"
      ]
     },
     "execution_count": 10,
     "metadata": {},
     "output_type": "execute_result"
    }
   ],
   "source": [
    "df.head(5)"
   ]
  },
  {
   "cell_type": "code",
   "execution_count": 17,
   "metadata": {},
   "outputs": [
    {
     "name": "stdout",
     "output_type": "stream",
     "text": [
      "<class 'pandas.core.frame.DataFrame'>\n",
      "Int64Index: 624650 entries, 0 to 624649\n",
      "Data columns (total 52 columns):\n",
      "CASE_NUMBER                    624650 non-null object\n",
      "CASE_STATUS                    624650 non-null object\n",
      "CASE_SUBMITTED                 624650 non-null object\n",
      "DECISION_DATE                  624650 non-null object\n",
      "VISA_CLASS                     624650 non-null object\n",
      "EMPLOYMENT_START_DATE          624621 non-null object\n",
      "EMPLOYMENT_END_DATE            624620 non-null object\n",
      "EMPLOYER_NAME                  624594 non-null object\n",
      "EMPLOYER_BUSINESS_DBA          43270 non-null object\n",
      "EMPLOYER_ADDRESS               624643 non-null object\n",
      "EMPLOYER_CITY                  624635 non-null object\n",
      "EMPLOYER_STATE                 624632 non-null object\n",
      "EMPLOYER_POSTAL_CODE           624632 non-null object\n",
      "EMPLOYER_COUNTRY               528143 non-null object\n",
      "EMPLOYER_PROVINCE              6116 non-null object\n",
      "EMPLOYER_PHONE                 528142 non-null object\n",
      "EMPLOYER_PHONE_EXT             27872 non-null object\n",
      "AGENT_REPRESENTING_EMPLOYER    528144 non-null object\n",
      "AGENT_ATTORNEY_NAME            624650 non-null object\n",
      "AGENT_ATTORNEY_CITY            351344 non-null object\n",
      "AGENT_ATTORNEY_STATE           336009 non-null object\n",
      "JOB_TITLE                      624645 non-null object\n",
      "SOC_CODE                       624648 non-null object\n",
      "SOC_NAME                       624647 non-null object\n",
      "NAICS_CODE                     624643 non-null object\n",
      "TOTAL_WORKERS                  624650 non-null int64\n",
      "NEW_EMPLOYMENT                 624650 non-null int64\n",
      "CONTINUED_EMPLOYMENT           624650 non-null int64\n",
      "CHANGE_PREVIOUS_EMPLOYMENT     624650 non-null int64\n",
      "NEW_CONCURRENT_EMPLOYMENT      624650 non-null int64\n",
      "CHANGE_EMPLOYER                624650 non-null int64\n",
      "AMENDED_PETITION               624650 non-null int64\n",
      "FULL_TIME_POSITION             624645 non-null object\n",
      "PREVAILING_WAGE                624649 non-null float64\n",
      "PW_UNIT_OF_PAY                 624604 non-null object\n",
      "PW_WAGE_LEVEL                  500930 non-null object\n",
      "PW_SOURCE                      624604 non-null object\n",
      "PW_SOURCE_YEAR                 624605 non-null float64\n",
      "PW_SOURCE_OTHER                618278 non-null object\n",
      "WAGE_RATE_OF_PAY_FROM          624650 non-null float64\n",
      "WAGE_RATE_OF_PAY_TO            624649 non-null float64\n",
      "WAGE_UNIT_OF_PAY               624642 non-null object\n",
      "H1B_DEPENDENT                  610908 non-null object\n",
      "WILLFUL_VIOLATOR               610905 non-null object\n",
      "SUPPORT_H1B                    240476 non-null object\n",
      "LABOR_CON_AGREE                244975 non-null object\n",
      "PUBLIC_DISCLOSURE_LOCATION     0 non-null float64\n",
      "WORKSITE_CITY                  624637 non-null object\n",
      "WORKSITE_COUNTY                623471 non-null object\n",
      "WORKSITE_STATE                 624641 non-null object\n",
      "WORKSITE_POSTAL_CODE           624631 non-null object\n",
      "ORIGINAL_CERT_DATE             49708 non-null object\n",
      "dtypes: float64(5), int64(7), object(40)\n",
      "memory usage: 252.6+ MB\n"
     ]
    }
   ],
   "source": [
    "df.info()"
   ]
  },
  {
   "cell_type": "markdown",
   "metadata": {},
   "source": [
    "Data set is having 624K rows with 52 columns, the data set is big, lets see how many columns have null values in them."
   ]
  },
  {
   "cell_type": "code",
   "execution_count": 9,
   "metadata": {},
   "outputs": [
    {
     "data": {
      "text/plain": [
       "38"
      ]
     },
     "execution_count": 9,
     "metadata": {},
     "output_type": "execute_result"
    }
   ],
   "source": [
    "df.isna().any().sum()"
   ]
  },
  {
   "cell_type": "markdown",
   "metadata": {},
   "source": [
    "Out of 52 columns 38 have null values. I have used a method found on one of the kaggle kernel which takes in dataframe as input and gives dataframe containing null values in every columns and percentage of null values as output. We will remove features containing more than 50% null values."
   ]
  },
  {
   "cell_type": "code",
   "execution_count": 3,
   "metadata": {
    "_uuid": "c5c4cc2836e778ee60afdb298fe445278d082d6b"
   },
   "outputs": [
    {
     "name": "stdout",
     "output_type": "stream",
     "text": [
      "Your selected dataframe has 52 columns.\n",
      "There are 38 columns that have missing values.\n",
      "['PUBLIC_DISCLOSURE_LOCATION', 'EMPLOYER_PROVINCE', 'EMPLOYER_PHONE_EXT', 'EMPLOYER_BUSINESS_DBA', 'ORIGINAL_CERT_DATE', 'SUPPORT_H1B', 'LABOR_CON_AGREE']\n"
     ]
    },
    {
     "data": {
      "text/html": [
       "<div>\n",
       "<style scoped>\n",
       "    .dataframe tbody tr th:only-of-type {\n",
       "        vertical-align: middle;\n",
       "    }\n",
       "\n",
       "    .dataframe tbody tr th {\n",
       "        vertical-align: top;\n",
       "    }\n",
       "\n",
       "    .dataframe thead th {\n",
       "        text-align: right;\n",
       "    }\n",
       "</style>\n",
       "<table border=\"1\" class=\"dataframe\">\n",
       "  <thead>\n",
       "    <tr style=\"text-align: right;\">\n",
       "      <th></th>\n",
       "      <th>Missing Values</th>\n",
       "      <th>% of Total Values</th>\n",
       "    </tr>\n",
       "  </thead>\n",
       "  <tbody>\n",
       "    <tr>\n",
       "      <th>PUBLIC_DISCLOSURE_LOCATION</th>\n",
       "      <td>624650</td>\n",
       "      <td>100.0</td>\n",
       "    </tr>\n",
       "    <tr>\n",
       "      <th>EMPLOYER_PROVINCE</th>\n",
       "      <td>618534</td>\n",
       "      <td>99.0</td>\n",
       "    </tr>\n",
       "    <tr>\n",
       "      <th>EMPLOYER_PHONE_EXT</th>\n",
       "      <td>596778</td>\n",
       "      <td>95.5</td>\n",
       "    </tr>\n",
       "    <tr>\n",
       "      <th>EMPLOYER_BUSINESS_DBA</th>\n",
       "      <td>581380</td>\n",
       "      <td>93.1</td>\n",
       "    </tr>\n",
       "    <tr>\n",
       "      <th>ORIGINAL_CERT_DATE</th>\n",
       "      <td>574942</td>\n",
       "      <td>92.0</td>\n",
       "    </tr>\n",
       "    <tr>\n",
       "      <th>SUPPORT_H1B</th>\n",
       "      <td>384174</td>\n",
       "      <td>61.5</td>\n",
       "    </tr>\n",
       "    <tr>\n",
       "      <th>LABOR_CON_AGREE</th>\n",
       "      <td>379675</td>\n",
       "      <td>60.8</td>\n",
       "    </tr>\n",
       "    <tr>\n",
       "      <th>AGENT_ATTORNEY_STATE</th>\n",
       "      <td>288641</td>\n",
       "      <td>46.2</td>\n",
       "    </tr>\n",
       "    <tr>\n",
       "      <th>AGENT_ATTORNEY_CITY</th>\n",
       "      <td>273306</td>\n",
       "      <td>43.8</td>\n",
       "    </tr>\n",
       "    <tr>\n",
       "      <th>PW_WAGE_LEVEL</th>\n",
       "      <td>123720</td>\n",
       "      <td>19.8</td>\n",
       "    </tr>\n",
       "    <tr>\n",
       "      <th>EMPLOYER_PHONE</th>\n",
       "      <td>96508</td>\n",
       "      <td>15.4</td>\n",
       "    </tr>\n",
       "    <tr>\n",
       "      <th>EMPLOYER_COUNTRY</th>\n",
       "      <td>96507</td>\n",
       "      <td>15.4</td>\n",
       "    </tr>\n",
       "    <tr>\n",
       "      <th>AGENT_REPRESENTING_EMPLOYER</th>\n",
       "      <td>96506</td>\n",
       "      <td>15.4</td>\n",
       "    </tr>\n",
       "    <tr>\n",
       "      <th>WILLFUL_VIOLATOR</th>\n",
       "      <td>13745</td>\n",
       "      <td>2.2</td>\n",
       "    </tr>\n",
       "    <tr>\n",
       "      <th>H1B_DEPENDENT</th>\n",
       "      <td>13742</td>\n",
       "      <td>2.2</td>\n",
       "    </tr>\n",
       "    <tr>\n",
       "      <th>PW_SOURCE_OTHER</th>\n",
       "      <td>6372</td>\n",
       "      <td>1.0</td>\n",
       "    </tr>\n",
       "    <tr>\n",
       "      <th>WORKSITE_COUNTY</th>\n",
       "      <td>1179</td>\n",
       "      <td>0.2</td>\n",
       "    </tr>\n",
       "    <tr>\n",
       "      <th>EMPLOYER_NAME</th>\n",
       "      <td>56</td>\n",
       "      <td>0.0</td>\n",
       "    </tr>\n",
       "    <tr>\n",
       "      <th>PW_SOURCE</th>\n",
       "      <td>46</td>\n",
       "      <td>0.0</td>\n",
       "    </tr>\n",
       "    <tr>\n",
       "      <th>PW_UNIT_OF_PAY</th>\n",
       "      <td>46</td>\n",
       "      <td>0.0</td>\n",
       "    </tr>\n",
       "    <tr>\n",
       "      <th>PW_SOURCE_YEAR</th>\n",
       "      <td>45</td>\n",
       "      <td>0.0</td>\n",
       "    </tr>\n",
       "    <tr>\n",
       "      <th>EMPLOYMENT_END_DATE</th>\n",
       "      <td>30</td>\n",
       "      <td>0.0</td>\n",
       "    </tr>\n",
       "    <tr>\n",
       "      <th>EMPLOYMENT_START_DATE</th>\n",
       "      <td>29</td>\n",
       "      <td>0.0</td>\n",
       "    </tr>\n",
       "    <tr>\n",
       "      <th>WORKSITE_POSTAL_CODE</th>\n",
       "      <td>19</td>\n",
       "      <td>0.0</td>\n",
       "    </tr>\n",
       "    <tr>\n",
       "      <th>EMPLOYER_POSTAL_CODE</th>\n",
       "      <td>18</td>\n",
       "      <td>0.0</td>\n",
       "    </tr>\n",
       "    <tr>\n",
       "      <th>EMPLOYER_STATE</th>\n",
       "      <td>18</td>\n",
       "      <td>0.0</td>\n",
       "    </tr>\n",
       "    <tr>\n",
       "      <th>EMPLOYER_CITY</th>\n",
       "      <td>15</td>\n",
       "      <td>0.0</td>\n",
       "    </tr>\n",
       "    <tr>\n",
       "      <th>WORKSITE_CITY</th>\n",
       "      <td>13</td>\n",
       "      <td>0.0</td>\n",
       "    </tr>\n",
       "    <tr>\n",
       "      <th>WORKSITE_STATE</th>\n",
       "      <td>9</td>\n",
       "      <td>0.0</td>\n",
       "    </tr>\n",
       "    <tr>\n",
       "      <th>WAGE_UNIT_OF_PAY</th>\n",
       "      <td>8</td>\n",
       "      <td>0.0</td>\n",
       "    </tr>\n",
       "    <tr>\n",
       "      <th>NAICS_CODE</th>\n",
       "      <td>7</td>\n",
       "      <td>0.0</td>\n",
       "    </tr>\n",
       "    <tr>\n",
       "      <th>EMPLOYER_ADDRESS</th>\n",
       "      <td>7</td>\n",
       "      <td>0.0</td>\n",
       "    </tr>\n",
       "    <tr>\n",
       "      <th>JOB_TITLE</th>\n",
       "      <td>5</td>\n",
       "      <td>0.0</td>\n",
       "    </tr>\n",
       "    <tr>\n",
       "      <th>FULL_TIME_POSITION</th>\n",
       "      <td>5</td>\n",
       "      <td>0.0</td>\n",
       "    </tr>\n",
       "    <tr>\n",
       "      <th>SOC_NAME</th>\n",
       "      <td>3</td>\n",
       "      <td>0.0</td>\n",
       "    </tr>\n",
       "    <tr>\n",
       "      <th>SOC_CODE</th>\n",
       "      <td>2</td>\n",
       "      <td>0.0</td>\n",
       "    </tr>\n",
       "    <tr>\n",
       "      <th>PREVAILING_WAGE</th>\n",
       "      <td>1</td>\n",
       "      <td>0.0</td>\n",
       "    </tr>\n",
       "    <tr>\n",
       "      <th>WAGE_RATE_OF_PAY_TO</th>\n",
       "      <td>1</td>\n",
       "      <td>0.0</td>\n",
       "    </tr>\n",
       "  </tbody>\n",
       "</table>\n",
       "</div>"
      ],
      "text/plain": [
       "                             Missing Values  % of Total Values\n",
       "PUBLIC_DISCLOSURE_LOCATION           624650              100.0\n",
       "EMPLOYER_PROVINCE                    618534               99.0\n",
       "EMPLOYER_PHONE_EXT                   596778               95.5\n",
       "EMPLOYER_BUSINESS_DBA                581380               93.1\n",
       "ORIGINAL_CERT_DATE                   574942               92.0\n",
       "SUPPORT_H1B                          384174               61.5\n",
       "LABOR_CON_AGREE                      379675               60.8\n",
       "AGENT_ATTORNEY_STATE                 288641               46.2\n",
       "AGENT_ATTORNEY_CITY                  273306               43.8\n",
       "PW_WAGE_LEVEL                        123720               19.8\n",
       "EMPLOYER_PHONE                        96508               15.4\n",
       "EMPLOYER_COUNTRY                      96507               15.4\n",
       "AGENT_REPRESENTING_EMPLOYER           96506               15.4\n",
       "WILLFUL_VIOLATOR                      13745                2.2\n",
       "H1B_DEPENDENT                         13742                2.2\n",
       "PW_SOURCE_OTHER                        6372                1.0\n",
       "WORKSITE_COUNTY                        1179                0.2\n",
       "EMPLOYER_NAME                            56                0.0\n",
       "PW_SOURCE                                46                0.0\n",
       "PW_UNIT_OF_PAY                           46                0.0\n",
       "PW_SOURCE_YEAR                           45                0.0\n",
       "EMPLOYMENT_END_DATE                      30                0.0\n",
       "EMPLOYMENT_START_DATE                    29                0.0\n",
       "WORKSITE_POSTAL_CODE                     19                0.0\n",
       "EMPLOYER_POSTAL_CODE                     18                0.0\n",
       "EMPLOYER_STATE                           18                0.0\n",
       "EMPLOYER_CITY                            15                0.0\n",
       "WORKSITE_CITY                            13                0.0\n",
       "WORKSITE_STATE                            9                0.0\n",
       "WAGE_UNIT_OF_PAY                          8                0.0\n",
       "NAICS_CODE                                7                0.0\n",
       "EMPLOYER_ADDRESS                          7                0.0\n",
       "JOB_TITLE                                 5                0.0\n",
       "FULL_TIME_POSITION                        5                0.0\n",
       "SOC_NAME                                  3                0.0\n",
       "SOC_CODE                                  2                0.0\n",
       "PREVAILING_WAGE                           1                0.0\n",
       "WAGE_RATE_OF_PAY_TO                       1                0.0"
      ]
     },
     "execution_count": 3,
     "metadata": {},
     "output_type": "execute_result"
    }
   ],
   "source": [
    "#REMOVE COLUMNS BY NULL THRESHOLD\n",
    "def missing_values_table(df):\n",
    "\n",
    "        # Total missing values\n",
    "        mis_val = df.isnull().sum()\n",
    "        \n",
    "        # Percentage of missing values\n",
    "        mis_val_percent = 100 * df.isnull().sum() / len(df)\n",
    "        \n",
    "        # Make a table with the results\n",
    "        mis_val_table = pd.concat([mis_val, mis_val_percent], axis=1)\n",
    "        \n",
    "        # Rename the columns\n",
    "        mis_val_table_ren_columns = mis_val_table.rename(\n",
    "        columns = {0 : 'Missing Values', 1 : '% of Total Values'})\n",
    "        \n",
    "        # Sort the table by percentage of missing descending\n",
    "        mis_val_table_ren_columns = mis_val_table_ren_columns[\n",
    "            mis_val_table_ren_columns.iloc[:,1] != 0].sort_values(\n",
    "        '% of Total Values', ascending=False).round(1)\n",
    "        \n",
    "        # Print some summary information\n",
    "        print (\"Your selected dataframe has \" + str(df.shape[1]) + \" columns.\\n\"      \n",
    "            \"There are \" + str(mis_val_table_ren_columns.shape[0]) +\n",
    "              \" columns that have missing values.\")\n",
    "        \n",
    "        # Return the dataframe with missing information\n",
    "        return mis_val_table_ren_columns\n",
    "missing_df = missing_values_table(df);\n",
    "missing_columns = list(missing_df[missing_df['% of Total Values'] > 50].index)\n",
    "print(missing_columns)\n",
    "missing_df"
   ]
  },
  {
   "cell_type": "code",
   "execution_count": 15,
   "metadata": {},
   "outputs": [
    {
     "data": {
      "text/plain": [
       "UNITED STATES OF AMERICA    528132\n",
       "CANADA                           7\n",
       "AUSTRALIA                        2\n",
       "CHINA                            1\n",
       "CAMBODIA                         1\n",
       "Name: EMPLOYER_COUNTRY, dtype: int64"
      ]
     },
     "execution_count": 15,
     "metadata": {},
     "output_type": "execute_result"
    }
   ],
   "source": [
    "df.EMPLOYER_COUNTRY.value_counts()"
   ]
  },
  {
   "cell_type": "markdown",
   "metadata": {},
   "source": [
    "We will remove `PUBLIC_DISCLOSURE_LOCATION`, `EMPLOYER_PROVINCE`, `EMPLOYER_PHONE_EXT`, `EMPLOYER_BUSINESS_DBA`,`ORIGINAL_CERT_DATE`, `SUPPORT_H1B`, `LABOR_CON_AGREE` as they contain more than 50% values as null. <br>\n",
    "We will also remove `WORKSITE_POSTAL_CODE`,`EMPLOYER_POSTAL_CODE`,`EMPLOYER_COUNTRY`as of now. "
   ]
  },
  {
   "cell_type": "code",
   "execution_count": 19,
   "metadata": {},
   "outputs": [
    {
     "name": "stdout",
     "output_type": "stream",
     "text": [
      "shape:before dropping columns (624650, 52) \n",
      "shape:after dropping columns (624650, 42)\n"
     ]
    }
   ],
   "source": [
    "cdf_ = df.copy().drop(['CASE_NUMBER','PUBLIC_DISCLOSURE_LOCATION', 'EMPLOYER_PROVINCE', \n",
    "                      'EMPLOYER_PHONE_EXT', 'EMPLOYER_BUSINESS_DBA',\n",
    "                      'SUPPORT_H1B', 'LABOR_CON_AGREE','WORKSITE_POSTAL_CODE',\n",
    "                       'EMPLOYER_POSTAL_CODE','EMPLOYER_COUNTRY'],axis=1)\n",
    "print('shape:before dropping columns',df.shape,'\\nshape:after dropping columns',cdf_.shape)"
   ]
  },
  {
   "cell_type": "markdown",
   "metadata": {},
   "source": [
    "In the dataset there are few date columns which can be used to derive new features.<br>\n",
    "`CASE_SUBMITTED' and 'DECISION_DATE` can be used to make new column specifying number of `CASE_DAYS`.\n",
    "`EMPLOYMENT_START_DATE` and `EMPLOYMENT_END_DATE` can be used to make new column `EMP_DAYS`.\n",
    "We had `ORIGINAL_CERT_DATE` with 92% null values instead of dropping it I used it with `DECISION_DATE` to make new column `CERT_VAL_DAYS` specifying validity of certificate after decision date.<br>\n",
    "Finally we will drop the all the dates columns.We could have kept the columns and transformed them to keep 'months' in it."
   ]
  },
  {
   "cell_type": "code",
   "execution_count": 20,
   "metadata": {
    "_uuid": "c4398a3f3e84cadf79a67abe10f6117487f4a0bb"
   },
   "outputs": [
    {
     "name": "stdout",
     "output_type": "stream",
     "text": [
      "shape:before dropping columns (624650, 42)\n",
      "shape:after dropping columns (624650, 40)\n"
     ]
    }
   ],
   "source": [
    "print('shape:before dropping columns',cdf_.shape)\n",
    "cdf_['CASE_DAYS'] = pd.to_datetime(cdf_.loc[:,'DECISION_DATE']) - pd.to_datetime(cdf_.loc[:,'CASE_SUBMITTED'])\n",
    "cdf_['CASE_DAYS'] = cdf_['CASE_DAYS'].apply(lambda x:str(x).split()[0]);\n",
    "cdf_['CASE_DAYS'] = cdf_['CASE_DAYS'].astype('int64');\n",
    "\n",
    "cdf_['EMP_DAYS'] = pd.to_datetime(cdf_.loc[:,'EMPLOYMENT_END_DATE']) - pd.to_datetime(cdf_.loc[:,'EMPLOYMENT_START_DATE'])\n",
    "cdf_['EMP_DAYS'] = cdf_['EMP_DAYS'].apply(lambda x:str(x).split()[0]);\n",
    "cdf_['EMP_DAYS'] = cdf_['EMP_DAYS'].apply(lambda x:0 if x=='NaT' else x);\n",
    "cdf_['EMP_DAYS'] = cdf_['EMP_DAYS'].astype('int64');\n",
    "\n",
    "cdf_['CERT_VAL_DAYS'] = pd.to_datetime(cdf_.loc[:,'DECISION_DATE']) - pd.to_datetime(cdf_.loc[:,'ORIGINAL_CERT_DATE'])\n",
    "cdf_['CERT_VAL_DAYS'] = cdf_['CERT_VAL_DAYS'].apply(lambda x:str(x).split()[0]);\n",
    "cdf_['CERT_VAL_DAYS'] = cdf_['CERT_VAL_DAYS'].apply(lambda x:0 if x=='NaT' else x);\n",
    "cdf_['CERT_VAL_DAYS'] = cdf_['CERT_VAL_DAYS'].astype('int64');\n",
    "\n",
    "cdf_ = cdf_.drop(['DECISION_DATE','CASE_SUBMITTED','EMPLOYMENT_START_DATE',\n",
    "                'EMPLOYMENT_END_DATE','ORIGINAL_CERT_DATE'],axis=1)\n",
    "print('shape:after dropping columns',cdf_.shape)\n"
   ]
  },
  {
   "cell_type": "code",
   "execution_count": 21,
   "metadata": {},
   "outputs": [
    {
     "data": {
      "text/plain": [
       "2016.0    437864\n",
       "2017.0    157657\n",
       "2015.0     17413\n",
       "2014.0      8236\n",
       "2013.0      2992\n",
       "2011.0       241\n",
       "2012.0       108\n",
       "2009.0        30\n",
       "2010.0        19\n",
       "2008.0        18\n",
       "2007.0        13\n",
       "2001.0         5\n",
       "0.0            2\n",
       "2000.0         1\n",
       "1999.0         1\n",
       "1998.0         1\n",
       "1993.0         1\n",
       "1985.0         1\n",
       "1.0            1\n",
       "15.0           1\n",
       "Name: PW_SOURCE_YEAR, dtype: int64"
      ]
     },
     "execution_count": 21,
     "metadata": {},
     "output_type": "execute_result"
    }
   ],
   "source": [
    "cdf_.PW_SOURCE_YEAR.value_counts()"
   ]
  },
  {
   "cell_type": "code",
   "execution_count": null,
   "metadata": {},
   "outputs": [],
   "source": [
    "#PW_SOURCE_YEAR is float type,we will convert it to category, there are few outliers in this column\n",
    "cdf_['PW_SOURCE_YEAR'] = cdf_['PW_SOURCE_YEAR'].astype('category')"
   ]
  },
  {
   "cell_type": "markdown",
   "metadata": {},
   "source": [
    "Its always a good practise to make new copies of dataframe after modifications, if we want to go back one step its more easier if we have copy otherwise we will have to execute all the cells right from the start."
   ]
  },
  {
   "cell_type": "code",
   "execution_count": 24,
   "metadata": {
    "_uuid": "68517507d89daebd4ce32e22b0f89cfa20c0c41e"
   },
   "outputs": [],
   "source": [
    "cdf = cdf_.copy()"
   ]
  },
  {
   "cell_type": "markdown",
   "metadata": {},
   "source": [
    "I have read the metadata that came along with dataset, So I already know that there are multiple visa classes but we just want to predict for h-1b hence we filter our dataframe to have just h-1b cases. Once we filter out h-1b case we can drop `VISA_CLASS` now it contains same value i.e H-1B."
   ]
  },
  {
   "cell_type": "code",
   "execution_count": 25,
   "metadata": {},
   "outputs": [
    {
     "data": {
      "text/plain": [
       "H-1B               610304\n",
       "E-3 Australian      12157\n",
       "H-1B1 Singapore      1254\n",
       "H-1B1 Chile           935\n",
       "Name: VISA_CLASS, dtype: int64"
      ]
     },
     "execution_count": 25,
     "metadata": {},
     "output_type": "execute_result"
    }
   ],
   "source": [
    "cdf.VISA_CLASS.value_counts()"
   ]
  },
  {
   "cell_type": "code",
   "execution_count": 6,
   "metadata": {
    "_uuid": "b374fb96f3278867aa9f56b8be3793c5ba5b6fa3"
   },
   "outputs": [
    {
     "name": "stdout",
     "output_type": "stream",
     "text": [
      "H-1B    610304\n",
      "Name: VISA_CLASS, dtype: int64\n",
      "shape is (610304, 39)\n"
     ]
    }
   ],
   "source": [
    "cdf = cdf[cdf['VISA_CLASS']=='H-1B']\n",
    "print(cdf.VISA_CLASS.value_counts())\n",
    "cdf.drop('VISA_CLASS',axis=1,inplace=True)\n",
    "print('shape is',cdf.shape)"
   ]
  },
  {
   "cell_type": "code",
   "execution_count": 27,
   "metadata": {},
   "outputs": [
    {
     "data": {
      "text/plain": [
       "1"
      ]
     },
     "execution_count": 27,
     "metadata": {},
     "output_type": "execute_result"
    }
   ],
   "source": [
    "cdf.JOB_TITLE.isna().any().sum()"
   ]
  },
  {
   "cell_type": "code",
   "execution_count": 28,
   "metadata": {
    "_uuid": "1332480964581a956c073f7d62b7ce9ba8c633af"
   },
   "outputs": [],
   "source": [
    "#there is one null value in JOB_TITLE, we will drop that row.\n",
    "cdf.dropna(subset=['JOB_TITLE'],inplace=True)"
   ]
  },
  {
   "cell_type": "markdown",
   "metadata": {},
   "source": [
    "As per metadata of this dataset there are four classes in `CASE_STATUS`,out of which we required to have two classes namely `CERTIFIED` and `DENIED`. We can rename `CERTIFIED-WITHDRAWN` labels as `CERTIFIED`. "
   ]
  },
  {
   "cell_type": "code",
   "execution_count": 29,
   "metadata": {},
   "outputs": [
    {
     "data": {
      "text/plain": [
       "CERTIFIED              545692\n",
       "CERTIFIED-WITHDRAWN     49704\n",
       "WITHDRAWN               20769\n",
       "DENIED                   8480\n",
       "Name: CASE_STATUS, dtype: int64"
      ]
     },
     "execution_count": 29,
     "metadata": {},
     "output_type": "execute_result"
    }
   ],
   "source": [
    "cdf.CASE_STATUS.value_counts()"
   ]
  },
  {
   "cell_type": "code",
   "execution_count": 30,
   "metadata": {
    "_uuid": "686e99d096c4bfb0d54ac15417454bf3b939d419"
   },
   "outputs": [
    {
     "name": "stdout",
     "output_type": "stream",
     "text": [
      "new shape is (603876, 40)\n",
      "CERTIFIED    595396\n",
      "DENIED         8480\n",
      "Name: CASE_STATUS, dtype: int64\n",
      "new shape is (603876, 40)\n"
     ]
    }
   ],
   "source": [
    "#filtering out withdrawn cases\n",
    "cdf = cdf.loc[cdf.CASE_STATUS.isin(['CERTIFIED-WITHDRAWN','CERTIFIED','DENIED'])]\n",
    "print('new shape is',cdf.shape)\n",
    "\n",
    "#renaming certified-withdrawn as certified\n",
    "cdf.CASE_STATUS.loc[cdf.CASE_STATUS=='CERTIFIED-WITHDRAWN'] = 'CERTIFIED'\n",
    "print(cdf.CASE_STATUS.value_counts())\n",
    "print('new shape is',cdf.shape)"
   ]
  },
  {
   "cell_type": "markdown",
   "metadata": {},
   "source": [
    "Notice that target is having imbalance which we need to handle it using resampling techniques, otherwise model will be biased towards detecting `CERTIFIED` cases as they are in majority.<br>\n",
    "Firstly we will build model without resampling and then with resampling."
   ]
  },
  {
   "cell_type": "markdown",
   "metadata": {},
   "source": [
    "Now lets use real life problem solving approach, first we will split the data in two parts training set of 75% and test set of 25% with stratification. "
   ]
  },
  {
   "cell_type": "code",
   "execution_count": 33,
   "metadata": {
    "_uuid": "66dd194a98da4d8a98d81c7294914fec7e4eca61"
   },
   "outputs": [],
   "source": [
    "X = cdf.drop('CASE_STATUS',axis=1);\n",
    "y = cdf.CASE_STATUS\n",
    "X_train,X_test,y_train,y_test = train_test_split(X,y,random_state=42,stratify=y,test_size=0.25);"
   ]
  },
  {
   "cell_type": "markdown",
   "metadata": {},
   "source": [
    "Lets make copies of train and test data and work with the copied frames. First we will create some new columns based on missing values of available columns. These new columns will have two labels 'True' or 'False' based on actual values in column if null or not."
   ]
  },
  {
   "cell_type": "code",
   "execution_count": 38,
   "metadata": {
    "_uuid": "d0d7df121874c3b91c3fbdc2a5c2171d5eb7384d"
   },
   "outputs": [
    {
     "name": "stdout",
     "output_type": "stream",
     "text": [
      "number of columns with missing values 24\n",
      "train shape before creating _missing columns (452907, 39)\n",
      "test shape before creating _missing columns (150969, 39)\n",
      "train shape after creating _missing columns (452907, 63)\n",
      "test shape after creating _missing columns (150969, 63)\n",
      "columns with missing values are ['EMPLOYER_NAME', 'EMPLOYER_ADDRESS', 'EMPLOYER_CITY', 'EMPLOYER_STATE', 'EMPLOYER_PHONE', 'AGENT_REPRESENTING_EMPLOYER', 'AGENT_ATTORNEY_CITY', 'AGENT_ATTORNEY_STATE', 'SOC_NAME', 'NAICS_CODE', 'FULL_TIME_POSITION', 'PREVAILING_WAGE', 'PW_UNIT_OF_PAY', 'PW_WAGE_LEVEL', 'PW_SOURCE', 'PW_SOURCE_YEAR', 'PW_SOURCE_OTHER', 'WAGE_RATE_OF_PAY_TO', 'WAGE_UNIT_OF_PAY', 'H1B_DEPENDENT', 'WILLFUL_VIOLATOR', 'WORKSITE_CITY', 'WORKSITE_COUNTY', 'WORKSITE_STATE']\n"
     ]
    }
   ],
   "source": [
    "# make copy to isolate changes we have done before\n",
    "idf = X_train.copy()\n",
    "idf1 = X_test.copy()\n",
    "\n",
    "# make a list of column names which contain null values\n",
    "cols_with_missing = [col for col in idf.columns \n",
    "                                 if idf[col].isnull().any()]\n",
    "\n",
    "print('number of columns with missing values',len(cols_with_missing))\n",
    "print('train shape before creating _missing columns',idf.shape)\n",
    "print('test shape before creating _missing columns',idf1.shape)\n",
    "\n",
    "for col in cols_with_missing:\n",
    "    idf[col + '_was_missing'] = idf[col].isnull()\n",
    "    idf1[col + '_was_missing'] = idf1[col].isnull()\n",
    "\n",
    "print('train shape after creating _missing columns',idf.shape)\n",
    "print('test shape after creating _missing columns',idf1.shape)\n",
    "print('columns with missing values are',cols_with_missing)"
   ]
  },
  {
   "cell_type": "markdown",
   "metadata": {},
   "source": [
    "We have 24 columns with missing values, at this point I decided to create MISC label for null values in few features and for some feature where null values are low I decided to drop them."
   ]
  },
  {
   "cell_type": "code",
   "execution_count": 39,
   "metadata": {},
   "outputs": [],
   "source": [
    "idf.AGENT_REPRESENTING_EMPLOYER.fillna('MISC',inplace=True)\n",
    "idf1.AGENT_REPRESENTING_EMPLOYER.fillna('MISC',inplace=True)\n",
    "idf.AGENT_ATTORNEY_NAME.fillna('MISC',inplace=True)\n",
    "idf1.AGENT_ATTORNEY_NAME.fillna('MISC',inplace=True)\n",
    "idf.AGENT_ATTORNEY_CITY.fillna('MISC',inplace=True)\n",
    "idf1.AGENT_ATTORNEY_CITY.fillna('MISC',inplace=True)\n",
    "idf.AGENT_ATTORNEY_STATE.fillna('MISC',inplace=True)\n",
    "idf1.AGENT_ATTORNEY_STATE.fillna('MISC',inplace=True)\n",
    "idf.EMPLOYER_CITY.fillna('MISC',inplace=True)\n",
    "idf1.EMPLOYER_CITY.fillna('MISC',inplace=True)\n",
    "idf.EMPLOYER_STATE.fillna('MISC',inplace=True)\n",
    "idf1.EMPLOYER_STATE.fillna('MISC',inplace=True)\n",
    "idf.SOC_NAME.fillna('MISC',inplace=True)\n",
    "idf1.SOC_NAME.fillna('MISC',inplace=True)\n",
    "idf.WORKSITE_CITY.fillna('MISC',inplace=True)\n",
    "idf1.WORKSITE_CITY.fillna('MISC',inplace=True)\n",
    "idf.WORKSITE_STATE.fillna('MISC',inplace=True)\n",
    "idf1.WORKSITE_STATE.fillna('MISC',inplace=True)\n",
    "idf.WORKSITE_COUNTY.fillna('MISC',inplace=True)\n",
    "idf1.WORKSITE_COUNTY.fillna('MISC',inplace=True)\n",
    "idf.PW_SOURCE_OTHER.fillna('MISC',inplace=True)\n",
    "idf1.PW_SOURCE_OTHER.fillna('MISC',inplace=True)\n",
    "\n",
    "idf.dropna(subset=['FULL_TIME_POSITION','PW_UNIT_OF_PAY','PW_SOURCE',\n",
    "                   'PW_SOURCE_YEAR','WAGE_UNIT_OF_PAY','H1B_DEPENDENT',\n",
    "                   'WILLFUL_VIOLATOR','WAGE_RATE_OF_PAY_TO'],inplace=True)\n",
    "idf1.dropna(subset=['FULL_TIME_POSITION','PW_UNIT_OF_PAY','PW_SOURCE',\n",
    "                    'PW_SOURCE_YEAR','WAGE_UNIT_OF_PAY','H1B_DEPENDENT',\n",
    "                    'WILLFUL_VIOLATOR','WAGE_RATE_OF_PAY_TO'],inplace=True)"
   ]
  },
  {
   "cell_type": "markdown",
   "metadata": {},
   "source": [
    "We will drop some features, we still have information about whether data for these features was available or not in their respective `_was_missing` columns. We can later use `EMPLOYER_NAME` and check for any improvements."
   ]
  },
  {
   "cell_type": "code",
   "execution_count": 40,
   "metadata": {},
   "outputs": [
    {
     "name": "stdout",
     "output_type": "stream",
     "text": [
      "train shape (442979, 59)\n",
      "test shape (147538, 59)\n"
     ]
    }
   ],
   "source": [
    "idf.drop('EMPLOYER_PHONE',axis=1,inplace=True)\n",
    "idf1.drop('EMPLOYER_PHONE',axis=1,inplace=True)\n",
    "idf.drop('NAICS_CODE',axis=1,inplace=True)\n",
    "idf1.drop('NAICS_CODE',axis=1,inplace=True)\n",
    "idf.drop('EMPLOYER_NAME',axis=1,inplace=True)\n",
    "idf1.drop('EMPLOYER_NAME',axis=1,inplace=True)\n",
    "idf.drop('EMPLOYER_ADDRESS',axis=1,inplace=True)\n",
    "idf1.drop('EMPLOYER_ADDRESS',axis=1,inplace=True)\n",
    "\n",
    "print('train shape',idf.shape)\n",
    "print('test shape',idf1.shape)"
   ]
  },
  {
   "cell_type": "code",
   "execution_count": 41,
   "metadata": {},
   "outputs": [
    {
     "name": "stdout",
     "output_type": "stream",
     "text": [
      "number of columns with missing values 1\n"
     ]
    }
   ],
   "source": [
    "# lets see how many columns still have nulls, we will use this list duting imputing \n",
    "#to impute only those columns which have missing values.\n",
    "cols_with_missing = [col for col in idf.columns \n",
    "                                 if idf[col].isnull().any()]\n",
    "print('number of columns with missing values',len(cols_with_missing))\n"
   ]
  },
  {
   "cell_type": "markdown",
   "metadata": {},
   "source": [
    "We will separate out numeric and categorical features and do imputing with 'median' for numeric or with 'mode' for categorical features."
   ]
  },
  {
   "cell_type": "code",
   "execution_count": 42,
   "metadata": {},
   "outputs": [],
   "source": [
    "idf_num = idf.select_dtypes(exclude='object');\n",
    "idf_cat = idf.select_dtypes(include='object');\n",
    "\n",
    "idf1_num = idf1.select_dtypes(exclude='object');\n",
    "idf1_cat = idf1.select_dtypes(include='object');"
   ]
  },
  {
   "cell_type": "code",
   "execution_count": 44,
   "metadata": {
    "_uuid": "987a950853ae1e816e130afd0c5c63e53c6e3551"
   },
   "outputs": [],
   "source": [
    "#We will use SimpleImputer function of sklearn, earlier imputer was used which is deprecated now.\n",
    "my_imputer_num = SimpleImputer()\n",
    "\n",
    "for i in range(len(idf_num.columns)):\n",
    "    if idf_num.columns[i] in cols_with_missing:\n",
    "        print('imputing on numeric column', idf_num.columns[i])\n",
    "        print('X train NaNs before',idf_num[idf_num.columns[i]].isna().sum())\n",
    "        temp_train = pd.DataFrame(idf_num[idf_num.columns[i]],index=idf_num.index)\n",
    "        temp_test = pd.DataFrame(idf1_num[idf_num.columns[i]],index=idf1_num.index)\n",
    "        idf_num[idf_num.columns[i]] = my_imputer_num.fit_transform(temp_train)\n",
    "        idf1_num[idf_num.columns[i]] = my_imputer_num.transform(temp_test)\n",
    "        print('X train NaNs after',idf_num[idf_num.columns[i]].isna().sum())"
   ]
  },
  {
   "cell_type": "code",
   "execution_count": 45,
   "metadata": {
    "_uuid": "ac12325d3e03c27facacb61300b3e477e8fa68c6"
   },
   "outputs": [
    {
     "name": "stdout",
     "output_type": "stream",
     "text": [
      "imputing on cat column PW_WAGE_LEVEL\n",
      "X train NaNs before 86185\n",
      "X train NaNs after 0\n"
     ]
    }
   ],
   "source": [
    "my_imputer_cat = SimpleImputer(strategy='most_frequent')\n",
    "#X_train_num.columns = idf_num.columns\n",
    "for i in range(len(idf_cat.columns)):\n",
    "    if idf_cat.columns[i] in cols_with_missing:\n",
    "        print('imputing on cat column', idf_cat.columns[i])\n",
    "        print('X train NaNs before',idf_cat[idf_cat.columns[i]].isna().sum())\n",
    "        temp_train = pd.DataFrame(idf_cat[idf_cat.columns[i]],index=idf_cat.index)\n",
    "        temp_test = pd.DataFrame(idf1_cat[idf_cat.columns[i]],index=idf1_cat.index)\n",
    "        idf_cat[idf_cat.columns[i]] = my_imputer_cat.fit_transform(temp_train)\n",
    "        idf1_cat[idf_cat.columns[i]] = my_imputer_cat.transform(temp_test)\n",
    "        print('X train NaNs after',idf_cat[idf_cat.columns[i]].isna().sum())"
   ]
  },
  {
   "cell_type": "markdown",
   "metadata": {},
   "source": [
    "Lets save our work done till now in new data frames and then use new data frames to process further."
   ]
  },
  {
   "cell_type": "code",
   "execution_count": 46,
   "metadata": {
    "_uuid": "17de1b65ec88aa02771546856c5f2d58823adf6f"
   },
   "outputs": [],
   "source": [
    "#X_train_cat.colums = idf_cat.columns\n",
    "X_train_num = idf_num.copy()\n",
    "X_test_num = idf1_num.copy()\n",
    "X_train_cat = idf_cat.copy()\n",
    "X_test_cat = idf1_cat.copy()"
   ]
  },
  {
   "cell_type": "code",
   "execution_count": 47,
   "metadata": {
    "_uuid": "fe6ccff543d10492652f36bdc097d484dcbd39c2"
   },
   "outputs": [
    {
     "name": "stdout",
     "output_type": "stream",
     "text": [
      "x train num shape (442979, 38)\n",
      "x test num shape (147538, 38)\n",
      "x train cat shape (442979, 21)\n",
      "x test cat shape (147538, 21)\n"
     ]
    }
   ],
   "source": [
    "print('x train num shape',X_train_num.shape)\n",
    "print('x test num shape',X_test_num.shape)\n",
    "print('x train cat shape',X_train_cat.shape)\n",
    "print('x test cat shape',X_test_cat.shape)"
   ]
  },
  {
   "cell_type": "markdown",
   "metadata": {},
   "source": [
    "While doing label encoding I had observed one issue that there are few labels which are just 1 in number so while doing tranform we get 'unseen label' error. To tackle that I decided to fit on original data frame, remember we had replaced nulls in some column with MISC, we will have to introduce this label in original dataframe. when I say original I mean to say copy of original dataframe as I dont want to alter anything in original data frame."
   ]
  },
  {
   "cell_type": "code",
   "execution_count": 48,
   "metadata": {
    "_uuid": "9291bb7b79368fb165ad5db9227ee938067e90b5"
   },
   "outputs": [],
   "source": [
    "cdf1 = cdf.copy()\n",
    "cdf1.AGENT_REPRESENTING_EMPLOYER.fillna('MISC',inplace=True)\n",
    "cdf1.AGENT_ATTORNEY_NAME.fillna('MISC',inplace=True)\n",
    "cdf1.AGENT_ATTORNEY_CITY.fillna('MISC',inplace=True)\n",
    "cdf1.AGENT_ATTORNEY_STATE.fillna('MISC',inplace=True)\n",
    "\n",
    "cdf1.EMPLOYER_CITY.fillna('MISC',inplace=True)\n",
    "cdf1.EMPLOYER_STATE.fillna('MISC',inplace=True)\n",
    "\n",
    "cdf1.WORKSITE_STATE.fillna('MISC',inplace=True)\n",
    "cdf1.WORKSITE_COUNTY.fillna('MISC',inplace=True)\n",
    "cdf1.WORKSITE_CITY.fillna('MISC',inplace=True)\n",
    "\n",
    "cdf1.SOC_NAME.fillna('MISC',inplace=True)\n",
    "\n",
    "cdf1.FULL_TIME_POSITION.fillna('MISC',inplace=True)\n",
    "cdf1.PW_SOURCE_OTHER.fillna('MISC',inplace=True)"
   ]
  },
  {
   "cell_type": "markdown",
   "metadata": {},
   "source": [
    "Apply label encoding on categorical features"
   ]
  },
  {
   "cell_type": "code",
   "execution_count": 49,
   "metadata": {
    "_uuid": "e1e9e7ab880591007b17613eb7710c0230f8bbc0"
   },
   "outputs": [
    {
     "name": "stdout",
     "output_type": "stream",
     "text": [
      "VISA_CLASS\n",
      "EMPLOYER_CITY\n",
      "EMPLOYER_STATE\n",
      "AGENT_REPRESENTING_EMPLOYER\n",
      "AGENT_ATTORNEY_NAME\n",
      "AGENT_ATTORNEY_CITY\n",
      "AGENT_ATTORNEY_STATE\n",
      "JOB_TITLE\n",
      "SOC_CODE\n",
      "SOC_NAME\n",
      "FULL_TIME_POSITION\n",
      "PW_UNIT_OF_PAY\n",
      "PW_WAGE_LEVEL\n",
      "PW_SOURCE\n",
      "PW_SOURCE_OTHER\n",
      "WAGE_UNIT_OF_PAY\n",
      "H1B_DEPENDENT\n",
      "WILLFUL_VIOLATOR\n",
      "WORKSITE_CITY\n",
      "WORKSITE_COUNTY\n",
      "WORKSITE_STATE\n"
     ]
    }
   ],
   "source": [
    "le = LabelEncoder()\n",
    "\n",
    "cat_var = X_train_cat.columns.values.tolist()\n",
    "for i in range(0,len(cat_var)):\n",
    "    print(cat_var[i])\n",
    "    \n",
    "    le.fit(cdf1[cat_var[i]].astype(str))\n",
    "    X_train_cat[cat_var[i]] = le.transform(X_train_cat[cat_var[i]])\n",
    "    X_test_cat[cat_var[i]] = le.transform(X_test_cat[cat_var[i]])\n",
    "\n"
   ]
  },
  {
   "cell_type": "markdown",
   "metadata": {},
   "source": [
    "Now lets combine categorical and numeric X training and X testing sets, so we will have just X train and X test. For some reason we might want to use multiple computers to do modelling since we dont have enough computing resources locally.To do that we can create training and testing sets save them to csv and send it to your team mates so they can start with modelling right away!\n",
    "<br>\n",
    "\n",
    "NOTE: \n",
    "we have done many changes in X train and X test, we have removed rows but we havent removed same rows in y train and y test. Hence while merging x and y make sure we add code for indexing as in below code."
   ]
  },
  {
   "cell_type": "code",
   "execution_count": 51,
   "metadata": {
    "_uuid": "5dd829589aca81b1d7d35819d7fc10e1ddee30cc"
   },
   "outputs": [
    {
     "name": "stdout",
     "output_type": "stream",
     "text": [
      "X_train_cat shape (442979, 21)\n",
      "X_train_num shape (442979, 38)\n",
      "X_test_cat shape (147538, 21)\n",
      "X_test_num shape (147538, 38)\n",
      "X_train shape (442979, 59)\n",
      "X_test shape (147538, 59)\n",
      "training data shape (442979, 60)\n",
      "testing data shape (147538, 60)\n"
     ]
    }
   ],
   "source": [
    "print('X_train_cat shape',X_train_cat.shape)\n",
    "print('X_train_num shape',X_train_num.shape)\n",
    "print('X_test_cat shape',X_test_cat.shape)\n",
    "print('X_test_num shape',X_test_num.shape)\n",
    "\n",
    "X_train_1 = pd.concat([X_train_cat,X_train_num],axis=1);\n",
    "X_test_1 = pd.concat([X_test_cat,X_test_num],axis=1);\n",
    "\n",
    "print('X_train shape',X_train_1.shape)\n",
    "print('X_test shape',X_test_1.shape)\n",
    "\n",
    "#indexing align y train and test with x train and test\n",
    "y_train = y_train[X_train_1.index]\n",
    "y_test = y_test[X_test_1.index]\n",
    "\n",
    "training_data = pd.concat([X_train_1,y_train],axis=1)\n",
    "testing_data = pd.concat([X_test_1,y_test],axis=1)\n",
    "\n",
    "print('training data shape',training_data.shape)\n",
    "print('testing data shape',testing_data.shape)\n",
    "\n",
    "#training_data.to_csv('train_data.csv',index=False)\n",
    "#testing_data.to_csv('test_data.csv',index=False)"
   ]
  },
  {
   "cell_type": "code",
   "execution_count": 52,
   "metadata": {
    "_uuid": "81bf1434f379086a7eb85cb05dc07d19185090d1"
   },
   "outputs": [],
   "source": [
    "#label encoding for target before applying models\n",
    "le.fit(y_train)\n",
    "y_train = le.transform(y_train)\n",
    "y_test = le.transform(y_test)"
   ]
  },
  {
   "cell_type": "markdown",
   "metadata": {},
   "source": [
    "Lets first do random forest model without resampling"
   ]
  },
  {
   "cell_type": "code",
   "execution_count": 53,
   "metadata": {},
   "outputs": [
    {
     "name": "stdout",
     "output_type": "stream",
     "text": [
      "f1-score 0.65643952907599\n",
      "AUC score 0.7458166402003189\n"
     ]
    }
   ],
   "source": [
    "rf = RandomForestClassifier(random_state=42,max_depth=12)\n",
    "rf.fit(X_train_1,y_train)\n",
    "y_pred = rf.predict(X_test_1)\n",
    "print('f1-score',f1_score(y_test,y_pred))\n",
    "print('AUC score',roc_auc_score(y_test,y_pred))"
   ]
  },
  {
   "cell_type": "markdown",
   "metadata": {},
   "source": [
    "I had checked result with cluser centroid i.e undersampling and when compared with SMOTE i.e oversampling, latter was better. So lets stick with SMOTE after resampling we will again check with random forest model."
   ]
  },
  {
   "cell_type": "code",
   "execution_count": 54,
   "metadata": {
    "_uuid": "83d90504b4aed77d6244a71445d328946fda4218"
   },
   "outputs": [],
   "source": [
    "smote = SMOTE(random_state=42)\n",
    "X_sample1, y_sample1 = smote.fit_sample(X_train_1,y_train)"
   ]
  },
  {
   "cell_type": "code",
   "execution_count": 20,
   "metadata": {
    "_uuid": "6dc659aa0e38687e5f61fab7f7f67f408146e32c"
   },
   "outputs": [
    {
     "data": {
      "text/plain": [
       "'cc = RandomUnderSampler(random_state=42)\\nX_sample2,y_sample2 = cc.fit_sample(X_train_1,y_train)'"
      ]
     },
     "execution_count": 20,
     "metadata": {},
     "output_type": "execute_result"
    }
   ],
   "source": [
    "'''cc = RandomUnderSampler(random_state=42)\n",
    "X_sample2,y_sample2 = cc.fit_sample(X_train_1,y_train)'''"
   ]
  },
  {
   "cell_type": "code",
   "execution_count": 55,
   "metadata": {
    "_uuid": "5cf53357efac15dbbee6e462516beb41806077ad"
   },
   "outputs": [
    {
     "name": "stdout",
     "output_type": "stream",
     "text": [
      "f1-score 0.5878853434288805\n",
      "AUC score 0.7879463309704973\n"
     ]
    }
   ],
   "source": [
    "rf = RandomForestClassifier(random_state=42,max_depth=12)\n",
    "rf.fit(X_sample1,y_sample1)\n",
    "y_pred = rf.predict(X_test_1)\n",
    "print('f1-score',f1_score(y_test,y_pred))\n",
    "print('AUC score',roc_auc_score(y_test,y_pred))"
   ]
  },
  {
   "cell_type": "code",
   "execution_count": 56,
   "metadata": {
    "_uuid": "c27506adf757c39599c4073e09fae5ac68e75554"
   },
   "outputs": [
    {
     "name": "stdout",
     "output_type": "stream",
     "text": [
      "f1-score 0.6619718309859155\n",
      "AUC score 0.7633370654300194\n"
     ]
    }
   ],
   "source": [
    "rf = RandomForestClassifier(random_state=42,max_depth=None)\n",
    "rf.fit(X_sample1,y_sample1)\n",
    "y_pred = rf.predict(X_test_1)\n",
    "print('f1-score',f1_score(y_test,y_pred))\n",
    "print('AUC score',roc_auc_score(y_test,y_pred))"
   ]
  },
  {
   "cell_type": "markdown",
   "metadata": {},
   "source": [
    "We will check cross validation score to check whether our model is overfitting or not, if the score is consistent across folds that means our model is not overfitting."
   ]
  },
  {
   "cell_type": "code",
   "execution_count": 57,
   "metadata": {
    "_uuid": "7d7a6a655a0d32b532806fb2c295b217cb40ad27"
   },
   "outputs": [
    {
     "data": {
      "text/plain": [
       "array([0.9969299 , 0.99664404, 0.99642108, 0.99657544, 0.99680981])"
      ]
     },
     "execution_count": 57,
     "metadata": {},
     "output_type": "execute_result"
    }
   ],
   "source": [
    "kf = StratifiedKFold(n_splits=5,random_state=1,shuffle=True)\n",
    "scores = cross_val_score(rf, X_sample1, y_sample1, cv=kf, scoring='f1_macro')\n",
    "scores"
   ]
  },
  {
   "cell_type": "code",
   "execution_count": 60,
   "metadata": {},
   "outputs": [],
   "source": [
    "from sklearn import ensemble\n",
    "vote_est = [('rfc', RandomForestClassifier(n_estimators=100,max_depth=8)),\n",
    "            ('lr', LogisticRegression(C=0.1)),\n",
    "            ('xgb', XGBClassifier(max_depth=10,n_estimators=300)),\n",
    "            ('ada', AdaBoostClassifier(learning_rate=0.3,n_estimators=300))]\n",
    "vote_hard = ensemble.VotingClassifier(estimators = vote_est , voting = 'soft')\n",
    "vote_hard.fit(X_sample1,y_sample1)\n"
   ]
  },
  {
   "cell_type": "code",
   "execution_count": 59,
   "metadata": {},
   "outputs": [
    {
     "name": "stdout",
     "output_type": "stream",
     "text": [
      "roc score 0.7888427070966285\n",
      "f1 score 0.646813579511614\n",
      "accuracy score 0.9919613929970584\n"
     ]
    }
   ],
   "source": [
    "X = np.array(X_test_1)\n",
    "y_pred = vote_hard.predict(X)\n",
    "print(('roc score'),roc_auc_score(y_test,y_pred))\n",
    "print(('f1 score'),f1_score(y_test,y_pred))\n",
    "print(('accuracy score'),accuracy_score(y_test,y_pred))"
   ]
  },
  {
   "cell_type": "code",
   "execution_count": 61,
   "metadata": {},
   "outputs": [
    {
     "name": "stdout",
     "output_type": "stream",
     "text": [
      "roc score 0.7769886766877634\n",
      "f1 score 0.6380631320870365\n",
      "accuracy score 0.9919952825712698\n"
     ]
    }
   ],
   "source": [
    "vote_hard = ensemble.VotingClassifier(estimators = vote_est , voting = 'hard')\n",
    "vote_hard.fit(X_sample1,y_sample1)\n",
    "y_pred = vote_hard.predict(X)\n",
    "print(('roc score'),roc_auc_score(y_test,y_pred))\n",
    "print(('f1 score'),f1_score(y_test,y_pred))\n",
    "print(('accuracy score'),accuracy_score(y_test,y_pred))"
   ]
  },
  {
   "cell_type": "code",
   "execution_count": 63,
   "metadata": {
    "_uuid": "70db2168f5a192d60b114b899620f7c3185b160a"
   },
   "outputs": [],
   "source": [
    "\n",
    "#Hyperparameter Tune with GridSearchCV: http://scikit-learn.org/stable/modules/generated/sklearn.model_selection.GridSearchCV.html\n",
    "grid_n_estimator = [10, 50, 100, 300]\n",
    "grid_ratio = [.1, .25, .5, .75, 1.0]\n",
    "grid_learn = [.01, .03, .05, .1, .25]\n",
    "grid_max_depth = [2, 4, 6, 8, 10, None]\n",
    "grid_min_samples = [5, 10, .03, .05, .10]\n",
    "grid_criterion = ['gini', 'entropy']\n",
    "grid_bool = [True, False]\n",
    "grid_seed = [0]\n",
    "\n",
    "\n",
    "grid_param = [\n",
    "            [{\n",
    "            #AdaBoostClassifier - http://scikit-learn.org/stable/modules/generated/sklearn.ensemble.AdaBoostClassifier.html\n",
    "            'n_estimators': grid_n_estimator, #default=50\n",
    "            'learning_rate': grid_learn, #default=1\n",
    "            #'algorithm': ['SAMME', 'SAMME.R'], #default=’SAMME.R\n",
    "            'random_state': grid_seed\n",
    "            }],\n",
    "       \n",
    "\n",
    "            [{\n",
    "            #GradientBoostingClassifier - http://scikit-learn.org/stable/modules/generated/sklearn.ensemble.GradientBoostingClassifier.html#sklearn.ensemble.GradientBoostingClassifier\n",
    "            #'loss': ['deviance', 'exponential'], #default=’deviance’\n",
    "            'learning_rate': [.05], #default=0.1 -- 12/31/17 set to reduce runtime -- The best parameter for GradientBoostingClassifier is {'learning_rate': 0.05, 'max_depth': 2, 'n_estimators': 300, 'random_state': 0} with a runtime of 264.45 seconds.\n",
    "            'n_estimators': [300], #default=100 -- 12/31/17 set to reduce runtime -- The best parameter for GradientBoostingClassifier is {'learning_rate': 0.05, 'max_depth': 2, 'n_estimators': 300, 'random_state': 0} with a runtime of 264.45 seconds.\n",
    "            #'criterion': ['friedman_mse', 'mse', 'mae'], #default=”friedman_mse”\n",
    "            'max_depth': grid_max_depth, #default=3   \n",
    "            'random_state': grid_seed\n",
    "             }],\n",
    "\n",
    "    \n",
    "            [{\n",
    "            #RandomForestClassifier - http://scikit-learn.org/stable/modules/generated/sklearn.ensemble.RandomForestClassifier.html#sklearn.ensemble.RandomForestClassifier\n",
    "            'n_estimators': grid_n_estimator, #default=10\n",
    "            'criterion': grid_criterion, #default=”gini”\n",
    "            'max_depth': grid_max_depth, #default=None\n",
    "            'oob_score': [True], #default=False -- 12/31/17 set to reduce runtime -- The best parameter for RandomForestClassifier is {'criterion': 'entropy', 'max_depth': 6, 'n_estimators': 100, 'oob_score': True, 'random_state': 0} with a runtime of 146.35 seconds.\n",
    "            'random_state': grid_seed\n",
    "             }],\n",
    "    \n",
    "            [{\n",
    "            #SVC \n",
    "            #'kernel': ['linear', 'poly', 'rbf', 'sigmoid'],\n",
    "            'C': [1,2,3,4,5], #default=1.0\n",
    "            'gamma': grid_ratio, #edfault: auto\n",
    "            'decision_function_shape': ['ovo', 'ovr'], #default:ovr\n",
    "            'probability': [True],\n",
    "            'random_state': grid_seed\n",
    "             }],\n",
    "\n",
    "    \n",
    "            [{\n",
    "            #XGBClassifier - http://xgboost.readthedocs.io/en/latest/parameter.html\n",
    "            'learning_rate': grid_learn, #default: .3\n",
    "            'max_depth': [1,2,4,6,8,10], #default 2\n",
    "            'n_estimators': grid_n_estimator, \n",
    "            'seed': grid_seed  \n",
    "             }]   \n",
    "        ]"
   ]
  },
  {
   "cell_type": "code",
   "execution_count": 64,
   "metadata": {},
   "outputs": [],
   "source": [
    "cv_split = model_selection.ShuffleSplit(n_splits = 10, test_size = .3, train_size = .6, random_state = 0 )\n"
   ]
  },
  {
   "cell_type": "code",
   "execution_count": 65,
   "metadata": {
    "_uuid": "6006eafddb84aa7620ca08840df93bd837c999f8"
   },
   "outputs": [],
   "source": [
    "start = time.perf_counter()        \n",
    "best_search = model_selection.GridSearchCV(estimator = vote_est[2][1], \n",
    "                                           param_grid = grid_param[2][0], cv = cv_split,\n",
    "                                           scoring = 'roc_auc')\n",
    "best_search.fit(X_sample1, y_sample1)\n",
    "run = time.perf_counter() - start\n",
    "\n",
    "best_param = best_search.best_params_\n",
    "print('The best parameter for {} is {} with a runtime of {:.2f} seconds.'.format(vote_est[2][1].__class__.__name__, best_param, run))\n"
   ]
  },
  {
   "cell_type": "markdown",
   "metadata": {},
   "source": [
    "![result](./files/gridsearch-rf.jpg \"result\")"
   ]
  },
  {
   "cell_type": "code",
   "execution_count": 67,
   "metadata": {},
   "outputs": [
    {
     "name": "stdout",
     "output_type": "stream",
     "text": [
      "f1-score 0.6914893617021276\n",
      "AUC score 0.7775932914678108\n"
     ]
    }
   ],
   "source": [
    "#best parameters for grid search with RF for 'roc_auc' scoring function as well as for 'f1' scoring function\n",
    "rf = RandomForestClassifier(random_state=42,max_depth=None,n_estimators=300,oob_score=True)\n",
    "rf.fit(X_sample1,y_sample1)\n",
    "y_pred = rf.predict(X_test_1)\n",
    "print('f1-score',f1_score(y_test,y_pred))\n",
    "print('AUC score',roc_auc_score(y_test,y_pred))"
   ]
  },
  {
   "cell_type": "markdown",
   "metadata": {},
   "source": [
    "### FEATURE IMPORTANCE"
   ]
  },
  {
   "cell_type": "code",
   "execution_count": 68,
   "metadata": {
    "_uuid": "13e5609245ef1e115be166ed71fc3b258d48aa9f"
   },
   "outputs": [],
   "source": [
    "# Extract the feature importances into a dataframe\n",
    "feature_results = pd.DataFrame({'feature': list(X_train_1.columns),\n",
    "                                'importance': rf.feature_importances_})\n",
    "\n",
    "# Show the top 10 most important\n",
    "feature_results = feature_results.sort_values('importance', ascending = False).reset_index(drop=True)\n"
   ]
  },
  {
   "cell_type": "code",
   "execution_count": 70,
   "metadata": {
    "_uuid": "c7918d0888cf5b4ba7c55de9e5ee4083bdfc28c1"
   },
   "outputs": [
    {
     "data": {
      "text/plain": [
       "<Figure size 864x1440 with 0 Axes>"
      ]
     },
     "metadata": {},
     "output_type": "display_data"
    },
    {
     "data": {
      "image/png": "[encoded data removed]",
      "text/plain": [
       "<Figure size 432x288 with 1 Axes>"
      ]
     },
     "metadata": {},
     "output_type": "display_data"
    }
   ],
   "source": [
    "plt.figure(figsize=(12, 20))\n",
    "plt.style.use('fivethirtyeight')\n",
    "\n",
    "# Plot the 10 most important features in a horizontal bar chart\n",
    "feature_results.loc[:15, :].plot(x = 'feature', y = 'importance', \n",
    "                                 edgecolor = 'k',\n",
    "                                 kind='barh', color = 'mediumvioletred',fontsize=10);\n",
    "plt.xlabel('Relative Importance', size = 15); plt.ylabel('')\n",
    "plt.title('Feature Importances from Random Forest', size = 20);"
   ]
  },
  {
   "cell_type": "markdown",
   "metadata": {},
   "source": [
    "### ROC AUC CURVE"
   ]
  },
  {
   "cell_type": "code",
   "execution_count": 71,
   "metadata": {},
   "outputs": [
    {
     "data": {
      "image/png": "[encoded data removed]",
      "text/plain": [
       "<Figure size 864x576 with 1 Axes>"
      ]
     },
     "metadata": {},
     "output_type": "display_data"
    }
   ],
   "source": [
    "fpr, tpr, _ = metrics.roc_curve(y_test,y_pred)\n",
    "auc = metrics.roc_auc_score(y_test,y_pred)\n",
    "plt.figure(figsize=(12,8))\n",
    "plt.plot(fpr,tpr,label=\"validation, auc=\"+str(auc))\n",
    "plt.xlabel('False Positive Rate')\n",
    "plt.ylabel('True Positive Rate')\n",
    "plt.legend(loc=4)\n",
    "plt.title('ROC AUC CURVE',fontsize=15)\n",
    "plt.show()"
   ]
  },
  {
   "cell_type": "markdown",
   "metadata": {},
   "source": [
    "This was just a simple approach to predict H-1B case status, remember we had dropped few features in between like `EMPLOYER_CITY`,`EMPLOYER_NAME`,`POSTAL_CODE` etc. You can take that as an improvement over this kernel. If you get better results do let me know, until then see you and happy learning."
   ]
  }
 ],
 "metadata": {
  "kernelspec": {
   "display_name": "Python 3",
   "language": "python",
   "name": "python3"
  },
  "language_info": {
   "codemirror_mode": {
    "name": "ipython",
    "version": 3
   },
   "file_extension": ".py",
   "mimetype": "text/x-python",
   "name": "python",
   "nbconvert_exporter": "python",
   "pygments_lexer": "ipython3",
   "version": "3.6.5"
  }
 },
 "nbformat": 4,
 "nbformat_minor": 1
}
