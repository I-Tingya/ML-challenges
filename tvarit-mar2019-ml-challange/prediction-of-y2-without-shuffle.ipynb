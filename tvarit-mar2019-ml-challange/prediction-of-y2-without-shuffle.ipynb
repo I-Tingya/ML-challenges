{
 "cells": [
  {
   "cell_type": "markdown",
   "metadata": {},
   "source": [
    "## GOAL\n",
    "Dataset is having data of 54 sensors taken at 7 intervals.Goal of this notebook is to predict y2 which is performance metric of the batches. We have to do the predictions without shuffling the dataset while doing train test split."
   ]
  },
  {
   "cell_type": "code",
   "execution_count": 189,
   "metadata": {},
   "outputs": [],
   "source": [
    "#import libraries required for wrangling,preprocessing and modelling\n",
    "import numpy as np\n",
    "import pandas as pd\n",
    "import matplotlib.pyplot as plt\n",
    "%matplotlib inline\n",
    "import seaborn as sns\n",
    "\n",
    "# Imputing missing values and scaling values\n",
    "from sklearn.preprocessing import Imputer, MinMaxScaler\n",
    "\n",
    "# Machine Learning Models\n",
    "from sklearn.linear_model import LinearRegression\n",
    "from sklearn.ensemble import RandomForestRegressor, GradientBoostingRegressor\n",
    "from sklearn.svm import SVR\n",
    "from sklearn.neighbors import KNeighborsRegressor\n",
    "from xgboost import XGBRegressor\n",
    "# Hyperparameter tuning\n",
    "from sklearn.model_selection import RandomizedSearchCV, GridSearchCV, train_test_split\n",
    "from sklearn.model_selection import cross_val_score\n",
    "from sklearn.preprocessing import PolynomialFeatures, StandardScaler\n",
    "from sklearn import metrics\n",
    "import warnings\n",
    "warnings.filterwarnings('ignore')"
   ]
  },
  {
   "cell_type": "code",
   "execution_count": 190,
   "metadata": {},
   "outputs": [],
   "source": [
    "#read the data frame\n",
    "df = pd.read_csv('data.csv',index_col=0);"
   ]
  },
  {
   "cell_type": "code",
   "execution_count": 191,
   "metadata": {},
   "outputs": [
    {
     "data": {
      "text/html": [
       "<div>\n",
       "<style scoped>\n",
       "    .dataframe tbody tr th:only-of-type {\n",
       "        vertical-align: middle;\n",
       "    }\n",
       "\n",
       "    .dataframe tbody tr th {\n",
       "        vertical-align: top;\n",
       "    }\n",
       "\n",
       "    .dataframe thead th {\n",
       "        text-align: right;\n",
       "    }\n",
       "</style>\n",
       "<table border=\"1\" class=\"dataframe\">\n",
       "  <thead>\n",
       "    <tr style=\"text-align: right;\">\n",
       "      <th></th>\n",
       "      <th>x0_t0</th>\n",
       "      <th>x0_t1</th>\n",
       "      <th>x0_t2</th>\n",
       "      <th>x0_t3</th>\n",
       "      <th>x0_t4</th>\n",
       "      <th>x0_t5</th>\n",
       "      <th>x0_t6</th>\n",
       "      <th>x1_t0</th>\n",
       "      <th>x1_t1</th>\n",
       "      <th>x1_t2</th>\n",
       "      <th>...</th>\n",
       "      <th>x53_t6</th>\n",
       "      <th>x54_t0</th>\n",
       "      <th>x54_t1</th>\n",
       "      <th>x54_t2</th>\n",
       "      <th>x54_t3</th>\n",
       "      <th>x54_t4</th>\n",
       "      <th>x54_t5</th>\n",
       "      <th>x54_t6</th>\n",
       "      <th>y1</th>\n",
       "      <th>y2</th>\n",
       "    </tr>\n",
       "  </thead>\n",
       "  <tbody>\n",
       "    <tr>\n",
       "      <th>0</th>\n",
       "      <td>763.134041</td>\n",
       "      <td>768.107435</td>\n",
       "      <td>764.607484</td>\n",
       "      <td>765.236945</td>\n",
       "      <td>765.775778</td>\n",
       "      <td>765.619062</td>\n",
       "      <td>750.95</td>\n",
       "      <td>0.789998</td>\n",
       "      <td>0.801386</td>\n",
       "      <td>0.788737</td>\n",
       "      <td>...</td>\n",
       "      <td>87.2</td>\n",
       "      <td>2.030000</td>\n",
       "      <td>2.030000</td>\n",
       "      <td>2.030000</td>\n",
       "      <td>2.030000</td>\n",
       "      <td>2.030000</td>\n",
       "      <td>2.03</td>\n",
       "      <td>2.03</td>\n",
       "      <td>0.087</td>\n",
       "      <td>0.58</td>\n",
       "    </tr>\n",
       "    <tr>\n",
       "      <th>1</th>\n",
       "      <td>765.446797</td>\n",
       "      <td>763.464843</td>\n",
       "      <td>755.205877</td>\n",
       "      <td>754.690499</td>\n",
       "      <td>762.872823</td>\n",
       "      <td>767.775947</td>\n",
       "      <td>750.95</td>\n",
       "      <td>0.792258</td>\n",
       "      <td>0.807701</td>\n",
       "      <td>0.788356</td>\n",
       "      <td>...</td>\n",
       "      <td>87.2</td>\n",
       "      <td>2.030000</td>\n",
       "      <td>2.030000</td>\n",
       "      <td>2.030000</td>\n",
       "      <td>2.030000</td>\n",
       "      <td>2.030000</td>\n",
       "      <td>2.03</td>\n",
       "      <td>2.03</td>\n",
       "      <td>0.089</td>\n",
       "      <td>0.59</td>\n",
       "    </tr>\n",
       "    <tr>\n",
       "      <th>2</th>\n",
       "      <td>765.973495</td>\n",
       "      <td>768.980362</td>\n",
       "      <td>769.442794</td>\n",
       "      <td>771.473454</td>\n",
       "      <td>774.054794</td>\n",
       "      <td>762.862527</td>\n",
       "      <td>750.95</td>\n",
       "      <td>0.825336</td>\n",
       "      <td>0.795842</td>\n",
       "      <td>0.784642</td>\n",
       "      <td>...</td>\n",
       "      <td>87.2</td>\n",
       "      <td>2.368016</td>\n",
       "      <td>2.385767</td>\n",
       "      <td>2.432579</td>\n",
       "      <td>2.306701</td>\n",
       "      <td>2.297906</td>\n",
       "      <td>2.03</td>\n",
       "      <td>2.03</td>\n",
       "      <td>0.050</td>\n",
       "      <td>0.44</td>\n",
       "    </tr>\n",
       "    <tr>\n",
       "      <th>3</th>\n",
       "      <td>764.650659</td>\n",
       "      <td>765.909540</td>\n",
       "      <td>768.443158</td>\n",
       "      <td>767.678032</td>\n",
       "      <td>767.260418</td>\n",
       "      <td>769.040021</td>\n",
       "      <td>750.95</td>\n",
       "      <td>0.781667</td>\n",
       "      <td>0.788325</td>\n",
       "      <td>0.763070</td>\n",
       "      <td>...</td>\n",
       "      <td>87.2</td>\n",
       "      <td>2.030000</td>\n",
       "      <td>2.030000</td>\n",
       "      <td>2.030000</td>\n",
       "      <td>2.030000</td>\n",
       "      <td>2.030000</td>\n",
       "      <td>2.03</td>\n",
       "      <td>2.03</td>\n",
       "      <td>0.089</td>\n",
       "      <td>0.44</td>\n",
       "    </tr>\n",
       "    <tr>\n",
       "      <th>4</th>\n",
       "      <td>760.405529</td>\n",
       "      <td>766.774665</td>\n",
       "      <td>767.547864</td>\n",
       "      <td>766.582823</td>\n",
       "      <td>765.517300</td>\n",
       "      <td>769.685324</td>\n",
       "      <td>750.95</td>\n",
       "      <td>0.812201</td>\n",
       "      <td>0.825667</td>\n",
       "      <td>0.782709</td>\n",
       "      <td>...</td>\n",
       "      <td>87.2</td>\n",
       "      <td>2.231677</td>\n",
       "      <td>2.174763</td>\n",
       "      <td>2.351654</td>\n",
       "      <td>2.220314</td>\n",
       "      <td>2.204783</td>\n",
       "      <td>2.03</td>\n",
       "      <td>2.03</td>\n",
       "      <td>0.080</td>\n",
       "      <td>0.59</td>\n",
       "    </tr>\n",
       "  </tbody>\n",
       "</table>\n",
       "<p>5 rows × 387 columns</p>\n",
       "</div>"
      ],
      "text/plain": [
       "        x0_t0       x0_t1       x0_t2       x0_t3       x0_t4       x0_t5  \\\n",
       "0  763.134041  768.107435  764.607484  765.236945  765.775778  765.619062   \n",
       "1  765.446797  763.464843  755.205877  754.690499  762.872823  767.775947   \n",
       "2  765.973495  768.980362  769.442794  771.473454  774.054794  762.862527   \n",
       "3  764.650659  765.909540  768.443158  767.678032  767.260418  769.040021   \n",
       "4  760.405529  766.774665  767.547864  766.582823  765.517300  769.685324   \n",
       "\n",
       "    x0_t6     x1_t0     x1_t1     x1_t2  ...   x53_t6    x54_t0    x54_t1  \\\n",
       "0  750.95  0.789998  0.801386  0.788737  ...     87.2  2.030000  2.030000   \n",
       "1  750.95  0.792258  0.807701  0.788356  ...     87.2  2.030000  2.030000   \n",
       "2  750.95  0.825336  0.795842  0.784642  ...     87.2  2.368016  2.385767   \n",
       "3  750.95  0.781667  0.788325  0.763070  ...     87.2  2.030000  2.030000   \n",
       "4  750.95  0.812201  0.825667  0.782709  ...     87.2  2.231677  2.174763   \n",
       "\n",
       "     x54_t2    x54_t3    x54_t4  x54_t5  x54_t6     y1    y2  \n",
       "0  2.030000  2.030000  2.030000    2.03    2.03  0.087  0.58  \n",
       "1  2.030000  2.030000  2.030000    2.03    2.03  0.089  0.59  \n",
       "2  2.432579  2.306701  2.297906    2.03    2.03  0.050  0.44  \n",
       "3  2.030000  2.030000  2.030000    2.03    2.03  0.089  0.44  \n",
       "4  2.351654  2.220314  2.204783    2.03    2.03  0.080  0.59  \n",
       "\n",
       "[5 rows x 387 columns]"
      ]
     },
     "execution_count": 191,
     "metadata": {},
     "output_type": "execute_result"
    }
   ],
   "source": [
    "df.head()"
   ]
  },
  {
   "cell_type": "markdown",
   "metadata": {},
   "source": [
    "This is sensor data for 54 sensors taken at different time intervals. Usually performance of system is best described by either max or minimum readings from sensors. While solving this problem we tried with different discriptive stats like 'min', 'max','std' of the sensor values and found minimum works the best. Below cell creats new data frame `der_df` which contains 'min' of recorded values of listed sensors.\n",
    "<br>\n",
    "<br>\n",
    "In below cell code is to create a derived data frame which will have minimum values of sensors mentioned in the 'itr' list. This sensors are recommended by the domain experts from Tvarit. "
   ]
  },
  {
   "cell_type": "code",
   "execution_count": 192,
   "metadata": {},
   "outputs": [],
   "source": [
    "der_df = pd.DataFrame()\n",
    "\n",
    "itr = [6, 7, 8, 9,10, 11, 12, 13, 14, 15, 16, 18, 19, 20, 21]\n",
    "for i in itr:\n",
    "    temp = pd.concat([df['x'+str(i)+'_t0'],df['x'+str(i)+'_t1'],df['x'+str(i)+'_t2'],\n",
    "                      df['x'+str(i)+'_t3'],df['x'+str(i)+'_t4'],\n",
    "                      df['x'+str(i)+'_t5'],df['x'+str(i)+'_t6']],axis=1)\n",
    "    temp = temp.T.describe()\n",
    "    der_df['x'+str(i)+'min'] = temp.loc['min']"
   ]
  },
  {
   "cell_type": "markdown",
   "metadata": {},
   "source": [
    "We did standard normalization before as best practise since some algorith which uses eucliden distances like k means, knn requires standardization."
   ]
  },
  {
   "cell_type": "code",
   "execution_count": 111,
   "metadata": {},
   "outputs": [],
   "source": [
    "sc = StandardScaler()\n",
    "std_der = pd.DataFrame(sc.fit_transform(der_df),columns=der_df.columns)"
   ]
  },
  {
   "cell_type": "code",
   "execution_count": 193,
   "metadata": {},
   "outputs": [
    {
     "data": {
      "text/html": [
       "<div>\n",
       "<style scoped>\n",
       "    .dataframe tbody tr th:only-of-type {\n",
       "        vertical-align: middle;\n",
       "    }\n",
       "\n",
       "    .dataframe tbody tr th {\n",
       "        vertical-align: top;\n",
       "    }\n",
       "\n",
       "    .dataframe thead th {\n",
       "        text-align: right;\n",
       "    }\n",
       "</style>\n",
       "<table border=\"1\" class=\"dataframe\">\n",
       "  <thead>\n",
       "    <tr style=\"text-align: right;\">\n",
       "      <th></th>\n",
       "      <th>x6min</th>\n",
       "      <th>x7min</th>\n",
       "      <th>x8min</th>\n",
       "      <th>x9min</th>\n",
       "      <th>x10min</th>\n",
       "      <th>x11min</th>\n",
       "      <th>x12min</th>\n",
       "      <th>x13min</th>\n",
       "      <th>x14min</th>\n",
       "      <th>x15min</th>\n",
       "      <th>x16min</th>\n",
       "      <th>x18min</th>\n",
       "      <th>x19min</th>\n",
       "      <th>x20min</th>\n",
       "      <th>x21min</th>\n",
       "    </tr>\n",
       "  </thead>\n",
       "  <tbody>\n",
       "    <tr>\n",
       "      <th>count</th>\n",
       "      <td>8.830000e+02</td>\n",
       "      <td>8.830000e+02</td>\n",
       "      <td>8.830000e+02</td>\n",
       "      <td>8.830000e+02</td>\n",
       "      <td>8.830000e+02</td>\n",
       "      <td>8.830000e+02</td>\n",
       "      <td>8.830000e+02</td>\n",
       "      <td>8.830000e+02</td>\n",
       "      <td>8.830000e+02</td>\n",
       "      <td>8.830000e+02</td>\n",
       "      <td>8.830000e+02</td>\n",
       "      <td>883.0</td>\n",
       "      <td>8.830000e+02</td>\n",
       "      <td>8.830000e+02</td>\n",
       "      <td>8.830000e+02</td>\n",
       "    </tr>\n",
       "    <tr>\n",
       "      <th>mean</th>\n",
       "      <td>3.148985e-15</td>\n",
       "      <td>4.961050e-15</td>\n",
       "      <td>1.153956e-14</td>\n",
       "      <td>1.559090e-17</td>\n",
       "      <td>-3.771992e-16</td>\n",
       "      <td>-1.873423e-17</td>\n",
       "      <td>2.560491e-15</td>\n",
       "      <td>9.201146e-16</td>\n",
       "      <td>-1.529354e-15</td>\n",
       "      <td>1.231681e-15</td>\n",
       "      <td>2.331091e-15</td>\n",
       "      <td>0.0</td>\n",
       "      <td>7.551214e-16</td>\n",
       "      <td>1.974324e-16</td>\n",
       "      <td>4.494329e-16</td>\n",
       "    </tr>\n",
       "    <tr>\n",
       "      <th>std</th>\n",
       "      <td>1.000567e+00</td>\n",
       "      <td>1.000567e+00</td>\n",
       "      <td>1.000567e+00</td>\n",
       "      <td>1.000567e+00</td>\n",
       "      <td>1.000567e+00</td>\n",
       "      <td>1.000567e+00</td>\n",
       "      <td>1.000567e+00</td>\n",
       "      <td>1.000567e+00</td>\n",
       "      <td>1.000567e+00</td>\n",
       "      <td>1.000567e+00</td>\n",
       "      <td>1.000567e+00</td>\n",
       "      <td>0.0</td>\n",
       "      <td>1.000567e+00</td>\n",
       "      <td>1.000567e+00</td>\n",
       "      <td>1.000567e+00</td>\n",
       "    </tr>\n",
       "    <tr>\n",
       "      <th>min</th>\n",
       "      <td>-1.260814e+00</td>\n",
       "      <td>-1.793175e+00</td>\n",
       "      <td>-6.610886e+00</td>\n",
       "      <td>-2.322466e+00</td>\n",
       "      <td>-4.457822e+00</td>\n",
       "      <td>-7.556457e-01</td>\n",
       "      <td>-9.843699e+00</td>\n",
       "      <td>-9.893326e+00</td>\n",
       "      <td>-8.710913e+00</td>\n",
       "      <td>-1.011596e+00</td>\n",
       "      <td>-8.234118e-01</td>\n",
       "      <td>0.0</td>\n",
       "      <td>-1.174679e+01</td>\n",
       "      <td>-1.013250e+01</td>\n",
       "      <td>-4.614544e+00</td>\n",
       "    </tr>\n",
       "    <tr>\n",
       "      <th>25%</th>\n",
       "      <td>-5.445531e-01</td>\n",
       "      <td>-1.340629e+00</td>\n",
       "      <td>-1.147674e-01</td>\n",
       "      <td>-6.278206e-01</td>\n",
       "      <td>3.073164e-01</td>\n",
       "      <td>-2.837323e-01</td>\n",
       "      <td>-3.301213e-01</td>\n",
       "      <td>-7.073582e-01</td>\n",
       "      <td>-2.303922e-03</td>\n",
       "      <td>-8.620274e-01</td>\n",
       "      <td>-3.696338e-01</td>\n",
       "      <td>0.0</td>\n",
       "      <td>9.757306e-02</td>\n",
       "      <td>1.021391e-01</td>\n",
       "      <td>1.709549e-01</td>\n",
       "    </tr>\n",
       "    <tr>\n",
       "      <th>50%</th>\n",
       "      <td>1.909085e-02</td>\n",
       "      <td>4.648669e-01</td>\n",
       "      <td>-1.147674e-01</td>\n",
       "      <td>1.808485e-01</td>\n",
       "      <td>3.472611e-01</td>\n",
       "      <td>-2.358584e-01</td>\n",
       "      <td>-3.301213e-01</td>\n",
       "      <td>3.297924e-01</td>\n",
       "      <td>3.028464e-01</td>\n",
       "      <td>-8.620274e-01</td>\n",
       "      <td>-3.696338e-01</td>\n",
       "      <td>0.0</td>\n",
       "      <td>9.757306e-02</td>\n",
       "      <td>1.021391e-01</td>\n",
       "      <td>1.709549e-01</td>\n",
       "    </tr>\n",
       "    <tr>\n",
       "      <th>75%</th>\n",
       "      <td>1.909085e-02</td>\n",
       "      <td>4.648669e-01</td>\n",
       "      <td>-1.147662e-01</td>\n",
       "      <td>8.156501e-01</td>\n",
       "      <td>3.705017e-01</td>\n",
       "      <td>-2.358584e-01</td>\n",
       "      <td>-2.175712e-01</td>\n",
       "      <td>5.417830e-01</td>\n",
       "      <td>3.028464e-01</td>\n",
       "      <td>1.132219e+00</td>\n",
       "      <td>-3.696338e-01</td>\n",
       "      <td>0.0</td>\n",
       "      <td>9.757306e-02</td>\n",
       "      <td>1.021391e-01</td>\n",
       "      <td>1.709549e-01</td>\n",
       "    </tr>\n",
       "    <tr>\n",
       "      <th>max</th>\n",
       "      <td>3.003697e+00</td>\n",
       "      <td>1.593108e+00</td>\n",
       "      <td>3.782902e+00</td>\n",
       "      <td>2.225223e+00</td>\n",
       "      <td>5.419838e-01</td>\n",
       "      <td>6.335958e+00</td>\n",
       "      <td>2.912465e+00</td>\n",
       "      <td>2.120117e+00</td>\n",
       "      <td>1.895747e+00</td>\n",
       "      <td>1.182075e+00</td>\n",
       "      <td>2.730271e+00</td>\n",
       "      <td>0.0</td>\n",
       "      <td>9.757306e-02</td>\n",
       "      <td>1.021391e-01</td>\n",
       "      <td>5.913554e+00</td>\n",
       "    </tr>\n",
       "  </tbody>\n",
       "</table>\n",
       "</div>"
      ],
      "text/plain": [
       "              x6min         x7min         x8min         x9min        x10min  \\\n",
       "count  8.830000e+02  8.830000e+02  8.830000e+02  8.830000e+02  8.830000e+02   \n",
       "mean   3.148985e-15  4.961050e-15  1.153956e-14  1.559090e-17 -3.771992e-16   \n",
       "std    1.000567e+00  1.000567e+00  1.000567e+00  1.000567e+00  1.000567e+00   \n",
       "min   -1.260814e+00 -1.793175e+00 -6.610886e+00 -2.322466e+00 -4.457822e+00   \n",
       "25%   -5.445531e-01 -1.340629e+00 -1.147674e-01 -6.278206e-01  3.073164e-01   \n",
       "50%    1.909085e-02  4.648669e-01 -1.147674e-01  1.808485e-01  3.472611e-01   \n",
       "75%    1.909085e-02  4.648669e-01 -1.147662e-01  8.156501e-01  3.705017e-01   \n",
       "max    3.003697e+00  1.593108e+00  3.782902e+00  2.225223e+00  5.419838e-01   \n",
       "\n",
       "             x11min        x12min        x13min        x14min        x15min  \\\n",
       "count  8.830000e+02  8.830000e+02  8.830000e+02  8.830000e+02  8.830000e+02   \n",
       "mean  -1.873423e-17  2.560491e-15  9.201146e-16 -1.529354e-15  1.231681e-15   \n",
       "std    1.000567e+00  1.000567e+00  1.000567e+00  1.000567e+00  1.000567e+00   \n",
       "min   -7.556457e-01 -9.843699e+00 -9.893326e+00 -8.710913e+00 -1.011596e+00   \n",
       "25%   -2.837323e-01 -3.301213e-01 -7.073582e-01 -2.303922e-03 -8.620274e-01   \n",
       "50%   -2.358584e-01 -3.301213e-01  3.297924e-01  3.028464e-01 -8.620274e-01   \n",
       "75%   -2.358584e-01 -2.175712e-01  5.417830e-01  3.028464e-01  1.132219e+00   \n",
       "max    6.335958e+00  2.912465e+00  2.120117e+00  1.895747e+00  1.182075e+00   \n",
       "\n",
       "             x16min  x18min        x19min        x20min        x21min  \n",
       "count  8.830000e+02   883.0  8.830000e+02  8.830000e+02  8.830000e+02  \n",
       "mean   2.331091e-15     0.0  7.551214e-16  1.974324e-16  4.494329e-16  \n",
       "std    1.000567e+00     0.0  1.000567e+00  1.000567e+00  1.000567e+00  \n",
       "min   -8.234118e-01     0.0 -1.174679e+01 -1.013250e+01 -4.614544e+00  \n",
       "25%   -3.696338e-01     0.0  9.757306e-02  1.021391e-01  1.709549e-01  \n",
       "50%   -3.696338e-01     0.0  9.757306e-02  1.021391e-01  1.709549e-01  \n",
       "75%   -3.696338e-01     0.0  9.757306e-02  1.021391e-01  1.709549e-01  \n",
       "max    2.730271e+00     0.0  9.757306e-02  1.021391e-01  5.913554e+00  "
      ]
     },
     "execution_count": 193,
     "metadata": {},
     "output_type": "execute_result"
    }
   ],
   "source": [
    "std_der.describe()"
   ]
  },
  {
   "cell_type": "markdown",
   "metadata": {},
   "source": [
    "Remove any collinear features having correlation coefficient greater than 0.9 if there are any."
   ]
  },
  {
   "cell_type": "code",
   "execution_count": 194,
   "metadata": {},
   "outputs": [
    {
     "data": {
      "text/plain": [
       "[]"
      ]
     },
     "execution_count": 194,
     "metadata": {},
     "output_type": "execute_result"
    }
   ],
   "source": [
    "# Create correlation matrix\n",
    "corr_matrix = std_der.corr().abs()\n",
    "\n",
    "# Select upper triangle of correlation matrix\n",
    "upper = corr_matrix.where(np.triu(np.ones(corr_matrix.shape), k=1).astype(np.bool))\n",
    "\n",
    "# Find index of feature columns with correlation greater than 0.95\n",
    "to_drop = [column for column in upper.columns if any(upper[column] > 0.9)]\n",
    "to_drop"
   ]
  },
  {
   "cell_type": "code",
   "execution_count": 195,
   "metadata": {},
   "outputs": [],
   "source": [
    "#dropping any collinear columns if found\n",
    "std_der.drop(columns = to_drop, axis=1,inplace=True);\n",
    "data = std_der.copy()\n",
    "y = df['y2']"
   ]
  },
  {
   "cell_type": "markdown",
   "metadata": {},
   "source": [
    "### Univariate plots"
   ]
  },
  {
   "cell_type": "code",
   "execution_count": 196,
   "metadata": {},
   "outputs": [
    {
     "data": {
      "image/png": "[encoded data removed]",
      "text/plain": [
       "<Figure size 432x288 with 1 Axes>"
      ]
     },
     "metadata": {},
     "output_type": "display_data"
    }
   ],
   "source": [
    "#histogram of y2\n",
    "y.plot(kind='hist',bins=200);"
   ]
  },
  {
   "cell_type": "code",
   "execution_count": 197,
   "metadata": {},
   "outputs": [
    {
     "data": {
      "text/plain": [
       "<matplotlib.axes._subplots.AxesSubplot at 0xbec6978>"
      ]
     },
     "execution_count": 197,
     "metadata": {},
     "output_type": "execute_result"
    },
    {
     "data": {
      "image/png": "[encoded data removed]",
      "text/plain": [
       "<Figure size 720x360 with 4 Axes>"
      ]
     },
     "metadata": {},
     "output_type": "display_data"
    }
   ],
   "source": [
    "#histogram of sensor x6,x7,x8 and x9 minimum values\n",
    "plt.figure(figsize=(10,5))\n",
    "plt.subplot(221)\n",
    "std_der.x6min.plot(kind='hist',bins=100)\n",
    "plt.subplot(222)\n",
    "std_der.x7min.plot(kind='hist',bins=50)\n",
    "plt.subplot(223)\n",
    "std_der.x8min.plot(kind='hist',bins=50)\n",
    "plt.subplot(224)\n",
    "std_der.x9min.plot(kind='hist',bins=50)"
   ]
  },
  {
   "cell_type": "code",
   "execution_count": 198,
   "metadata": {},
   "outputs": [
    {
     "data": {
      "text/plain": [
       "<matplotlib.axes._subplots.AxesSubplot at 0x13241630>"
      ]
     },
     "execution_count": 198,
     "metadata": {},
     "output_type": "execute_result"
    },
    {
     "data": {
      "image/png": "[encoded data removed]",
      "text/plain": [
       "<Figure size 720x360 with 4 Axes>"
      ]
     },
     "metadata": {},
     "output_type": "display_data"
    }
   ],
   "source": [
    "#histogram of sensor x10,x11,x12 and x13 minimum values\n",
    "plt.figure(figsize=(10,5))\n",
    "plt.subplot(221)\n",
    "std_der.x10min.plot(kind='hist',bins=100)\n",
    "plt.subplot(222)\n",
    "std_der.x11min.plot(kind='hist',bins=100)\n",
    "plt.subplot(223)\n",
    "std_der.x12min.plot(kind='hist',bins=100)\n",
    "plt.subplot(224)\n",
    "std_der.x13min.plot(kind='hist',bins=100)"
   ]
  },
  {
   "cell_type": "code",
   "execution_count": 199,
   "metadata": {},
   "outputs": [
    {
     "data": {
      "text/plain": [
       "<matplotlib.axes._subplots.AxesSubplot at 0x133d04e0>"
      ]
     },
     "execution_count": 199,
     "metadata": {},
     "output_type": "execute_result"
    },
    {
     "data": {
      "image/png": "[encoded data removed]",
      "text/plain": [
       "<Figure size 720x360 with 4 Axes>"
      ]
     },
     "metadata": {},
     "output_type": "display_data"
    }
   ],
   "source": [
    "#histogram of sensor x14,x15,x16 and x17 minimum values\n",
    "plt.figure(figsize=(10,5))\n",
    "plt.subplot(221)\n",
    "std_der.x14min.plot(kind='hist',bins=50)\n",
    "plt.subplot(222)\n",
    "std_der.x15min.plot(kind='hist',bins=50)\n",
    "plt.subplot(223)\n",
    "std_der.x16min.plot(kind='hist',bins=50)\n",
    "plt.subplot(224)\n",
    "std_der.x18min.plot(kind='hist',bins=50)"
   ]
  },
  {
   "cell_type": "code",
   "execution_count": 132,
   "metadata": {},
   "outputs": [
    {
     "name": "stdout",
     "output_type": "stream",
     "text": [
      "RangeIndex(start=0, stop=883, step=1)\n",
      "Int64Index([  0,   1,   2,   3,   4,   5,   6,   7,   8,   9,\n",
      "            ...\n",
      "            873, 874, 875, 876, 877, 878, 879, 880, 881, 882],\n",
      "           dtype='int64', length=883)\n"
     ]
    }
   ],
   "source": [
    "data = std_der.copy()\n",
    "print(data.index)\n",
    "y = df['y2']\n",
    "print(y.index)"
   ]
  },
  {
   "cell_type": "code",
   "execution_count": 200,
   "metadata": {},
   "outputs": [],
   "source": [
    "temp = pd.concat([data,y],axis=1)\n",
    "data = temp.copy()"
   ]
  },
  {
   "cell_type": "markdown",
   "metadata": {},
   "source": [
    "As per histograms sensors x8 and x18 are centred around one value and do not have distribution so we tried to drop both but found results improved with x8 but there was more error when we dropped x18 values"
   ]
  },
  {
   "cell_type": "code",
   "execution_count": 201,
   "metadata": {},
   "outputs": [
    {
     "data": {
      "text/plain": [
       "(883, 15)"
      ]
     },
     "execution_count": 201,
     "metadata": {},
     "output_type": "execute_result"
    }
   ],
   "source": [
    "\n",
    "data.drop(columns=['x8min'],axis=1,inplace=True) #dropped already\n",
    "data.shape"
   ]
  },
  {
   "cell_type": "code",
   "execution_count": 217,
   "metadata": {},
   "outputs": [
    {
     "name": "stdout",
     "output_type": "stream",
     "text": [
      "R2 score is : 0.5167496137174541\n",
      "RMSE is : 0.10795123765003675\n"
     ]
    }
   ],
   "source": [
    "X_train1,X_test1,y_train1,y_test1 = train_test_split(data.iloc[:,:-1],data['y2'],test_size=0.05,\n",
    "                                                     random_state=3,shuffle=False)\n",
    "y_test_hat = []\n",
    "y_test_hat_1 =[]\n",
    "for idx in X_test1.index.values:   \n",
    "    rf = GradientBoostingRegressor(n_estimators = 700,random_state=30)   \n",
    "    rf.fit(X_train1, y_train1)\n",
    "    y_test_hat.extend(rf.predict(X_test1.loc[X_test1.index == idx]))\n",
    "    X_train1.loc[idx] = X_test1.loc[idx]\n",
    "    y_train1.loc[idx] = y_test1.loc[idx]\n",
    "    \n",
    "y_test_hat = pd.Series(y_test_hat, index=y_test1.index)\n",
    "\n",
    "print('R2 score is :',metrics.r2_score(y_test1,y_test_hat))\n",
    "print('RMSE is :',metrics.mean_squared_error(y_test1,y_test_hat)**0.5)"
   ]
  },
  {
   "cell_type": "code",
   "execution_count": 221,
   "metadata": {},
   "outputs": [],
   "source": [
    "X_train1,X_test1,y_train1,y_test1 = train_test_split(data.iloc[:,:-1],data['y2'],test_size=0.05,\n",
    "                                                     random_state=3,shuffle=False)"
   ]
  },
  {
   "cell_type": "code",
   "execution_count": 234,
   "metadata": {},
   "outputs": [
    {
     "data": {
      "image/png": "[encoded data removed]",
      "text/plain": [
       "<Figure size 1440x360 with 1 Axes>"
      ]
     },
     "metadata": {},
     "output_type": "display_data"
    }
   ],
   "source": [
    "plt.figure(figsize=(20,5))\n",
    "plt.plot(y_test1,'g',label='TEST DATA')\n",
    "plt.plot(y_test_hat,'b',label='PREDICTED DATA')\n",
    "plt.legend()\n",
    "plt.show()\n"
   ]
  },
  {
   "cell_type": "markdown",
   "metadata": {},
   "source": [
    "We achieved R2 score of 0.516 and RMSE of 0.107, as we can see at the end of test set, our model starts producing good result compared to initial events where y test is above 0.9 which means that may be our train data didn't have values which lies above 0.9."
   ]
  }
 ],
 "metadata": {
  "kernelspec": {
   "display_name": "Python 3",
   "language": "python",
   "name": "python3"
  },
  "language_info": {
   "codemirror_mode": {
    "name": "ipython",
    "version": 3
   },
   "file_extension": ".py",
   "mimetype": "text/x-python",
   "name": "python",
   "nbconvert_exporter": "python",
   "pygments_lexer": "ipython3",
   "version": "3.6.5"
  }
 },
 "nbformat": 4,
 "nbformat_minor": 2
}
