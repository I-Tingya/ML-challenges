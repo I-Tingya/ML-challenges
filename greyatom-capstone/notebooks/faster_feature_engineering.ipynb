{
  "nbformat": 4,
  "nbformat_minor": 0,
  "metadata": {
    "colab": {
      "name": "faster-feature-engineering.ipynb",
      "version": "0.3.2",
      "provenance": [],
      "collapsed_sections": []
    },
    "kernelspec": {
      "name": "python3",
      "display_name": "Python 3"
    }
  },
  "cells": [
    {
      "metadata": {
        "id": "uGxHEuG8DW8h",
        "colab_type": "code",
        "outputId": "b1369154-89e2-47bf-a142-6aa6388cfcbd",
        "colab": {
          "base_uri": "https://localhost:8080/",
          "height": 122
        }
      },
      "cell_type": "code",
      "source": [
        "from google.colab import drive\n",
        "drive.mount('/content/drive')"
      ],
      "execution_count": 0,
      "outputs": [
        {
          "output_type": "stream",
          "text": [
            "Go to this URL in a browser: https://accounts.google.com/o/oauth2/auth?client_id=947318989803-6bn6qk8qdgf4n4g3pfee6491hc0brc4i.apps.googleusercontent.com&redirect_uri=urn%3Aietf%3Awg%3Aoauth%3A2.0%3Aoob&scope=email%20https%3A%2F%2Fwww.googleapis.com%2Fauth%2Fdocs.test%20https%3A%2F%2Fwww.googleapis.com%2Fauth%2Fdrive%20https%3A%2F%2Fwww.googleapis.com%2Fauth%2Fdrive.photos.readonly%20https%3A%2F%2Fwww.googleapis.com%2Fauth%2Fpeopleapi.readonly&response_type=code\n",
            "\n",
            "Enter your authorization code:\n",
            "··········\n",
            "Mounted at /content/drive\n"
          ],
          "name": "stdout"
        }
      ]
    },
    {
      "metadata": {
        "id": "eN0EVpc4PwnQ",
        "colab_type": "code",
        "colab": {}
      },
      "cell_type": "code",
      "source": [
        "import pandas as pd\n",
        "import numpy as np\n",
        "\n",
        "import warnings\n",
        "warnings.filterwarnings('ignore')\n",
        "\n",
        "from tqdm import tqdm\n",
        "\n",
        "import matplotlib.pyplot as plt\n",
        "%matplotlib inline\n",
        "import seaborn as sns"
      ],
      "execution_count": 0,
      "outputs": []
    },
    {
      "metadata": {
        "id": "-zGl3Q15Qghi",
        "colab_type": "code",
        "colab": {}
      },
      "cell_type": "code",
      "source": [
        "def inttostr(x):\n",
        "  x = str(x)\n",
        "  return x[:4]+'-'+x[4:6]+'-'+x[6:]"
      ],
      "execution_count": 0,
      "outputs": []
    },
    {
      "metadata": {
        "id": "ynjFFkJCP2tC",
        "colab_type": "code",
        "colab": {}
      },
      "cell_type": "code",
      "source": [
        "launch = pd.read_csv('drive/My Drive/Capstone/CleverTap Capstone/Data/AppLaunched.csv')\n",
        "launch['Date'] = pd.to_datetime(launch['Date'].apply(lambda x:inttostr(x)))\n",
        "userids = launch.UserId.unique()"
      ],
      "execution_count": 0,
      "outputs": []
    },
    {
      "metadata": {
        "id": "Tzkis8nTxGy6",
        "colab_type": "code",
        "outputId": "e890cca3-f0bf-407a-9dc0-1d6d549e8130",
        "colab": {
          "base_uri": "https://localhost:8080/",
          "height": 34
        }
      },
      "cell_type": "code",
      "source": [
        "launch_cnt_dict = launch.groupby(['UserId']).size().to_dict()\n",
        "\n",
        "launch_days_dict = {user:0 for user in userids}\n",
        "first_entry = launch.groupby(['UserId']).first().to_dict('index')\n",
        "last_entry = launch.groupby(['UserId']).last().to_dict('index')\n",
        "\n",
        "for user in tqdm(userids):  \n",
        "  launch_days_dict[user] = (last_entry[user]['Date'] - first_entry[user]['Date']).days;\n",
        "  \n",
        "  "
      ],
      "execution_count": 0,
      "outputs": [
        {
          "output_type": "stream",
          "text": [
            "100%|██████████| 449387/449387 [00:08<00:00, 54712.14it/s]\n"
          ],
          "name": "stderr"
        }
      ]
    },
    {
      "metadata": {
        "id": "N8MtsnNCC7qS",
        "colab_type": "code",
        "colab": {}
      },
      "cell_type": "code",
      "source": [
        "registration = pd.read_csv('drive/My Drive/Capstone/CleverTap Capstone/Data/Registration.csv')\n",
        "registration.Status=registration.Status.replace({'Complete':'Completed'})\n",
        "\n",
        "last_entry = registration.groupby(['UserId']).last()\n",
        "status_dict = last_entry.loc[:,'Status'].to_dict()\n",
        "country_dict = last_entry.loc[:,'Country'].to_dict()"
      ],
      "execution_count": 0,
      "outputs": []
    },
    {
      "metadata": {
        "id": "PUI5CdNVP9eg",
        "colab_type": "code",
        "colab": {}
      },
      "cell_type": "code",
      "source": [
        "vidstarted = pd.read_csv('drive/My Drive/Capstone/CleverTap Capstone/Data/VideoStarted.csv')\n",
        "vidstarted = vidstarted[~vidstarted.UserId.isin(list(set(vidstarted.UserId.unique())-set(userids)))]"
      ],
      "execution_count": 0,
      "outputs": []
    },
    {
      "metadata": {
        "id": "a84scXd9GrlK",
        "colab_type": "code",
        "colab": {}
      },
      "cell_type": "code",
      "source": [
        "vid_watch_cnt_dict = vidstarted.groupby(['UserId']).size().to_dict()"
      ],
      "execution_count": 0,
      "outputs": []
    },
    {
      "metadata": {
        "id": "FUDGnTTeSuGA",
        "colab_type": "code",
        "colab": {}
      },
      "cell_type": "code",
      "source": [
        "genre_list = vidstarted.Genre.unique()\n",
        "category_list = vidstarted.Category.unique()\n",
        "program_list = vidstarted.ProgramType.unique()\n",
        "#user_list = vidstarted.UserId.unique()\n",
        "\n",
        "genre_dict={genre:0 for genre in genre_list}\n",
        "category_dict = {cat:0 for cat in category_list}\n",
        "program_dict = {program:0 for program in program_list}\n",
        "\n",
        "user_dict = {user:{**genre_dict,**category_dict,**program_dict} for user in userids}#user_list }  \n",
        "    "
      ],
      "execution_count": 0,
      "outputs": []
    },
    {
      "metadata": {
        "id": "1ypD4nQxQbaW",
        "colab_type": "code",
        "colab": {}
      },
      "cell_type": "code",
      "source": [
        "data_dict = vidstarted.to_dict('index');"
      ],
      "execution_count": 0,
      "outputs": []
    },
    {
      "metadata": {
        "id": "P7lzHaudSmir",
        "colab_type": "code",
        "outputId": "2a7440bd-6185-4775-be1b-ec3aae97dc46",
        "colab": {
          "base_uri": "https://localhost:8080/",
          "height": 34
        }
      },
      "cell_type": "code",
      "source": [
        "for cnt,idx in enumerate(tqdm(data_dict)):\n",
        " \n",
        "  user_dict[data_dict[idx]['UserId']][data_dict[idx]['Genre']]+=1\n",
        "  user_dict[data_dict[idx]['UserId']][data_dict[idx]['Category']]+=1\n",
        "  user_dict[data_dict[idx]['UserId']][data_dict[idx]['ProgramType']]+=1\n",
        "  "
      ],
      "execution_count": 0,
      "outputs": [
        {
          "output_type": "stream",
          "text": [
            "100%|██████████| 1796516/1796516 [00:04<00:00, 367502.09it/s]\n"
          ],
          "name": "stderr"
        }
      ]
    },
    {
      "metadata": {
        "id": "BXM8_cruWz-j",
        "colab_type": "code",
        "colab": {}
      },
      "cell_type": "code",
      "source": [
        "df = pd.DataFrame.from_dict(data=user_dict,orient='index')"
      ],
      "execution_count": 0,
      "outputs": []
    },
    {
      "metadata": {
        "id": "CKF8oMiueB96",
        "colab_type": "code",
        "colab": {}
      },
      "cell_type": "code",
      "source": [
        "launch_days_ser = pd.Series(launch_days_dict)\n",
        "status_ser = pd.Series(status_dict)\n",
        "country_ser = pd.Series(country_dict)\n",
        "vid_watch_cnt_ser = pd.Series(vid_watch_cnt_dict)\n",
        "\n",
        "df['launch_days'] = launch_days_ser\n",
        "df['status'] = status_ser\n",
        "df['country'] = country_ser\n",
        "df['vid_watch_cnt'] = vid_watch_cnt_ser"
      ],
      "execution_count": 0,
      "outputs": []
    },
    {
      "metadata": {
        "id": "3EmIG1J7ScXw",
        "colab_type": "code",
        "colab": {}
      },
      "cell_type": "code",
      "source": [
        "df.status = df.status.replace({np.nan:'Unknown'});\n",
        "df.country = df.country.replace({np.nan:'Unknown'});\n",
        "df.vid_watch_cnt = df.vid_watch_cnt.replace({np.nan:0});"
      ],
      "execution_count": 0,
      "outputs": []
    },
    {
      "metadata": {
        "id": "jIinX6lNwicv",
        "colab_type": "code",
        "colab": {}
      },
      "cell_type": "code",
      "source": [
        "final_df = df.copy()\n",
        "df = pd.get_dummies(df)"
      ],
      "execution_count": 0,
      "outputs": []
    },
    {
      "metadata": {
        "id": "qHsN47a7aEHD",
        "colab_type": "code",
        "outputId": "a5313be5-6865-4b70-d536-380d07ea23d9",
        "colab": {
          "base_uri": "https://localhost:8080/",
          "height": 352
        }
      },
      "cell_type": "code",
      "source": [
        "from sklearn.cluster import KMeans, MiniBatchKMeans\n",
        "import seaborn as sns\n",
        "km = KMeans(n_clusters=3,random_state=42)\n",
        "#km = MiniBatchKMeans(n_clusters=4)\n",
        "km.fit(df)\n",
        "labels = km.predict(df)\n",
        "\n",
        "from sklearn.decomposition import PCA\n",
        "pca = PCA(n_components=2,random_state=42)\n",
        "res = pca.fit_transform(df)\n",
        "\n",
        "import matplotlib.pyplot as plt\n",
        "%matplotlib inline\n",
        "plt.figure(figsize=(15,5))\n",
        "plt.scatter(res[:,0],res[:,1],c=labels,cmap='viridis')\n",
        "sns.despine(bottom=True, left=True)\n",
        "plt.title('segmentation by KMeans')"
      ],
      "execution_count": 0,
      "outputs": [
        {
          "output_type": "execute_result",
          "data": {
            "text/plain": [
              "Text(0.5, 1.0, 'segmentation by KMeans')"
            ]
          },
          "metadata": {
            "tags": []
          },
          "execution_count": 82
        },
        {
          "output_type": "display_data",
          "data": {
            "image/png": "[encoded data removed]",
            "text/plain": [
              "<Figure size 1080x360 with 1 Axes>"
            ]
          },
          "metadata": {
            "tags": []
          }
        }
      ]
    },
    {
      "metadata": {
        "id": "bReb4x5Han_0",
        "colab_type": "code",
        "outputId": "bebfcc92-db2b-4ef7-81f4-bb95422d39ac",
        "colab": {
          "base_uri": "https://localhost:8080/",
          "height": 85
        }
      },
      "cell_type": "code",
      "source": [
        "edf = pd.DataFrame()\n",
        "edf['predicted'] = labels\n",
        "edf.index = userids\n",
        "edf['predicted'].value_counts()\n"
      ],
      "execution_count": 0,
      "outputs": [
        {
          "output_type": "execute_result",
          "data": {
            "text/plain": [
              "0    404379\n",
              "2     38798\n",
              "1      6210\n",
              "Name: predicted, dtype: int64"
            ]
          },
          "metadata": {
            "tags": []
          },
          "execution_count": 83
        }
      ]
    },
    {
      "metadata": {
        "id": "AKc1midHbA4L",
        "colab_type": "code",
        "colab": {}
      },
      "cell_type": "code",
      "source": [
        "uninstall_unique = pd.read_csv('drive/My Drive/Capstone/CleverTap Capstone/Data/uninstall_unique.csv')\n",
        "uninstall_users = uninstall_unique.UserId.unique()\n",
        "#actual = [1 if user not in uninstall_users else 0 for user in tqdm(userids)]\n",
        "#edf['actual'] = actual\n",
        "\n",
        "temp = [1]*len(uninstall_users)\n",
        "edf['actual'] = pd.Series(temp,index=uninstall_users)\n",
        "edf['actual'] = edf['actual'].replace({np.nan:0})\n",
        "\n",
        "edf['predicted'] = labels\n",
        "edf['predicted'] = edf['predicted'].replace({2:1})"
      ],
      "execution_count": 0,
      "outputs": []
    },
    {
      "metadata": {
        "id": "gFd1-pfyc0Ye",
        "colab_type": "code",
        "outputId": "4e0ac3c3-a097-4692-9bb2-e137dc9b7713",
        "colab": {
          "base_uri": "https://localhost:8080/",
          "height": 136
        }
      },
      "cell_type": "code",
      "source": [
        "from sklearn.metrics import f1_score,accuracy_score,precision_score,confusion_matrix,recall_score\n",
        "\n",
        "f_score = f1_score(edf['actual'],edf['predicted'])\n",
        "acc_score = accuracy_score(edf['actual'],edf['predicted'])\n",
        "\n",
        "prec_score = precision_score(edf['actual'],edf['predicted'])\n",
        "rec_score = recall_score(edf['actual'],edf['predicted'])\n",
        "\n",
        "print('f1_score:'+str(f_score))\n",
        "print('recall_score:'+str(rec_score))\n",
        "print('precision_score:'+str(prec_score))\n",
        "print('accuracy_score:'+str(acc_score))\n",
        "print('confusion_matrix:')\n",
        "\n",
        "confusion_matrix(edf['actual'],edf['predicted'],labels=[0,1])"
      ],
      "execution_count": 0,
      "outputs": [
        {
          "output_type": "stream",
          "text": [
            "f1_score:0.14197767863053234\n",
            "recall_score:0.1011144845273341\n",
            "precision_score:0.23826875222182722\n",
            "accuracy_score:0.7115670902807603\n",
            "confusion_matrix:\n"
          ],
          "name": "stdout"
        },
        {
          "output_type": "execute_result",
          "data": {
            "text/plain": [
              "array([[309045,  34284],\n",
              "       [ 95334,  10724]])"
            ]
          },
          "metadata": {
            "tags": []
          },
          "execution_count": 85
        }
      ]
    },
    {
      "metadata": {
        "id": "5r0_kGqYdOC2",
        "colab_type": "code",
        "outputId": "6aec6ea5-4425-4673-a2c7-a5f26f43c725",
        "colab": {
          "base_uri": "https://localhost:8080/",
          "height": 136
        }
      },
      "cell_type": "code",
      "source": [
        "temp = [1]*449387\n",
        "f_score = f1_score(edf['actual'],temp)\n",
        "acc_score = accuracy_score(edf['actual'],temp)\n",
        "prec_score = precision_score(edf['actual'],temp)\n",
        "rec_score = recall_score(edf['actual'],temp)\n",
        "\n",
        "print('f1_score:'+str(f_score))\n",
        "print('precision_score:'+str(prec_score))\n",
        "print('recall_score:'+str(rec_score))\n",
        "print('accuracy_score:'+str(acc_score))\n",
        "print('confusion_matrix:')\n",
        "\n",
        "confusion_matrix(edf['actual'],temp,labels=[0,1])"
      ],
      "execution_count": 0,
      "outputs": [
        {
          "output_type": "stream",
          "text": [
            "f1_score:0.3818847950742198\n",
            "precision_score:0.23600593697637004\n",
            "recall_score:1.0\n",
            "accuracy_score:0.23600593697637004\n",
            "confusion_matrix:\n"
          ],
          "name": "stdout"
        },
        {
          "output_type": "execute_result",
          "data": {
            "text/plain": [
              "array([[     0, 343329],\n",
              "       [     0, 106058]])"
            ]
          },
          "metadata": {
            "tags": []
          },
          "execution_count": 86
        }
      ]
    },
    {
      "metadata": {
        "id": "icrEdW5C_b91",
        "colab_type": "code",
        "outputId": "5649accf-2a99-4290-8d67-14ed4b2171b2",
        "colab": {
          "base_uri": "https://localhost:8080/",
          "height": 68
        }
      },
      "cell_type": "code",
      "source": [
        "edf.actual.value_counts()"
      ],
      "execution_count": 0,
      "outputs": [
        {
          "output_type": "execute_result",
          "data": {
            "text/plain": [
              "0.0    343329\n",
              "1.0    106058\n",
              "Name: actual, dtype: int64"
            ]
          },
          "metadata": {
            "tags": []
          },
          "execution_count": 87
        }
      ]
    }
  ]
}