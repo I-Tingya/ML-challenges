{
 "cells": [
  {
   "cell_type": "markdown",
   "metadata": {},
   "source": [
    "## GOAL\n",
    "\n",
    "Dataset is having data of 54 sensors taken at 7 intervals.Goal of this notebook is to predict y1 which is performance metric of the batches. We have to do the predictions of y1 with shuffling the dataset and also without shuffling while doing train test split."
   ]
  },
  {
   "cell_type": "code",
   "execution_count": 1,
   "metadata": {},
   "outputs": [],
   "source": [
    "#import libraries required for wrangling,preprocessing and modelling\n",
    "import numpy as np\n",
    "import pandas as pd\n",
    "import matplotlib.pyplot as plt\n",
    "%matplotlib inline\n",
    "import seaborn as sns\n",
    "\n",
    "# Imputing missing values and scaling values\n",
    "from sklearn.preprocessing import Imputer, MinMaxScaler\n",
    "\n",
    "# Machine Learning Models\n",
    "from sklearn.linear_model import LinearRegression\n",
    "from sklearn.ensemble import RandomForestRegressor, GradientBoostingRegressor\n",
    "from sklearn.svm import SVR\n",
    "from sklearn.neighbors import KNeighborsRegressor\n",
    "from xgboost import XGBRegressor\n",
    "# Hyperparameter tuning\n",
    "from sklearn.model_selection import RandomizedSearchCV, GridSearchCV, train_test_split\n",
    "from sklearn.model_selection import cross_val_score\n",
    "from sklearn.preprocessing import PolynomialFeatures, StandardScaler\n",
    "from sklearn import metrics\n",
    "import warnings\n",
    "warnings.filterwarnings('ignore')"
   ]
  },
  {
   "cell_type": "code",
   "execution_count": 2,
   "metadata": {},
   "outputs": [],
   "source": [
    "df = pd.read_csv('data.csv',index_col=0);"
   ]
  },
  {
   "cell_type": "markdown",
   "metadata": {},
   "source": [
    "This is sensor data for 54 sensors taken at different time intervals. Usually performance of system is best described by either max or minimum readings from sensors. While solving this problem we tried with different discriptive stats like 'min', 'max','std' of the sensor values and found minimum works the best.Below cell creats new data frame `der_df` which contains 'min' of recorded values of all sensors.\n",
    "<br>\n",
    "<br>\n",
    "As given in the metadata by domain experts sensors x0 and x5 are important for prediction of y1, while solving the problem we observed that we got better results when we included all the sensors than only x0 and x5."
   ]
  },
  {
   "cell_type": "code",
   "execution_count": 3,
   "metadata": {},
   "outputs": [],
   "source": [
    "der_df = pd.DataFrame()\n",
    "for i in range(0,54):\n",
    "    temp = pd.concat([df['x'+str(i)+'_t0'],df['x'+str(i)+'_t1'],df['x'+str(i)+'_t2'],\n",
    "                      df['x'+str(i)+'_t3'],df['x'+str(i)+'_t4'],\n",
    "                      df['x'+str(i)+'_t5'],df['x'+str(i)+'_t6']],axis=1)\n",
    "    temp = temp.T.describe()\n",
    "    der_df['x'+str(i)+'min'] = temp.loc['min']"
   ]
  },
  {
   "cell_type": "markdown",
   "metadata": {},
   "source": [
    "We did standard normalization before as best practise since some algorith which uses eucliden distances like k means, knn requires standardization."
   ]
  },
  {
   "cell_type": "code",
   "execution_count": 4,
   "metadata": {},
   "outputs": [],
   "source": [
    "sc = StandardScaler()\n",
    "std_der = pd.DataFrame(sc.fit_transform(der_df),columns=der_df.columns)"
   ]
  },
  {
   "cell_type": "code",
   "execution_count": 15,
   "metadata": {},
   "outputs": [
    {
     "data": {
      "text/html": [
       "<div>\n",
       "<style scoped>\n",
       "    .dataframe tbody tr th:only-of-type {\n",
       "        vertical-align: middle;\n",
       "    }\n",
       "\n",
       "    .dataframe tbody tr th {\n",
       "        vertical-align: top;\n",
       "    }\n",
       "\n",
       "    .dataframe thead th {\n",
       "        text-align: right;\n",
       "    }\n",
       "</style>\n",
       "<table border=\"1\" class=\"dataframe\">\n",
       "  <thead>\n",
       "    <tr style=\"text-align: right;\">\n",
       "      <th></th>\n",
       "      <th>x0min</th>\n",
       "      <th>x1min</th>\n",
       "      <th>x2min</th>\n",
       "      <th>x3min</th>\n",
       "      <th>x4min</th>\n",
       "      <th>x5min</th>\n",
       "      <th>x6min</th>\n",
       "      <th>x7min</th>\n",
       "      <th>x8min</th>\n",
       "      <th>x9min</th>\n",
       "      <th>...</th>\n",
       "      <th>x42min</th>\n",
       "      <th>x43min</th>\n",
       "      <th>x45min</th>\n",
       "      <th>x47min</th>\n",
       "      <th>x48min</th>\n",
       "      <th>x49min</th>\n",
       "      <th>x50min</th>\n",
       "      <th>x51min</th>\n",
       "      <th>x52min</th>\n",
       "      <th>x53min</th>\n",
       "    </tr>\n",
       "  </thead>\n",
       "  <tbody>\n",
       "    <tr>\n",
       "      <th>count</th>\n",
       "      <td>8.830000e+02</td>\n",
       "      <td>8.830000e+02</td>\n",
       "      <td>8.830000e+02</td>\n",
       "      <td>8.830000e+02</td>\n",
       "      <td>8.830000e+02</td>\n",
       "      <td>8.830000e+02</td>\n",
       "      <td>8.830000e+02</td>\n",
       "      <td>8.830000e+02</td>\n",
       "      <td>8.830000e+02</td>\n",
       "      <td>8.830000e+02</td>\n",
       "      <td>...</td>\n",
       "      <td>8.830000e+02</td>\n",
       "      <td>8.830000e+02</td>\n",
       "      <td>883.0</td>\n",
       "      <td>8.830000e+02</td>\n",
       "      <td>8.830000e+02</td>\n",
       "      <td>8.830000e+02</td>\n",
       "      <td>8.830000e+02</td>\n",
       "      <td>8.830000e+02</td>\n",
       "      <td>8.830000e+02</td>\n",
       "      <td>8.830000e+02</td>\n",
       "    </tr>\n",
       "    <tr>\n",
       "      <th>mean</th>\n",
       "      <td>8.068606e-16</td>\n",
       "      <td>-5.972321e-18</td>\n",
       "      <td>1.152972e-16</td>\n",
       "      <td>-2.426648e-16</td>\n",
       "      <td>-2.214914e-15</td>\n",
       "      <td>2.129290e-16</td>\n",
       "      <td>3.148985e-15</td>\n",
       "      <td>4.961050e-15</td>\n",
       "      <td>1.153956e-14</td>\n",
       "      <td>1.559090e-17</td>\n",
       "      <td>...</td>\n",
       "      <td>5.069557e-16</td>\n",
       "      <td>-1.180634e-15</td>\n",
       "      <td>0.0</td>\n",
       "      <td>-2.099742e-16</td>\n",
       "      <td>-5.551115e-17</td>\n",
       "      <td>-5.029323e-17</td>\n",
       "      <td>-2.795046e-16</td>\n",
       "      <td>3.365560e-16</td>\n",
       "      <td>-2.385534e-15</td>\n",
       "      <td>-6.644364e-16</td>\n",
       "    </tr>\n",
       "    <tr>\n",
       "      <th>std</th>\n",
       "      <td>1.000567e+00</td>\n",
       "      <td>1.000567e+00</td>\n",
       "      <td>1.000567e+00</td>\n",
       "      <td>1.000567e+00</td>\n",
       "      <td>1.000567e+00</td>\n",
       "      <td>1.000567e+00</td>\n",
       "      <td>1.000567e+00</td>\n",
       "      <td>1.000567e+00</td>\n",
       "      <td>1.000567e+00</td>\n",
       "      <td>1.000567e+00</td>\n",
       "      <td>...</td>\n",
       "      <td>1.000567e+00</td>\n",
       "      <td>1.000567e+00</td>\n",
       "      <td>0.0</td>\n",
       "      <td>1.000567e+00</td>\n",
       "      <td>1.000567e+00</td>\n",
       "      <td>1.000567e+00</td>\n",
       "      <td>1.000567e+00</td>\n",
       "      <td>1.000567e+00</td>\n",
       "      <td>1.000567e+00</td>\n",
       "      <td>1.000567e+00</td>\n",
       "    </tr>\n",
       "    <tr>\n",
       "      <th>min</th>\n",
       "      <td>-1.789816e+01</td>\n",
       "      <td>-2.343543e+00</td>\n",
       "      <td>-1.325142e+01</td>\n",
       "      <td>-3.615144e+00</td>\n",
       "      <td>-1.893430e+00</td>\n",
       "      <td>-6.709089e+00</td>\n",
       "      <td>-1.260814e+00</td>\n",
       "      <td>-1.793175e+00</td>\n",
       "      <td>-6.610886e+00</td>\n",
       "      <td>-2.322466e+00</td>\n",
       "      <td>...</td>\n",
       "      <td>-3.957319e+00</td>\n",
       "      <td>-1.148189e+00</td>\n",
       "      <td>0.0</td>\n",
       "      <td>-1.194164e+00</td>\n",
       "      <td>-1.395508e+00</td>\n",
       "      <td>-1.150064e+00</td>\n",
       "      <td>-1.944351e+00</td>\n",
       "      <td>-4.845155e+00</td>\n",
       "      <td>-4.719680e+00</td>\n",
       "      <td>-4.310191e+00</td>\n",
       "    </tr>\n",
       "    <tr>\n",
       "      <th>25%</th>\n",
       "      <td>-3.291533e-01</td>\n",
       "      <td>-5.100069e-01</td>\n",
       "      <td>7.546364e-02</td>\n",
       "      <td>-2.719636e-01</td>\n",
       "      <td>-5.675792e-01</td>\n",
       "      <td>-3.440841e-02</td>\n",
       "      <td>-5.445531e-01</td>\n",
       "      <td>-1.340629e+00</td>\n",
       "      <td>-1.147674e-01</td>\n",
       "      <td>-6.278206e-01</td>\n",
       "      <td>...</td>\n",
       "      <td>2.526963e-01</td>\n",
       "      <td>-1.148189e+00</td>\n",
       "      <td>0.0</td>\n",
       "      <td>-1.194164e+00</td>\n",
       "      <td>-4.997051e-01</td>\n",
       "      <td>-8.625368e-01</td>\n",
       "      <td>-3.938112e-01</td>\n",
       "      <td>3.565736e-02</td>\n",
       "      <td>-1.069049e-01</td>\n",
       "      <td>-2.510550e-01</td>\n",
       "    </tr>\n",
       "    <tr>\n",
       "      <th>50%</th>\n",
       "      <td>2.488954e-01</td>\n",
       "      <td>-2.019732e-01</td>\n",
       "      <td>7.546364e-02</td>\n",
       "      <td>2.516164e-02</td>\n",
       "      <td>9.534609e-02</td>\n",
       "      <td>3.464123e-01</td>\n",
       "      <td>1.909085e-02</td>\n",
       "      <td>4.648669e-01</td>\n",
       "      <td>-1.147674e-01</td>\n",
       "      <td>1.808485e-01</td>\n",
       "      <td>...</td>\n",
       "      <td>2.526963e-01</td>\n",
       "      <td>8.397536e-01</td>\n",
       "      <td>0.0</td>\n",
       "      <td>8.219864e-01</td>\n",
       "      <td>-4.606955e-01</td>\n",
       "      <td>-3.939965e-01</td>\n",
       "      <td>5.869846e-01</td>\n",
       "      <td>2.203390e-01</td>\n",
       "      <td>4.503960e-01</td>\n",
       "      <td>3.878022e-01</td>\n",
       "    </tr>\n",
       "    <tr>\n",
       "      <th>75%</th>\n",
       "      <td>4.787609e-01</td>\n",
       "      <td>1.029931e+00</td>\n",
       "      <td>7.546364e-02</td>\n",
       "      <td>8.634751e-01</td>\n",
       "      <td>7.582746e-01</td>\n",
       "      <td>4.525681e-01</td>\n",
       "      <td>1.909085e-02</td>\n",
       "      <td>4.648669e-01</td>\n",
       "      <td>-1.147662e-01</td>\n",
       "      <td>8.156501e-01</td>\n",
       "      <td>...</td>\n",
       "      <td>2.526963e-01</td>\n",
       "      <td>8.397536e-01</td>\n",
       "      <td>0.0</td>\n",
       "      <td>8.219864e-01</td>\n",
       "      <td>-2.914912e-01</td>\n",
       "      <td>9.482343e-01</td>\n",
       "      <td>6.888880e-01</td>\n",
       "      <td>3.867201e-01</td>\n",
       "      <td>4.503960e-01</td>\n",
       "      <td>6.156194e-01</td>\n",
       "    </tr>\n",
       "    <tr>\n",
       "      <th>max</th>\n",
       "      <td>1.628154e+00</td>\n",
       "      <td>1.938828e+00</td>\n",
       "      <td>7.546364e-02</td>\n",
       "      <td>1.238146e+00</td>\n",
       "      <td>2.084125e+00</td>\n",
       "      <td>1.065673e+00</td>\n",
       "      <td>3.003697e+00</td>\n",
       "      <td>1.593108e+00</td>\n",
       "      <td>3.782902e+00</td>\n",
       "      <td>2.225223e+00</td>\n",
       "      <td>...</td>\n",
       "      <td>2.526963e-01</td>\n",
       "      <td>2.827696e+00</td>\n",
       "      <td>0.0</td>\n",
       "      <td>2.838136e+00</td>\n",
       "      <td>2.449014e+00</td>\n",
       "      <td>1.699735e+00</td>\n",
       "      <td>9.495898e-01</td>\n",
       "      <td>4.879642e-01</td>\n",
       "      <td>1.223029e+00</td>\n",
       "      <td>3.266611e+00</td>\n",
       "    </tr>\n",
       "  </tbody>\n",
       "</table>\n",
       "<p>8 rows × 52 columns</p>\n",
       "</div>"
      ],
      "text/plain": [
       "              x0min         x1min         x2min         x3min         x4min  \\\n",
       "count  8.830000e+02  8.830000e+02  8.830000e+02  8.830000e+02  8.830000e+02   \n",
       "mean   8.068606e-16 -5.972321e-18  1.152972e-16 -2.426648e-16 -2.214914e-15   \n",
       "std    1.000567e+00  1.000567e+00  1.000567e+00  1.000567e+00  1.000567e+00   \n",
       "min   -1.789816e+01 -2.343543e+00 -1.325142e+01 -3.615144e+00 -1.893430e+00   \n",
       "25%   -3.291533e-01 -5.100069e-01  7.546364e-02 -2.719636e-01 -5.675792e-01   \n",
       "50%    2.488954e-01 -2.019732e-01  7.546364e-02  2.516164e-02  9.534609e-02   \n",
       "75%    4.787609e-01  1.029931e+00  7.546364e-02  8.634751e-01  7.582746e-01   \n",
       "max    1.628154e+00  1.938828e+00  7.546364e-02  1.238146e+00  2.084125e+00   \n",
       "\n",
       "              x5min         x6min         x7min         x8min         x9min  \\\n",
       "count  8.830000e+02  8.830000e+02  8.830000e+02  8.830000e+02  8.830000e+02   \n",
       "mean   2.129290e-16  3.148985e-15  4.961050e-15  1.153956e-14  1.559090e-17   \n",
       "std    1.000567e+00  1.000567e+00  1.000567e+00  1.000567e+00  1.000567e+00   \n",
       "min   -6.709089e+00 -1.260814e+00 -1.793175e+00 -6.610886e+00 -2.322466e+00   \n",
       "25%   -3.440841e-02 -5.445531e-01 -1.340629e+00 -1.147674e-01 -6.278206e-01   \n",
       "50%    3.464123e-01  1.909085e-02  4.648669e-01 -1.147674e-01  1.808485e-01   \n",
       "75%    4.525681e-01  1.909085e-02  4.648669e-01 -1.147662e-01  8.156501e-01   \n",
       "max    1.065673e+00  3.003697e+00  1.593108e+00  3.782902e+00  2.225223e+00   \n",
       "\n",
       "           ...             x42min        x43min  x45min        x47min  \\\n",
       "count      ...       8.830000e+02  8.830000e+02   883.0  8.830000e+02   \n",
       "mean       ...       5.069557e-16 -1.180634e-15     0.0 -2.099742e-16   \n",
       "std        ...       1.000567e+00  1.000567e+00     0.0  1.000567e+00   \n",
       "min        ...      -3.957319e+00 -1.148189e+00     0.0 -1.194164e+00   \n",
       "25%        ...       2.526963e-01 -1.148189e+00     0.0 -1.194164e+00   \n",
       "50%        ...       2.526963e-01  8.397536e-01     0.0  8.219864e-01   \n",
       "75%        ...       2.526963e-01  8.397536e-01     0.0  8.219864e-01   \n",
       "max        ...       2.526963e-01  2.827696e+00     0.0  2.838136e+00   \n",
       "\n",
       "             x48min        x49min        x50min        x51min        x52min  \\\n",
       "count  8.830000e+02  8.830000e+02  8.830000e+02  8.830000e+02  8.830000e+02   \n",
       "mean  -5.551115e-17 -5.029323e-17 -2.795046e-16  3.365560e-16 -2.385534e-15   \n",
       "std    1.000567e+00  1.000567e+00  1.000567e+00  1.000567e+00  1.000567e+00   \n",
       "min   -1.395508e+00 -1.150064e+00 -1.944351e+00 -4.845155e+00 -4.719680e+00   \n",
       "25%   -4.997051e-01 -8.625368e-01 -3.938112e-01  3.565736e-02 -1.069049e-01   \n",
       "50%   -4.606955e-01 -3.939965e-01  5.869846e-01  2.203390e-01  4.503960e-01   \n",
       "75%   -2.914912e-01  9.482343e-01  6.888880e-01  3.867201e-01  4.503960e-01   \n",
       "max    2.449014e+00  1.699735e+00  9.495898e-01  4.879642e-01  1.223029e+00   \n",
       "\n",
       "             x53min  \n",
       "count  8.830000e+02  \n",
       "mean  -6.644364e-16  \n",
       "std    1.000567e+00  \n",
       "min   -4.310191e+00  \n",
       "25%   -2.510550e-01  \n",
       "50%    3.878022e-01  \n",
       "75%    6.156194e-01  \n",
       "max    3.266611e+00  \n",
       "\n",
       "[8 rows x 52 columns]"
      ]
     },
     "execution_count": 15,
     "metadata": {},
     "output_type": "execute_result"
    }
   ],
   "source": [
    "std_der.describe()"
   ]
  },
  {
   "cell_type": "markdown",
   "metadata": {},
   "source": [
    "Remove any collinear features having correlation coefficient greater than 0.9 if there are any."
   ]
  },
  {
   "cell_type": "code",
   "execution_count": 5,
   "metadata": {},
   "outputs": [
    {
     "data": {
      "text/plain": [
       "['x44min', 'x46min']"
      ]
     },
     "execution_count": 5,
     "metadata": {},
     "output_type": "execute_result"
    }
   ],
   "source": [
    "# Create correlation matrix\n",
    "corr_matrix = std_der.corr().abs()\n",
    "\n",
    "# Select upper triangle of correlation matrix\n",
    "upper = corr_matrix.where(np.triu(np.ones(corr_matrix.shape), k=1).astype(np.bool))\n",
    "\n",
    "# Find index of feature columns with correlation greater than 0.95\n",
    "to_drop = [column for column in upper.columns if any(upper[column] > 0.9)]\n",
    "to_drop"
   ]
  },
  {
   "cell_type": "code",
   "execution_count": 6,
   "metadata": {},
   "outputs": [],
   "source": [
    "#dropping any collinear columns if found\n",
    "std_der.drop(columns = to_drop, axis=1,inplace=True);\n",
    "data = std_der.copy()"
   ]
  },
  {
   "cell_type": "markdown",
   "metadata": {},
   "source": [
    "We observed when we removed outliers from x0 and x5, predictions were better. Below two cells removes outliers from x0 and x5."
   ]
  },
  {
   "cell_type": "code",
   "execution_count": 7,
   "metadata": {},
   "outputs": [],
   "source": [
    "#get quartiles\n",
    "first_quartile = data['x0min'].describe()['25%']\n",
    "third_quartile = data['x0min'].describe()['75%']\n",
    "\n",
    "#interquartile range\n",
    "iqr = third_quartile - first_quartile\n",
    "\n",
    "#remove outliers\n",
    "data = data[(data['x0min'] > (first_quartile - 3 * iqr)) &\n",
    "            (data['x0min'] < (third_quartile + 3 * iqr))]"
   ]
  },
  {
   "cell_type": "code",
   "execution_count": 8,
   "metadata": {},
   "outputs": [],
   "source": [
    "first_quartile = data['x5min'].describe()['25%']\n",
    "third_quartile = data['x5min'].describe()['75%']\n",
    "\n",
    "#interquartile range\n",
    "iqr = third_quartile - first_quartile\n",
    "\n",
    "#remove outliers\n",
    "data = data[(data['x5min'] > (first_quartile - 3 * iqr)) &\n",
    "            (data['x5min'] < (third_quartile + 3 * iqr))]"
   ]
  },
  {
   "cell_type": "code",
   "execution_count": 16,
   "metadata": {},
   "outputs": [],
   "source": [
    "#indexing 'y1' as per 'data' since we have removed outliers\n",
    "y = df['y1']\n",
    "y = y[data.index]"
   ]
  },
  {
   "cell_type": "markdown",
   "metadata": {},
   "source": [
    "### Prediction of y1 with shuffled train test split\n",
    "After hyper parameter tuning we found Random forest works best, below cell implements the random forest with shuffled train test split.  "
   ]
  },
  {
   "cell_type": "code",
   "execution_count": 10,
   "metadata": {},
   "outputs": [
    {
     "name": "stdout",
     "output_type": "stream",
     "text": [
      "R2 Score is:  0.793900508385075\n",
      "RMSE is : 0.012484088229682439\n"
     ]
    }
   ],
   "source": [
    "X_train,X_test,y_train,y_test = train_test_split(data,y,test_size=0.05,random_state=29,shuffle=True)\n",
    "mod = RandomForestRegressor(max_depth=20,n_estimators=300,random_state=9)\n",
    "mod.fit(X_train,y_train)\n",
    "yp = mod.predict(X_test)\n",
    "print('R2 Score is: ',metrics.r2_score(y_test,yp))\n",
    "print('RMSE is :',metrics.mean_squared_error(y_test,yp)**0.5)"
   ]
  },
  {
   "cell_type": "markdown",
   "metadata": {},
   "source": [
    "R2 Score for y1 prediction with shuffle is 0.79<br>\n",
    "RMSE for y1 prediction with shuffle is 0.012"
   ]
  },
  {
   "cell_type": "code",
   "execution_count": 11,
   "metadata": {},
   "outputs": [
    {
     "data": {
      "image/png": "[encoded data removed]",
      "text/plain": [
       "<Figure size 720x360 with 1 Axes>"
      ]
     },
     "metadata": {},
     "output_type": "display_data"
    }
   ],
   "source": [
    "y_test = y_test.reset_index(drop=True)\n",
    "yp = pd.Series(yp)\n",
    "plt.figure(figsize=(10,5))\n",
    "plt.plot(yp,'r',label='PREDICTED VALUES')\n",
    "plt.plot(y_test,'b',label='ACTUAL VALUES')\n",
    "plt.legend()\n",
    "plt.show()"
   ]
  },
  {
   "cell_type": "markdown",
   "metadata": {},
   "source": [
    "### Prediction of y1 with non shuffled train test split and using work forward validation\n",
    "\n",
    "We tried many approaches like using average of multiple algorithms, training another algorithms on predictions of previous algorithm etc. to get better predictions but nothing worked. May be more feature engineering is required for this case."
   ]
  },
  {
   "cell_type": "code",
   "execution_count": 13,
   "metadata": {},
   "outputs": [
    {
     "name": "stdout",
     "output_type": "stream",
     "text": [
      "R2 SCORE is : 0.04665748714822415\n",
      "RMSE is : 0.01559307394116086\n"
     ]
    }
   ],
   "source": [
    "X_train1,X_test1,y_train1,y_test1 = train_test_split(data,y,test_size=0.05,random_state=42,shuffle=False)\n",
    "y_test_hat = []\n",
    "\n",
    "for idx in X_test1.index.values:\n",
    "    # You may use any model of your choice here.\n",
    "    rf = RandomForestRegressor(n_estimators = 300, max_depth = 17,random_state=9)\n",
    "    rf.fit(X_train1, y_train1)\n",
    "    y_test_hat.extend(rf.predict(X_test1.loc[X_test1.index == idx]))\n",
    "    X_train1.loc[idx] = X_test1.loc[idx]\n",
    "    y_train1.loc[idx] = y_test1.loc[idx]\n",
    "    \n",
    "y_test_hat = pd.Series(y_test_hat, index=y_test1.index)\n",
    "\n",
    "print('R2 SCORE is :',metrics.r2_score(y_test1,y_test_hat))\n",
    "print('RMSE is :',metrics.mean_squared_error(y_test1,y_test_hat)**0.5)\n"
   ]
  },
  {
   "cell_type": "markdown",
   "metadata": {},
   "source": [
    "R2 Score is 0.046<br>\n",
    "RMSE is 0.015"
   ]
  },
  {
   "cell_type": "code",
   "execution_count": 14,
   "metadata": {},
   "outputs": [
    {
     "data": {
      "image/png": "[encoded data removed]",
      "text/plain": [
       "<Figure size 720x360 with 1 Axes>"
      ]
     },
     "metadata": {},
     "output_type": "display_data"
    }
   ],
   "source": [
    "plt.figure(figsize=(10,5))\n",
    "plt.plot(y_test_hat,'r',label='PREDICTED VALUES')\n",
    "plt.plot(y_test1,'b',label='ACTUAL VALUES')\n",
    "plt.legend()\n",
    "plt.show()"
   ]
  }
 ],
 "metadata": {
  "kernelspec": {
   "display_name": "Python 3",
   "language": "python",
   "name": "python3"
  },
  "language_info": {
   "codemirror_mode": {
    "name": "ipython",
    "version": 3
   },
   "file_extension": ".py",
   "mimetype": "text/x-python",
   "name": "python",
   "nbconvert_exporter": "python",
   "pygments_lexer": "ipython3",
   "version": "3.6.5"
  }
 },
 "nbformat": 4,
 "nbformat_minor": 2
}
